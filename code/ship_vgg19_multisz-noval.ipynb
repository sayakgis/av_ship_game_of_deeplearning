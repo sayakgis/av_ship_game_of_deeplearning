{
 "cells": [
  {
   "cell_type": "markdown",
   "metadata": {},
   "source": [
    "## Vgg19 muti sz"
   ]
  },
  {
   "cell_type": "code",
   "execution_count": 1,
   "metadata": {},
   "outputs": [],
   "source": [
    "%reload_ext autoreload\n",
    "%autoreload 2\n",
    "%matplotlib inline"
   ]
  },
  {
   "cell_type": "code",
   "execution_count": 2,
   "metadata": {},
   "outputs": [],
   "source": [
    "# Import basic libraries\n",
    "import matplotlib.pyplot as plt\n",
    "import numpy as np\n",
    "import os,shutil\n",
    "\n",
    "# Fastai reloads\n",
    "%reload_ext autoreload\n",
    "%autoreload 2\n",
    "%matplotlib inline\n",
    "\n",
    "#Impost fastai\n",
    "from fastai.vision import *\n",
    "from fastai.metrics import error_rate,accuracy\n",
    "from fastai.callbacks import *\n",
    "from fastai.imports import *\n",
    "from fastai.callbacks.mem import PeakMemMetric\n",
    "\n",
    "from pathlib import Path\n",
    "\n",
    "from torchvision.models import *\n",
    "from torch.nn import CrossEntropyLoss\n",
    "import cv2\n",
    "#import pretrainedmodels\n",
    "\n",
    "from sklearn.metrics import accuracy_score,f1_score,confusion_matrix,classification_report\n",
    "import seaborn as sns"
   ]
  },
  {
   "cell_type": "code",
   "execution_count": 3,
   "metadata": {},
   "outputs": [],
   "source": [
    "PATH=Path('data/')"
   ]
  },
  {
   "cell_type": "markdown",
   "metadata": {},
   "source": [
    "## Create Data block (Try with 1/4 size)"
   ]
  },
  {
   "cell_type": "code",
   "execution_count": 4,
   "metadata": {},
   "outputs": [],
   "source": [
    "tfms=get_transforms(max_rotate=20,max_zoom=1.3,p_lighting=.8,\n",
    "                    xtra_tfms=[cutout(n_holes=(1,4), length=(5, 10), p=.75), jitter(magnitude=0.005, p=.25)])"
   ]
  },
  {
   "cell_type": "code",
   "execution_count": 5,
   "metadata": {},
   "outputs": [],
   "source": [
    "img=open_image(PATH/'train_resized'/os.listdir(PATH/'train_resized')[1])"
   ]
  },
  {
   "cell_type": "code",
   "execution_count": 6,
   "metadata": {},
   "outputs": [
    {
     "data": {
      "text/plain": [
       "torch.Size([3, 150, 210])"
      ]
     },
     "execution_count": 6,
     "metadata": {},
     "output_type": "execute_result"
    }
   ],
   "source": [
    "img.shape"
   ]
  },
  {
   "cell_type": "code",
   "execution_count": 7,
   "metadata": {},
   "outputs": [
    {
     "data": {
      "text/plain": [
       "array([150, 210])"
      ]
     },
     "execution_count": 7,
     "metadata": {},
     "output_type": "execute_result"
    }
   ],
   "source": [
    "src_size=np.array(img.shape[1:]);src_size"
   ]
  },
  {
   "cell_type": "code",
   "execution_count": 8,
   "metadata": {},
   "outputs": [],
   "source": [
    "np.random.seed(42)\n",
    "src = (ImageList.from_csv(PATH, 'train.csv', folder='train_resized')\n",
    "       .split_by_rand_pct(0)\n",
    "       .label_from_df(label_delim=' ')\n",
    "      .add_test_folder('test_resized'))"
   ]
  },
  {
   "cell_type": "code",
   "execution_count": 9,
   "metadata": {},
   "outputs": [],
   "source": [
    "data = (src.transform(tfms, size=src_size//4)\n",
    "        .databunch(bs=256).normalize(imagenet_stats))        "
   ]
  },
  {
   "cell_type": "code",
   "execution_count": 10,
   "metadata": {},
   "outputs": [
    {
     "data": {
      "text/plain": [
       "['1', '2', '3', '4', '5']"
      ]
     },
     "execution_count": 10,
     "metadata": {},
     "output_type": "execute_result"
    }
   ],
   "source": [
    "data.classes"
   ]
  },
  {
   "cell_type": "code",
   "execution_count": 11,
   "metadata": {},
   "outputs": [
    {
     "data": {
      "text/plain": [
       "ImageDataBunch;\n",
       "\n",
       "Train: LabelList (6252 items)\n",
       "x: ImageList\n",
       "Image (3, 37, 52),Image (3, 37, 52),Image (3, 37, 52),Image (3, 37, 52),Image (3, 37, 52)\n",
       "y: MultiCategoryList\n",
       "1,1,2,3,2\n",
       "Path: data;\n",
       "\n",
       "Valid: LabelList (0 items)\n",
       "x: ImageList\n",
       "\n",
       "y: MultiCategoryList\n",
       "\n",
       "Path: data;\n",
       "\n",
       "Test: LabelList (2680 items)\n",
       "x: ImageList\n",
       "Image (3, 37, 52),Image (3, 37, 52),Image (3, 37, 52),Image (3, 37, 52),Image (3, 37, 52)\n",
       "y: EmptyLabelList\n",
       ",,,,\n",
       "Path: data"
      ]
     },
     "execution_count": 11,
     "metadata": {},
     "output_type": "execute_result"
    }
   ],
   "source": [
    "data"
   ]
  },
  {
   "cell_type": "markdown",
   "metadata": {},
   "source": [
    "## Try with Vgg19"
   ]
  },
  {
   "cell_type": "code",
   "execution_count": 91,
   "metadata": {},
   "outputs": [],
   "source": [
    "#f1 = partial(fbeta, thresh=0.2, beta = 1)"
   ]
  },
  {
   "cell_type": "code",
   "execution_count": 11,
   "metadata": {},
   "outputs": [],
   "source": [
    "metrics_custom=[fbeta,accuracy_thresh]"
   ]
  },
  {
   "cell_type": "code",
   "execution_count": 13,
   "metadata": {},
   "outputs": [],
   "source": [
    "learn=cnn_learner(data,models.vgg19_bn,metrics=metrics_custom)"
   ]
  },
  {
   "cell_type": "code",
   "execution_count": 14,
   "metadata": {},
   "outputs": [
    {
     "data": {
      "text/html": [],
      "text/plain": [
       "<IPython.core.display.HTML object>"
      ]
     },
     "metadata": {},
     "output_type": "display_data"
    },
    {
     "name": "stdout",
     "output_type": "stream",
     "text": [
      "LR Finder is complete, type {learner_name}.recorder.plot() to see the graph.\n"
     ]
    }
   ],
   "source": [
    "learn.lr_find()"
   ]
  },
  {
   "cell_type": "code",
   "execution_count": 15,
   "metadata": {},
   "outputs": [
    {
     "data": {
      "image/png": "[encoded data removed]",
      "text/plain": [
       "<Figure size 432x288 with 1 Axes>"
      ]
     },
     "metadata": {
      "needs_background": "light"
     },
     "output_type": "display_data"
    }
   ],
   "source": [
    "learn.recorder.plot()"
   ]
  },
  {
   "cell_type": "code",
   "execution_count": 16,
   "metadata": {},
   "outputs": [],
   "source": [
    "lr=2e-2"
   ]
  },
  {
   "cell_type": "code",
   "execution_count": 17,
   "metadata": {},
   "outputs": [
    {
     "data": {
      "text/html": [
       "<table border=\"1\" class=\"dataframe\">\n",
       "  <thead>\n",
       "    <tr style=\"text-align: left;\">\n",
       "      <th>epoch</th>\n",
       "      <th>train_loss</th>\n",
       "      <th>valid_loss</th>\n",
       "      <th>fbeta</th>\n",
       "      <th>accuracy_thresh</th>\n",
       "      <th>time</th>\n",
       "    </tr>\n",
       "  </thead>\n",
       "  <tbody>\n",
       "    <tr>\n",
       "      <td>0</td>\n",
       "      <td>0.713830</td>\n",
       "      <td>#na#</td>\n",
       "      <td>00:04</td>\n",
       "    </tr>\n",
       "    <tr>\n",
       "      <td>1</td>\n",
       "      <td>0.576049</td>\n",
       "      <td>#na#</td>\n",
       "      <td>00:04</td>\n",
       "    </tr>\n",
       "    <tr>\n",
       "      <td>2</td>\n",
       "      <td>0.498250</td>\n",
       "      <td>#na#</td>\n",
       "      <td>00:04</td>\n",
       "    </tr>\n",
       "    <tr>\n",
       "      <td>3</td>\n",
       "      <td>0.445868</td>\n",
       "      <td>#na#</td>\n",
       "      <td>00:04</td>\n",
       "    </tr>\n",
       "    <tr>\n",
       "      <td>4</td>\n",
       "      <td>0.403122</td>\n",
       "      <td>#na#</td>\n",
       "      <td>00:04</td>\n",
       "    </tr>\n",
       "    <tr>\n",
       "      <td>5</td>\n",
       "      <td>0.370705</td>\n",
       "      <td>#na#</td>\n",
       "      <td>00:04</td>\n",
       "    </tr>\n",
       "    <tr>\n",
       "      <td>6</td>\n",
       "      <td>0.341597</td>\n",
       "      <td>#na#</td>\n",
       "      <td>00:03</td>\n",
       "    </tr>\n",
       "    <tr>\n",
       "      <td>7</td>\n",
       "      <td>0.319189</td>\n",
       "      <td>#na#</td>\n",
       "      <td>00:04</td>\n",
       "    </tr>\n",
       "    <tr>\n",
       "      <td>8</td>\n",
       "      <td>0.301757</td>\n",
       "      <td>#na#</td>\n",
       "      <td>00:03</td>\n",
       "    </tr>\n",
       "    <tr>\n",
       "      <td>9</td>\n",
       "      <td>0.288901</td>\n",
       "      <td>#na#</td>\n",
       "      <td>00:04</td>\n",
       "    </tr>\n",
       "    <tr>\n",
       "      <td>10</td>\n",
       "      <td>0.276756</td>\n",
       "      <td>#na#</td>\n",
       "      <td>00:03</td>\n",
       "    </tr>\n",
       "    <tr>\n",
       "      <td>11</td>\n",
       "      <td>0.267301</td>\n",
       "      <td>#na#</td>\n",
       "      <td>00:04</td>\n",
       "    </tr>\n",
       "    <tr>\n",
       "      <td>12</td>\n",
       "      <td>0.260525</td>\n",
       "      <td>#na#</td>\n",
       "      <td>00:03</td>\n",
       "    </tr>\n",
       "    <tr>\n",
       "      <td>13</td>\n",
       "      <td>0.255106</td>\n",
       "      <td>#na#</td>\n",
       "      <td>00:04</td>\n",
       "    </tr>\n",
       "    <tr>\n",
       "      <td>14</td>\n",
       "      <td>0.250896</td>\n",
       "      <td>#na#</td>\n",
       "      <td>00:03</td>\n",
       "    </tr>\n",
       "  </tbody>\n",
       "</table>"
      ],
      "text/plain": [
       "<IPython.core.display.HTML object>"
      ]
     },
     "metadata": {},
     "output_type": "display_data"
    },
    {
     "ename": "AttributeError",
     "evalue": "'NoneType' object has no attribute 'mixup'",
     "output_type": "error",
     "traceback": [
      "\u001b[0;31m---------------------------------------------------------------------------\u001b[0m",
      "\u001b[0;31mAttributeError\u001b[0m                            Traceback (most recent call last)",
      "\u001b[0;32m<ipython-input-17-9d2b2a30defc>\u001b[0m in \u001b[0;36m<module>\u001b[0;34m\u001b[0m\n\u001b[0;32m----> 1\u001b[0;31m \u001b[0mlearn\u001b[0m\u001b[0;34m.\u001b[0m\u001b[0mfit_one_cycle\u001b[0m\u001b[0;34m(\u001b[0m\u001b[0;36m15\u001b[0m\u001b[0;34m,\u001b[0m\u001b[0mslice\u001b[0m\u001b[0;34m(\u001b[0m\u001b[0mlr\u001b[0m\u001b[0;34m)\u001b[0m\u001b[0;34m)\u001b[0m\u001b[0;34m.\u001b[0m\u001b[0mmixup\u001b[0m\u001b[0;34m(\u001b[0m\u001b[0;34m)\u001b[0m\u001b[0;34m.\u001b[0m\u001b[0mto_f16\u001b[0m\u001b[0;34m(\u001b[0m\u001b[0;34m)\u001b[0m\u001b[0;34m\u001b[0m\u001b[0;34m\u001b[0m\u001b[0m\n\u001b[0m",
      "\u001b[0;31mAttributeError\u001b[0m: 'NoneType' object has no attribute 'mixup'"
     ]
    }
   ],
   "source": [
    "learn.fit_one_cycle(15,slice(lr)).mixup().to_f16()"
   ]
  },
  {
   "cell_type": "code",
   "execution_count": 18,
   "metadata": {},
   "outputs": [
    {
     "data": {
      "image/png": "[encoded data removed]",
      "text/plain": [
       "<Figure size 432x288 with 1 Axes>"
      ]
     },
     "metadata": {
      "needs_background": "light"
     },
     "output_type": "display_data"
    }
   ],
   "source": [
    "learn.recorder.plot_losses()"
   ]
  },
  {
   "cell_type": "code",
   "execution_count": 19,
   "metadata": {},
   "outputs": [],
   "source": [
    "learn.save('vgg19-5-imagenet-onefrth-stage-1-noval')"
   ]
  },
  {
   "cell_type": "code",
   "execution_count": 20,
   "metadata": {},
   "outputs": [],
   "source": [
    "learn.unfreeze()"
   ]
  },
  {
   "cell_type": "code",
   "execution_count": 21,
   "metadata": {},
   "outputs": [
    {
     "data": {
      "text/html": [],
      "text/plain": [
       "<IPython.core.display.HTML object>"
      ]
     },
     "metadata": {},
     "output_type": "display_data"
    },
    {
     "name": "stdout",
     "output_type": "stream",
     "text": [
      "LR Finder is complete, type {learner_name}.recorder.plot() to see the graph.\n"
     ]
    }
   ],
   "source": [
    "learn.lr_find()"
   ]
  },
  {
   "cell_type": "code",
   "execution_count": 23,
   "metadata": {},
   "outputs": [
    {
     "data": {
      "image/png": "[encoded data removed]",
      "text/plain": [
       "<Figure size 432x288 with 1 Axes>"
      ]
     },
     "metadata": {
      "needs_background": "light"
     },
     "output_type": "display_data"
    }
   ],
   "source": [
    "learn.recorder.plot()"
   ]
  },
  {
   "cell_type": "code",
   "execution_count": 24,
   "metadata": {},
   "outputs": [],
   "source": [
    "lr=2e-4"
   ]
  },
  {
   "cell_type": "code",
   "execution_count": 25,
   "metadata": {},
   "outputs": [
    {
     "data": {
      "text/html": [
       "<table border=\"1\" class=\"dataframe\">\n",
       "  <thead>\n",
       "    <tr style=\"text-align: left;\">\n",
       "      <th>epoch</th>\n",
       "      <th>train_loss</th>\n",
       "      <th>valid_loss</th>\n",
       "      <th>fbeta</th>\n",
       "      <th>accuracy_thresh</th>\n",
       "      <th>time</th>\n",
       "    </tr>\n",
       "  </thead>\n",
       "  <tbody>\n",
       "    <tr>\n",
       "      <td>0</td>\n",
       "      <td>0.244386</td>\n",
       "      <td>#na#</td>\n",
       "      <td>00:04</td>\n",
       "    </tr>\n",
       "    <tr>\n",
       "      <td>1</td>\n",
       "      <td>0.228206</td>\n",
       "      <td>#na#</td>\n",
       "      <td>00:04</td>\n",
       "    </tr>\n",
       "    <tr>\n",
       "      <td>2</td>\n",
       "      <td>0.225403</td>\n",
       "      <td>#na#</td>\n",
       "      <td>00:04</td>\n",
       "    </tr>\n",
       "    <tr>\n",
       "      <td>3</td>\n",
       "      <td>0.223302</td>\n",
       "      <td>#na#</td>\n",
       "      <td>00:04</td>\n",
       "    </tr>\n",
       "    <tr>\n",
       "      <td>4</td>\n",
       "      <td>0.217648</td>\n",
       "      <td>#na#</td>\n",
       "      <td>00:03</td>\n",
       "    </tr>\n",
       "    <tr>\n",
       "      <td>5</td>\n",
       "      <td>0.209973</td>\n",
       "      <td>#na#</td>\n",
       "      <td>00:04</td>\n",
       "    </tr>\n",
       "    <tr>\n",
       "      <td>6</td>\n",
       "      <td>0.193062</td>\n",
       "      <td>#na#</td>\n",
       "      <td>00:03</td>\n",
       "    </tr>\n",
       "    <tr>\n",
       "      <td>7</td>\n",
       "      <td>0.178371</td>\n",
       "      <td>#na#</td>\n",
       "      <td>00:04</td>\n",
       "    </tr>\n",
       "    <tr>\n",
       "      <td>8</td>\n",
       "      <td>0.165597</td>\n",
       "      <td>#na#</td>\n",
       "      <td>00:04</td>\n",
       "    </tr>\n",
       "    <tr>\n",
       "      <td>9</td>\n",
       "      <td>0.153569</td>\n",
       "      <td>#na#</td>\n",
       "      <td>00:04</td>\n",
       "    </tr>\n",
       "    <tr>\n",
       "      <td>10</td>\n",
       "      <td>0.137596</td>\n",
       "      <td>#na#</td>\n",
       "      <td>00:03</td>\n",
       "    </tr>\n",
       "    <tr>\n",
       "      <td>11</td>\n",
       "      <td>0.126963</td>\n",
       "      <td>#na#</td>\n",
       "      <td>00:04</td>\n",
       "    </tr>\n",
       "    <tr>\n",
       "      <td>12</td>\n",
       "      <td>0.116983</td>\n",
       "      <td>#na#</td>\n",
       "      <td>00:04</td>\n",
       "    </tr>\n",
       "    <tr>\n",
       "      <td>13</td>\n",
       "      <td>0.106028</td>\n",
       "      <td>#na#</td>\n",
       "      <td>00:04</td>\n",
       "    </tr>\n",
       "    <tr>\n",
       "      <td>14</td>\n",
       "      <td>0.098176</td>\n",
       "      <td>#na#</td>\n",
       "      <td>00:04</td>\n",
       "    </tr>\n",
       "  </tbody>\n",
       "</table>"
      ],
      "text/plain": [
       "<IPython.core.display.HTML object>"
      ]
     },
     "metadata": {},
     "output_type": "display_data"
    },
    {
     "ename": "AttributeError",
     "evalue": "'NoneType' object has no attribute 'mixup'",
     "output_type": "error",
     "traceback": [
      "\u001b[0;31m---------------------------------------------------------------------------\u001b[0m",
      "\u001b[0;31mAttributeError\u001b[0m                            Traceback (most recent call last)",
      "\u001b[0;32m<ipython-input-25-ef238312088d>\u001b[0m in \u001b[0;36m<module>\u001b[0;34m\u001b[0m\n\u001b[0;32m----> 1\u001b[0;31m \u001b[0mlearn\u001b[0m\u001b[0;34m.\u001b[0m\u001b[0mfit_one_cycle\u001b[0m\u001b[0;34m(\u001b[0m\u001b[0;36m15\u001b[0m\u001b[0;34m,\u001b[0m\u001b[0mslice\u001b[0m\u001b[0;34m(\u001b[0m\u001b[0mlr\u001b[0m\u001b[0;34m,\u001b[0m\u001b[0;36m3e-2\u001b[0m\u001b[0;34m)\u001b[0m\u001b[0;34m)\u001b[0m\u001b[0;34m.\u001b[0m\u001b[0mmixup\u001b[0m\u001b[0;34m(\u001b[0m\u001b[0;34m)\u001b[0m\u001b[0;34m.\u001b[0m\u001b[0mto_f16\u001b[0m\u001b[0;34m(\u001b[0m\u001b[0;34m)\u001b[0m\u001b[0;34m\u001b[0m\u001b[0;34m\u001b[0m\u001b[0m\n\u001b[0m",
      "\u001b[0;31mAttributeError\u001b[0m: 'NoneType' object has no attribute 'mixup'"
     ]
    }
   ],
   "source": [
    "learn.fit_one_cycle(15,slice(lr,3e-2)).mixup().to_f16()"
   ]
  },
  {
   "cell_type": "code",
   "execution_count": 26,
   "metadata": {},
   "outputs": [
    {
     "data": {
      "image/png": "[encoded data removed]",
      "text/plain": [
       "<Figure size 432x288 with 1 Axes>"
      ]
     },
     "metadata": {
      "needs_background": "light"
     },
     "output_type": "display_data"
    }
   ],
   "source": [
    "learn.recorder.plot_losses()"
   ]
  },
  {
   "cell_type": "code",
   "execution_count": 27,
   "metadata": {},
   "outputs": [],
   "source": [
    "learn.save('vgg19-5-imagenet-onefrth-stage-2-noval')"
   ]
  },
  {
   "cell_type": "code",
   "execution_count": 28,
   "metadata": {},
   "outputs": [
    {
     "data": {
      "text/plain": [
       "Learner(data=ImageDataBunch;\n",
       "\n",
       "Train: LabelList (6252 items)\n",
       "x: ImageList\n",
       "Image (3, 37, 52),Image (3, 37, 52),Image (3, 37, 52),Image (3, 37, 52),Image (3, 37, 52)\n",
       "y: MultiCategoryList\n",
       "1,1,2,3,2\n",
       "Path: data;\n",
       "\n",
       "Valid: LabelList (0 items)\n",
       "x: ImageList\n",
       "\n",
       "y: MultiCategoryList\n",
       "\n",
       "Path: data;\n",
       "\n",
       "Test: LabelList (2680 items)\n",
       "x: ImageList\n",
       "Image (3, 37, 52),Image (3, 37, 52),Image (3, 37, 52),Image (3, 37, 52),Image (3, 37, 52)\n",
       "y: EmptyLabelList\n",
       ",,,,\n",
       "Path: data, model=Sequential(\n",
       "  (0): Sequential(\n",
       "    (0): Sequential(\n",
       "      (0): Conv2d(3, 64, kernel_size=(3, 3), stride=(1, 1), padding=(1, 1))\n",
       "      (1): BatchNorm2d(64, eps=1e-05, momentum=0.1, affine=True, track_running_stats=True)\n",
       "      (2): ReLU(inplace)\n",
       "      (3): Conv2d(64, 64, kernel_size=(3, 3), stride=(1, 1), padding=(1, 1))\n",
       "      (4): BatchNorm2d(64, eps=1e-05, momentum=0.1, affine=True, track_running_stats=True)\n",
       "      (5): ReLU(inplace)\n",
       "      (6): MaxPool2d(kernel_size=2, stride=2, padding=0, dilation=1, ceil_mode=False)\n",
       "      (7): Conv2d(64, 128, kernel_size=(3, 3), stride=(1, 1), padding=(1, 1))\n",
       "      (8): BatchNorm2d(128, eps=1e-05, momentum=0.1, affine=True, track_running_stats=True)\n",
       "      (9): ReLU(inplace)\n",
       "      (10): Conv2d(128, 128, kernel_size=(3, 3), stride=(1, 1), padding=(1, 1))\n",
       "      (11): BatchNorm2d(128, eps=1e-05, momentum=0.1, affine=True, track_running_stats=True)\n",
       "      (12): ReLU(inplace)\n",
       "      (13): MaxPool2d(kernel_size=2, stride=2, padding=0, dilation=1, ceil_mode=False)\n",
       "      (14): Conv2d(128, 256, kernel_size=(3, 3), stride=(1, 1), padding=(1, 1))\n",
       "      (15): BatchNorm2d(256, eps=1e-05, momentum=0.1, affine=True, track_running_stats=True)\n",
       "      (16): ReLU(inplace)\n",
       "      (17): Conv2d(256, 256, kernel_size=(3, 3), stride=(1, 1), padding=(1, 1))\n",
       "      (18): BatchNorm2d(256, eps=1e-05, momentum=0.1, affine=True, track_running_stats=True)\n",
       "      (19): ReLU(inplace)\n",
       "      (20): Conv2d(256, 256, kernel_size=(3, 3), stride=(1, 1), padding=(1, 1))\n",
       "      (21): BatchNorm2d(256, eps=1e-05, momentum=0.1, affine=True, track_running_stats=True)\n",
       "      (22): ReLU(inplace)\n",
       "      (23): Conv2d(256, 256, kernel_size=(3, 3), stride=(1, 1), padding=(1, 1))\n",
       "      (24): BatchNorm2d(256, eps=1e-05, momentum=0.1, affine=True, track_running_stats=True)\n",
       "      (25): ReLU(inplace)\n",
       "      (26): MaxPool2d(kernel_size=2, stride=2, padding=0, dilation=1, ceil_mode=False)\n",
       "      (27): Conv2d(256, 512, kernel_size=(3, 3), stride=(1, 1), padding=(1, 1))\n",
       "      (28): BatchNorm2d(512, eps=1e-05, momentum=0.1, affine=True, track_running_stats=True)\n",
       "      (29): ReLU(inplace)\n",
       "      (30): Conv2d(512, 512, kernel_size=(3, 3), stride=(1, 1), padding=(1, 1))\n",
       "      (31): BatchNorm2d(512, eps=1e-05, momentum=0.1, affine=True, track_running_stats=True)\n",
       "      (32): ReLU(inplace)\n",
       "      (33): Conv2d(512, 512, kernel_size=(3, 3), stride=(1, 1), padding=(1, 1))\n",
       "      (34): BatchNorm2d(512, eps=1e-05, momentum=0.1, affine=True, track_running_stats=True)\n",
       "      (35): ReLU(inplace)\n",
       "      (36): Conv2d(512, 512, kernel_size=(3, 3), stride=(1, 1), padding=(1, 1))\n",
       "      (37): BatchNorm2d(512, eps=1e-05, momentum=0.1, affine=True, track_running_stats=True)\n",
       "      (38): ReLU(inplace)\n",
       "      (39): MaxPool2d(kernel_size=2, stride=2, padding=0, dilation=1, ceil_mode=False)\n",
       "      (40): Conv2d(512, 512, kernel_size=(3, 3), stride=(1, 1), padding=(1, 1))\n",
       "      (41): BatchNorm2d(512, eps=1e-05, momentum=0.1, affine=True, track_running_stats=True)\n",
       "      (42): ReLU(inplace)\n",
       "      (43): Conv2d(512, 512, kernel_size=(3, 3), stride=(1, 1), padding=(1, 1))\n",
       "      (44): BatchNorm2d(512, eps=1e-05, momentum=0.1, affine=True, track_running_stats=True)\n",
       "      (45): ReLU(inplace)\n",
       "      (46): Conv2d(512, 512, kernel_size=(3, 3), stride=(1, 1), padding=(1, 1))\n",
       "      (47): BatchNorm2d(512, eps=1e-05, momentum=0.1, affine=True, track_running_stats=True)\n",
       "      (48): ReLU(inplace)\n",
       "      (49): Conv2d(512, 512, kernel_size=(3, 3), stride=(1, 1), padding=(1, 1))\n",
       "      (50): BatchNorm2d(512, eps=1e-05, momentum=0.1, affine=True, track_running_stats=True)\n",
       "      (51): ReLU(inplace)\n",
       "      (52): MaxPool2d(kernel_size=2, stride=2, padding=0, dilation=1, ceil_mode=False)\n",
       "    )\n",
       "    (1): AdaptiveAvgPool2d(output_size=(7, 7))\n",
       "  )\n",
       "  (1): Sequential(\n",
       "    (0): AdaptiveConcatPool2d(\n",
       "      (ap): AdaptiveAvgPool2d(output_size=1)\n",
       "      (mp): AdaptiveMaxPool2d(output_size=1)\n",
       "    )\n",
       "    (1): Flatten()\n",
       "    (2): BatchNorm1d(1024, eps=1e-05, momentum=0.1, affine=True, track_running_stats=True)\n",
       "    (3): Dropout(p=0.25)\n",
       "    (4): Linear(in_features=1024, out_features=512, bias=True)\n",
       "    (5): ReLU(inplace)\n",
       "    (6): BatchNorm1d(512, eps=1e-05, momentum=0.1, affine=True, track_running_stats=True)\n",
       "    (7): Dropout(p=0.5)\n",
       "    (8): Linear(in_features=512, out_features=5, bias=True)\n",
       "  )\n",
       "), opt_func=functools.partial(<class 'torch.optim.adam.Adam'>, betas=(0.9, 0.99)), loss_func=FlattenedLoss of BCEWithLogitsLoss(), metrics=[<function fbeta at 0x7f80b3806b70>, <function accuracy_thresh at 0x7f80b3806c80>], true_wd=True, bn_wd=True, wd=0.01, train_bn=True, path=PosixPath('data'), model_dir='models', callback_fns=[functools.partial(<class 'fastai.basic_train.Recorder'>, add_time=True, silent=False)], callbacks=[], layer_groups=[Sequential(\n",
       "  (0): Conv2d(3, 64, kernel_size=(3, 3), stride=(1, 1), padding=(1, 1))\n",
       "  (1): BatchNorm2d(64, eps=1e-05, momentum=0.1, affine=True, track_running_stats=True)\n",
       "  (2): ReLU(inplace)\n",
       "  (3): Conv2d(64, 64, kernel_size=(3, 3), stride=(1, 1), padding=(1, 1))\n",
       "  (4): BatchNorm2d(64, eps=1e-05, momentum=0.1, affine=True, track_running_stats=True)\n",
       "  (5): ReLU(inplace)\n",
       "  (6): MaxPool2d(kernel_size=2, stride=2, padding=0, dilation=1, ceil_mode=False)\n",
       "  (7): Conv2d(64, 128, kernel_size=(3, 3), stride=(1, 1), padding=(1, 1))\n",
       "  (8): BatchNorm2d(128, eps=1e-05, momentum=0.1, affine=True, track_running_stats=True)\n",
       "  (9): ReLU(inplace)\n",
       "  (10): Conv2d(128, 128, kernel_size=(3, 3), stride=(1, 1), padding=(1, 1))\n",
       "  (11): BatchNorm2d(128, eps=1e-05, momentum=0.1, affine=True, track_running_stats=True)\n",
       "  (12): ReLU(inplace)\n",
       "  (13): MaxPool2d(kernel_size=2, stride=2, padding=0, dilation=1, ceil_mode=False)\n",
       "  (14): Conv2d(128, 256, kernel_size=(3, 3), stride=(1, 1), padding=(1, 1))\n",
       "  (15): BatchNorm2d(256, eps=1e-05, momentum=0.1, affine=True, track_running_stats=True)\n",
       "  (16): ReLU(inplace)\n",
       "  (17): Conv2d(256, 256, kernel_size=(3, 3), stride=(1, 1), padding=(1, 1))\n",
       "  (18): BatchNorm2d(256, eps=1e-05, momentum=0.1, affine=True, track_running_stats=True)\n",
       "  (19): ReLU(inplace)\n",
       "  (20): Conv2d(256, 256, kernel_size=(3, 3), stride=(1, 1), padding=(1, 1))\n",
       "  (21): BatchNorm2d(256, eps=1e-05, momentum=0.1, affine=True, track_running_stats=True)\n",
       "), Sequential(\n",
       "  (0): ReLU(inplace)\n",
       "  (1): Conv2d(256, 256, kernel_size=(3, 3), stride=(1, 1), padding=(1, 1))\n",
       "  (2): BatchNorm2d(256, eps=1e-05, momentum=0.1, affine=True, track_running_stats=True)\n",
       "  (3): ReLU(inplace)\n",
       "  (4): MaxPool2d(kernel_size=2, stride=2, padding=0, dilation=1, ceil_mode=False)\n",
       "  (5): Conv2d(256, 512, kernel_size=(3, 3), stride=(1, 1), padding=(1, 1))\n",
       "  (6): BatchNorm2d(512, eps=1e-05, momentum=0.1, affine=True, track_running_stats=True)\n",
       "  (7): ReLU(inplace)\n",
       "  (8): Conv2d(512, 512, kernel_size=(3, 3), stride=(1, 1), padding=(1, 1))\n",
       "  (9): BatchNorm2d(512, eps=1e-05, momentum=0.1, affine=True, track_running_stats=True)\n",
       "  (10): ReLU(inplace)\n",
       "  (11): Conv2d(512, 512, kernel_size=(3, 3), stride=(1, 1), padding=(1, 1))\n",
       "  (12): BatchNorm2d(512, eps=1e-05, momentum=0.1, affine=True, track_running_stats=True)\n",
       "  (13): ReLU(inplace)\n",
       "  (14): Conv2d(512, 512, kernel_size=(3, 3), stride=(1, 1), padding=(1, 1))\n",
       "  (15): BatchNorm2d(512, eps=1e-05, momentum=0.1, affine=True, track_running_stats=True)\n",
       "  (16): ReLU(inplace)\n",
       "  (17): MaxPool2d(kernel_size=2, stride=2, padding=0, dilation=1, ceil_mode=False)\n",
       "  (18): Conv2d(512, 512, kernel_size=(3, 3), stride=(1, 1), padding=(1, 1))\n",
       "  (19): BatchNorm2d(512, eps=1e-05, momentum=0.1, affine=True, track_running_stats=True)\n",
       "  (20): ReLU(inplace)\n",
       "  (21): Conv2d(512, 512, kernel_size=(3, 3), stride=(1, 1), padding=(1, 1))\n",
       "  (22): BatchNorm2d(512, eps=1e-05, momentum=0.1, affine=True, track_running_stats=True)\n",
       "  (23): ReLU(inplace)\n",
       "  (24): Conv2d(512, 512, kernel_size=(3, 3), stride=(1, 1), padding=(1, 1))\n",
       "  (25): BatchNorm2d(512, eps=1e-05, momentum=0.1, affine=True, track_running_stats=True)\n",
       "  (26): ReLU(inplace)\n",
       "  (27): Conv2d(512, 512, kernel_size=(3, 3), stride=(1, 1), padding=(1, 1))\n",
       "  (28): BatchNorm2d(512, eps=1e-05, momentum=0.1, affine=True, track_running_stats=True)\n",
       "  (29): ReLU(inplace)\n",
       "  (30): MaxPool2d(kernel_size=2, stride=2, padding=0, dilation=1, ceil_mode=False)\n",
       "  (31): AdaptiveAvgPool2d(output_size=(7, 7))\n",
       "), Sequential(\n",
       "  (0): AdaptiveAvgPool2d(output_size=1)\n",
       "  (1): AdaptiveMaxPool2d(output_size=1)\n",
       "  (2): Flatten()\n",
       "  (3): BatchNorm1d(1024, eps=1e-05, momentum=0.1, affine=True, track_running_stats=True)\n",
       "  (4): Dropout(p=0.25)\n",
       "  (5): Linear(in_features=1024, out_features=512, bias=True)\n",
       "  (6): ReLU(inplace)\n",
       "  (7): BatchNorm1d(512, eps=1e-05, momentum=0.1, affine=True, track_running_stats=True)\n",
       "  (8): Dropout(p=0.5)\n",
       "  (9): Linear(in_features=512, out_features=5, bias=True)\n",
       ")], add_time=True, silent=None)"
      ]
     },
     "execution_count": 28,
     "metadata": {},
     "output_type": "execute_result"
    }
   ],
   "source": [
    "learn.load('vgg19-5-imagenet-onefrth-stage-2-noval')"
   ]
  },
  {
   "cell_type": "markdown",
   "metadata": {},
   "source": [
    "## Pass 1/3rd size"
   ]
  },
  {
   "cell_type": "code",
   "execution_count": 29,
   "metadata": {},
   "outputs": [],
   "source": [
    "data = (src.transform(tfms, size=src_size//3)\n",
    "        .databunch(bs=256).normalize(imagenet_stats))  "
   ]
  },
  {
   "cell_type": "code",
   "execution_count": 30,
   "metadata": {},
   "outputs": [],
   "source": [
    "learn.data=data"
   ]
  },
  {
   "cell_type": "code",
   "execution_count": 31,
   "metadata": {},
   "outputs": [],
   "source": [
    "learn.freeze()"
   ]
  },
  {
   "cell_type": "code",
   "execution_count": 32,
   "metadata": {},
   "outputs": [
    {
     "data": {
      "text/html": [],
      "text/plain": [
       "<IPython.core.display.HTML object>"
      ]
     },
     "metadata": {},
     "output_type": "display_data"
    },
    {
     "name": "stdout",
     "output_type": "stream",
     "text": [
      "LR Finder is complete, type {learner_name}.recorder.plot() to see the graph.\n"
     ]
    }
   ],
   "source": [
    "learn.lr_find()"
   ]
  },
  {
   "cell_type": "code",
   "execution_count": 33,
   "metadata": {},
   "outputs": [
    {
     "data": {
      "image/png": "[encoded data removed]",
      "text/plain": [
       "<Figure size 432x288 with 1 Axes>"
      ]
     },
     "metadata": {
      "needs_background": "light"
     },
     "output_type": "display_data"
    }
   ],
   "source": [
    "learn.recorder.plot()"
   ]
  },
  {
   "cell_type": "code",
   "execution_count": 34,
   "metadata": {},
   "outputs": [],
   "source": [
    "lr=2e-3"
   ]
  },
  {
   "cell_type": "code",
   "execution_count": 35,
   "metadata": {},
   "outputs": [
    {
     "data": {
      "text/html": [
       "<table border=\"1\" class=\"dataframe\">\n",
       "  <thead>\n",
       "    <tr style=\"text-align: left;\">\n",
       "      <th>epoch</th>\n",
       "      <th>train_loss</th>\n",
       "      <th>valid_loss</th>\n",
       "      <th>fbeta</th>\n",
       "      <th>accuracy_thresh</th>\n",
       "      <th>time</th>\n",
       "    </tr>\n",
       "  </thead>\n",
       "  <tbody>\n",
       "    <tr>\n",
       "      <td>0</td>\n",
       "      <td>0.102827</td>\n",
       "      <td>#na#</td>\n",
       "      <td>00:04</td>\n",
       "    </tr>\n",
       "    <tr>\n",
       "      <td>1</td>\n",
       "      <td>0.102573</td>\n",
       "      <td>#na#</td>\n",
       "      <td>00:04</td>\n",
       "    </tr>\n",
       "    <tr>\n",
       "      <td>2</td>\n",
       "      <td>0.101231</td>\n",
       "      <td>#na#</td>\n",
       "      <td>00:04</td>\n",
       "    </tr>\n",
       "    <tr>\n",
       "      <td>3</td>\n",
       "      <td>0.098103</td>\n",
       "      <td>#na#</td>\n",
       "      <td>00:04</td>\n",
       "    </tr>\n",
       "    <tr>\n",
       "      <td>4</td>\n",
       "      <td>0.096926</td>\n",
       "      <td>#na#</td>\n",
       "      <td>00:04</td>\n",
       "    </tr>\n",
       "    <tr>\n",
       "      <td>5</td>\n",
       "      <td>0.095063</td>\n",
       "      <td>#na#</td>\n",
       "      <td>00:04</td>\n",
       "    </tr>\n",
       "    <tr>\n",
       "      <td>6</td>\n",
       "      <td>0.091972</td>\n",
       "      <td>#na#</td>\n",
       "      <td>00:04</td>\n",
       "    </tr>\n",
       "    <tr>\n",
       "      <td>7</td>\n",
       "      <td>0.089876</td>\n",
       "      <td>#na#</td>\n",
       "      <td>00:04</td>\n",
       "    </tr>\n",
       "    <tr>\n",
       "      <td>8</td>\n",
       "      <td>0.090389</td>\n",
       "      <td>#na#</td>\n",
       "      <td>00:04</td>\n",
       "    </tr>\n",
       "    <tr>\n",
       "      <td>9</td>\n",
       "      <td>0.088865</td>\n",
       "      <td>#na#</td>\n",
       "      <td>00:04</td>\n",
       "    </tr>\n",
       "    <tr>\n",
       "      <td>10</td>\n",
       "      <td>0.088266</td>\n",
       "      <td>#na#</td>\n",
       "      <td>00:04</td>\n",
       "    </tr>\n",
       "    <tr>\n",
       "      <td>11</td>\n",
       "      <td>0.088236</td>\n",
       "      <td>#na#</td>\n",
       "      <td>00:04</td>\n",
       "    </tr>\n",
       "    <tr>\n",
       "      <td>12</td>\n",
       "      <td>0.085731</td>\n",
       "      <td>#na#</td>\n",
       "      <td>00:04</td>\n",
       "    </tr>\n",
       "    <tr>\n",
       "      <td>13</td>\n",
       "      <td>0.085840</td>\n",
       "      <td>#na#</td>\n",
       "      <td>00:04</td>\n",
       "    </tr>\n",
       "    <tr>\n",
       "      <td>14</td>\n",
       "      <td>0.084789</td>\n",
       "      <td>#na#</td>\n",
       "      <td>00:04</td>\n",
       "    </tr>\n",
       "  </tbody>\n",
       "</table>"
      ],
      "text/plain": [
       "<IPython.core.display.HTML object>"
      ]
     },
     "metadata": {},
     "output_type": "display_data"
    },
    {
     "ename": "AttributeError",
     "evalue": "'NoneType' object has no attribute 'mixup'",
     "output_type": "error",
     "traceback": [
      "\u001b[0;31m---------------------------------------------------------------------------\u001b[0m",
      "\u001b[0;31mAttributeError\u001b[0m                            Traceback (most recent call last)",
      "\u001b[0;32m<ipython-input-35-53249345de4c>\u001b[0m in \u001b[0;36m<module>\u001b[0;34m\u001b[0m\n\u001b[0;32m----> 1\u001b[0;31m \u001b[0mlearn\u001b[0m\u001b[0;34m.\u001b[0m\u001b[0mfit_one_cycle\u001b[0m\u001b[0;34m(\u001b[0m\u001b[0;36m15\u001b[0m\u001b[0;34m,\u001b[0m\u001b[0mmax_lr\u001b[0m\u001b[0;34m=\u001b[0m\u001b[0mslice\u001b[0m\u001b[0;34m(\u001b[0m\u001b[0mlr\u001b[0m\u001b[0;34m)\u001b[0m\u001b[0;34m)\u001b[0m\u001b[0;34m.\u001b[0m\u001b[0mmixup\u001b[0m\u001b[0;34m(\u001b[0m\u001b[0;34m)\u001b[0m\u001b[0;34m.\u001b[0m\u001b[0mto_f16\u001b[0m\u001b[0;34m(\u001b[0m\u001b[0;34m)\u001b[0m\u001b[0;34m\u001b[0m\u001b[0;34m\u001b[0m\u001b[0m\n\u001b[0m",
      "\u001b[0;31mAttributeError\u001b[0m: 'NoneType' object has no attribute 'mixup'"
     ]
    }
   ],
   "source": [
    "learn.fit_one_cycle(15,max_lr=slice(lr)).mixup().to_f16()"
   ]
  },
  {
   "cell_type": "code",
   "execution_count": 36,
   "metadata": {},
   "outputs": [
    {
     "data": {
      "image/png": "[encoded data removed]",
      "text/plain": [
       "<Figure size 432x288 with 1 Axes>"
      ]
     },
     "metadata": {
      "needs_background": "light"
     },
     "output_type": "display_data"
    }
   ],
   "source": [
    "learn.recorder.plot_losses()"
   ]
  },
  {
   "cell_type": "code",
   "execution_count": 37,
   "metadata": {},
   "outputs": [],
   "source": [
    "learn.save('vgg19-5-imagenet-onethrd-stage-3-noval')"
   ]
  },
  {
   "cell_type": "code",
   "execution_count": 38,
   "metadata": {},
   "outputs": [],
   "source": [
    "learn.unfreeze()"
   ]
  },
  {
   "cell_type": "code",
   "execution_count": 39,
   "metadata": {},
   "outputs": [
    {
     "data": {
      "text/html": [],
      "text/plain": [
       "<IPython.core.display.HTML object>"
      ]
     },
     "metadata": {},
     "output_type": "display_data"
    },
    {
     "name": "stdout",
     "output_type": "stream",
     "text": [
      "LR Finder is complete, type {learner_name}.recorder.plot() to see the graph.\n"
     ]
    },
    {
     "data": {
      "image/png": "[encoded data removed]",
      "text/plain": [
       "<Figure size 432x288 with 1 Axes>"
      ]
     },
     "metadata": {
      "needs_background": "light"
     },
     "output_type": "display_data"
    }
   ],
   "source": [
    "learn.lr_find()\n",
    "learn.recorder.plot()"
   ]
  },
  {
   "cell_type": "code",
   "execution_count": 40,
   "metadata": {},
   "outputs": [
    {
     "data": {
      "text/html": [
       "<table border=\"1\" class=\"dataframe\">\n",
       "  <thead>\n",
       "    <tr style=\"text-align: left;\">\n",
       "      <th>epoch</th>\n",
       "      <th>train_loss</th>\n",
       "      <th>valid_loss</th>\n",
       "      <th>fbeta</th>\n",
       "      <th>accuracy_thresh</th>\n",
       "      <th>time</th>\n",
       "    </tr>\n",
       "  </thead>\n",
       "  <tbody>\n",
       "    <tr>\n",
       "      <td>0</td>\n",
       "      <td>0.085034</td>\n",
       "      <td>#na#</td>\n",
       "      <td>00:05</td>\n",
       "    </tr>\n",
       "    <tr>\n",
       "      <td>1</td>\n",
       "      <td>0.081888</td>\n",
       "      <td>#na#</td>\n",
       "      <td>00:04</td>\n",
       "    </tr>\n",
       "    <tr>\n",
       "      <td>2</td>\n",
       "      <td>0.081423</td>\n",
       "      <td>#na#</td>\n",
       "      <td>00:04</td>\n",
       "    </tr>\n",
       "    <tr>\n",
       "      <td>3</td>\n",
       "      <td>0.079783</td>\n",
       "      <td>#na#</td>\n",
       "      <td>00:05</td>\n",
       "    </tr>\n",
       "    <tr>\n",
       "      <td>4</td>\n",
       "      <td>0.077359</td>\n",
       "      <td>#na#</td>\n",
       "      <td>00:04</td>\n",
       "    </tr>\n",
       "    <tr>\n",
       "      <td>5</td>\n",
       "      <td>0.071705</td>\n",
       "      <td>#na#</td>\n",
       "      <td>00:04</td>\n",
       "    </tr>\n",
       "    <tr>\n",
       "      <td>6</td>\n",
       "      <td>0.065411</td>\n",
       "      <td>#na#</td>\n",
       "      <td>00:04</td>\n",
       "    </tr>\n",
       "    <tr>\n",
       "      <td>7</td>\n",
       "      <td>0.061341</td>\n",
       "      <td>#na#</td>\n",
       "      <td>00:04</td>\n",
       "    </tr>\n",
       "    <tr>\n",
       "      <td>8</td>\n",
       "      <td>0.054307</td>\n",
       "      <td>#na#</td>\n",
       "      <td>00:05</td>\n",
       "    </tr>\n",
       "    <tr>\n",
       "      <td>9</td>\n",
       "      <td>0.050415</td>\n",
       "      <td>#na#</td>\n",
       "      <td>00:04</td>\n",
       "    </tr>\n",
       "  </tbody>\n",
       "</table>"
      ],
      "text/plain": [
       "<IPython.core.display.HTML object>"
      ]
     },
     "metadata": {},
     "output_type": "display_data"
    },
    {
     "ename": "AttributeError",
     "evalue": "'NoneType' object has no attribute 'mixup'",
     "output_type": "error",
     "traceback": [
      "\u001b[0;31m---------------------------------------------------------------------------\u001b[0m",
      "\u001b[0;31mAttributeError\u001b[0m                            Traceback (most recent call last)",
      "\u001b[0;32m<ipython-input-40-3388dee56e03>\u001b[0m in \u001b[0;36m<module>\u001b[0;34m\u001b[0m\n\u001b[1;32m      1\u001b[0m \u001b[0mlr\u001b[0m\u001b[0;34m=\u001b[0m\u001b[0;36m1e-4\u001b[0m\u001b[0;34m\u001b[0m\u001b[0;34m\u001b[0m\u001b[0m\n\u001b[0;32m----> 2\u001b[0;31m \u001b[0mlearn\u001b[0m\u001b[0;34m.\u001b[0m\u001b[0mfit_one_cycle\u001b[0m\u001b[0;34m(\u001b[0m\u001b[0;36m10\u001b[0m\u001b[0;34m,\u001b[0m\u001b[0mmax_lr\u001b[0m\u001b[0;34m=\u001b[0m\u001b[0mslice\u001b[0m\u001b[0;34m(\u001b[0m\u001b[0mlr\u001b[0m\u001b[0;34m,\u001b[0m\u001b[0;36m2e-3\u001b[0m\u001b[0;34m)\u001b[0m\u001b[0;34m,\u001b[0m\u001b[0mwd\u001b[0m\u001b[0;34m=\u001b[0m\u001b[0;36m1e-3\u001b[0m\u001b[0;34m)\u001b[0m\u001b[0;34m.\u001b[0m\u001b[0mmixup\u001b[0m\u001b[0;34m(\u001b[0m\u001b[0;34m)\u001b[0m\u001b[0;34m.\u001b[0m\u001b[0mto_f16\u001b[0m\u001b[0;34m(\u001b[0m\u001b[0;34m)\u001b[0m\u001b[0;34m\u001b[0m\u001b[0;34m\u001b[0m\u001b[0m\n\u001b[0m",
      "\u001b[0;31mAttributeError\u001b[0m: 'NoneType' object has no attribute 'mixup'"
     ]
    }
   ],
   "source": [
    "lr=1e-4\n",
    "learn.fit_one_cycle(10,max_lr=slice(lr,2e-3),wd=1e-3).mixup().to_f16()"
   ]
  },
  {
   "cell_type": "code",
   "execution_count": 41,
   "metadata": {},
   "outputs": [],
   "source": [
    "learn.save('vgg19-5-imagenet-onethrd-stage-4-noval')"
   ]
  },
  {
   "cell_type": "markdown",
   "metadata": {},
   "source": [
    "## Pass half size"
   ]
  },
  {
   "cell_type": "code",
   "execution_count": 42,
   "metadata": {},
   "outputs": [],
   "source": [
    "data = (src.transform(tfms, size=src_size//2)\n",
    "        .databunch(bs=128).normalize(imagenet_stats))"
   ]
  },
  {
   "cell_type": "code",
   "execution_count": 43,
   "metadata": {},
   "outputs": [],
   "source": [
    "learn.data=data"
   ]
  },
  {
   "cell_type": "code",
   "execution_count": 44,
   "metadata": {},
   "outputs": [
    {
     "data": {
      "text/html": [],
      "text/plain": [
       "<IPython.core.display.HTML object>"
      ]
     },
     "metadata": {},
     "output_type": "display_data"
    },
    {
     "name": "stdout",
     "output_type": "stream",
     "text": [
      "LR Finder is complete, type {learner_name}.recorder.plot() to see the graph.\n"
     ]
    },
    {
     "data": {
      "image/png": "[encoded data removed]",
      "text/plain": [
       "<Figure size 432x288 with 1 Axes>"
      ]
     },
     "metadata": {
      "needs_background": "light"
     },
     "output_type": "display_data"
    }
   ],
   "source": [
    "learn.freeze()\n",
    "learn.lr_find()\n",
    "learn.recorder.plot()"
   ]
  },
  {
   "cell_type": "code",
   "execution_count": 45,
   "metadata": {},
   "outputs": [
    {
     "data": {
      "text/html": [
       "<table border=\"1\" class=\"dataframe\">\n",
       "  <thead>\n",
       "    <tr style=\"text-align: left;\">\n",
       "      <th>epoch</th>\n",
       "      <th>train_loss</th>\n",
       "      <th>valid_loss</th>\n",
       "      <th>fbeta</th>\n",
       "      <th>accuracy_thresh</th>\n",
       "      <th>time</th>\n",
       "    </tr>\n",
       "  </thead>\n",
       "  <tbody>\n",
       "    <tr>\n",
       "      <td>0</td>\n",
       "      <td>0.095498</td>\n",
       "      <td>#na#</td>\n",
       "      <td>00:05</td>\n",
       "    </tr>\n",
       "    <tr>\n",
       "      <td>1</td>\n",
       "      <td>0.089545</td>\n",
       "      <td>#na#</td>\n",
       "      <td>00:05</td>\n",
       "    </tr>\n",
       "    <tr>\n",
       "      <td>2</td>\n",
       "      <td>0.086393</td>\n",
       "      <td>#na#</td>\n",
       "      <td>00:05</td>\n",
       "    </tr>\n",
       "    <tr>\n",
       "      <td>3</td>\n",
       "      <td>0.080292</td>\n",
       "      <td>#na#</td>\n",
       "      <td>00:05</td>\n",
       "    </tr>\n",
       "    <tr>\n",
       "      <td>4</td>\n",
       "      <td>0.075906</td>\n",
       "      <td>#na#</td>\n",
       "      <td>00:05</td>\n",
       "    </tr>\n",
       "    <tr>\n",
       "      <td>5</td>\n",
       "      <td>0.077432</td>\n",
       "      <td>#na#</td>\n",
       "      <td>00:05</td>\n",
       "    </tr>\n",
       "    <tr>\n",
       "      <td>6</td>\n",
       "      <td>0.072790</td>\n",
       "      <td>#na#</td>\n",
       "      <td>00:05</td>\n",
       "    </tr>\n",
       "    <tr>\n",
       "      <td>7</td>\n",
       "      <td>0.070280</td>\n",
       "      <td>#na#</td>\n",
       "      <td>00:05</td>\n",
       "    </tr>\n",
       "    <tr>\n",
       "      <td>8</td>\n",
       "      <td>0.069835</td>\n",
       "      <td>#na#</td>\n",
       "      <td>00:05</td>\n",
       "    </tr>\n",
       "    <tr>\n",
       "      <td>9</td>\n",
       "      <td>0.071926</td>\n",
       "      <td>#na#</td>\n",
       "      <td>00:05</td>\n",
       "    </tr>\n",
       "    <tr>\n",
       "      <td>10</td>\n",
       "      <td>0.068560</td>\n",
       "      <td>#na#</td>\n",
       "      <td>00:05</td>\n",
       "    </tr>\n",
       "    <tr>\n",
       "      <td>11</td>\n",
       "      <td>0.069081</td>\n",
       "      <td>#na#</td>\n",
       "      <td>00:05</td>\n",
       "    </tr>\n",
       "  </tbody>\n",
       "</table>"
      ],
      "text/plain": [
       "<IPython.core.display.HTML object>"
      ]
     },
     "metadata": {},
     "output_type": "display_data"
    },
    {
     "ename": "AttributeError",
     "evalue": "'NoneType' object has no attribute 'mixup'",
     "output_type": "error",
     "traceback": [
      "\u001b[0;31m---------------------------------------------------------------------------\u001b[0m",
      "\u001b[0;31mAttributeError\u001b[0m                            Traceback (most recent call last)",
      "\u001b[0;32m<ipython-input-45-9aac953b3a01>\u001b[0m in \u001b[0;36m<module>\u001b[0;34m\u001b[0m\n\u001b[1;32m      1\u001b[0m \u001b[0mlr\u001b[0m\u001b[0;34m=\u001b[0m\u001b[0;36m2e-3\u001b[0m\u001b[0;34m\u001b[0m\u001b[0;34m\u001b[0m\u001b[0m\n\u001b[0;32m----> 2\u001b[0;31m \u001b[0mlearn\u001b[0m\u001b[0;34m.\u001b[0m\u001b[0mfit_one_cycle\u001b[0m\u001b[0;34m(\u001b[0m\u001b[0;36m12\u001b[0m\u001b[0;34m,\u001b[0m\u001b[0mmax_lr\u001b[0m\u001b[0;34m=\u001b[0m\u001b[0mslice\u001b[0m\u001b[0;34m(\u001b[0m\u001b[0mlr\u001b[0m\u001b[0;34m)\u001b[0m\u001b[0;34m,\u001b[0m\u001b[0mwd\u001b[0m\u001b[0;34m=\u001b[0m\u001b[0;36m1e-4\u001b[0m\u001b[0;34m)\u001b[0m\u001b[0;34m.\u001b[0m\u001b[0mmixup\u001b[0m\u001b[0;34m(\u001b[0m\u001b[0;34m)\u001b[0m\u001b[0;34m.\u001b[0m\u001b[0mto_f16\u001b[0m\u001b[0;34m(\u001b[0m\u001b[0;34m)\u001b[0m\u001b[0;34m\u001b[0m\u001b[0;34m\u001b[0m\u001b[0m\n\u001b[0m",
      "\u001b[0;31mAttributeError\u001b[0m: 'NoneType' object has no attribute 'mixup'"
     ]
    }
   ],
   "source": [
    "lr=2e-3\n",
    "learn.fit_one_cycle(12,max_lr=slice(lr),wd=1e-4).mixup().to_f16()"
   ]
  },
  {
   "cell_type": "code",
   "execution_count": 46,
   "metadata": {},
   "outputs": [
    {
     "data": {
      "image/png": "[encoded data removed]",
      "text/plain": [
       "<Figure size 432x288 with 1 Axes>"
      ]
     },
     "metadata": {
      "needs_background": "light"
     },
     "output_type": "display_data"
    }
   ],
   "source": [
    "learn.recorder.plot_losses()"
   ]
  },
  {
   "cell_type": "code",
   "execution_count": 47,
   "metadata": {},
   "outputs": [],
   "source": [
    "learn.save('vgg-5-imagenet-half-stage-5-noval')"
   ]
  },
  {
   "cell_type": "code",
   "execution_count": 48,
   "metadata": {},
   "outputs": [
    {
     "data": {
      "text/html": [],
      "text/plain": [
       "<IPython.core.display.HTML object>"
      ]
     },
     "metadata": {},
     "output_type": "display_data"
    },
    {
     "name": "stdout",
     "output_type": "stream",
     "text": [
      "LR Finder is complete, type {learner_name}.recorder.plot() to see the graph.\n"
     ]
    },
    {
     "data": {
      "image/png": "[encoded data removed]",
      "text/plain": [
       "<Figure size 432x288 with 1 Axes>"
      ]
     },
     "metadata": {
      "needs_background": "light"
     },
     "output_type": "display_data"
    }
   ],
   "source": [
    "learn.unfreeze()\n",
    "learn.lr_find()\n",
    "learn.recorder.plot()"
   ]
  },
  {
   "cell_type": "code",
   "execution_count": 49,
   "metadata": {},
   "outputs": [
    {
     "data": {
      "text/html": [
       "<table border=\"1\" class=\"dataframe\">\n",
       "  <thead>\n",
       "    <tr style=\"text-align: left;\">\n",
       "      <th>epoch</th>\n",
       "      <th>train_loss</th>\n",
       "      <th>valid_loss</th>\n",
       "      <th>fbeta</th>\n",
       "      <th>accuracy_thresh</th>\n",
       "      <th>time</th>\n",
       "    </tr>\n",
       "  </thead>\n",
       "  <tbody>\n",
       "    <tr>\n",
       "      <td>0</td>\n",
       "      <td>0.067513</td>\n",
       "      <td>#na#</td>\n",
       "      <td>00:07</td>\n",
       "    </tr>\n",
       "    <tr>\n",
       "      <td>1</td>\n",
       "      <td>0.065434</td>\n",
       "      <td>#na#</td>\n",
       "      <td>00:07</td>\n",
       "    </tr>\n",
       "    <tr>\n",
       "      <td>2</td>\n",
       "      <td>0.060012</td>\n",
       "      <td>#na#</td>\n",
       "      <td>00:07</td>\n",
       "    </tr>\n",
       "    <tr>\n",
       "      <td>3</td>\n",
       "      <td>0.053059</td>\n",
       "      <td>#na#</td>\n",
       "      <td>00:07</td>\n",
       "    </tr>\n",
       "    <tr>\n",
       "      <td>4</td>\n",
       "      <td>0.046871</td>\n",
       "      <td>#na#</td>\n",
       "      <td>00:07</td>\n",
       "    </tr>\n",
       "    <tr>\n",
       "      <td>5</td>\n",
       "      <td>0.040072</td>\n",
       "      <td>#na#</td>\n",
       "      <td>00:07</td>\n",
       "    </tr>\n",
       "    <tr>\n",
       "      <td>6</td>\n",
       "      <td>0.035752</td>\n",
       "      <td>#na#</td>\n",
       "      <td>00:07</td>\n",
       "    </tr>\n",
       "  </tbody>\n",
       "</table>"
      ],
      "text/plain": [
       "<IPython.core.display.HTML object>"
      ]
     },
     "metadata": {},
     "output_type": "display_data"
    },
    {
     "ename": "AttributeError",
     "evalue": "'NoneType' object has no attribute 'mixup'",
     "output_type": "error",
     "traceback": [
      "\u001b[0;31m---------------------------------------------------------------------------\u001b[0m",
      "\u001b[0;31mAttributeError\u001b[0m                            Traceback (most recent call last)",
      "\u001b[0;32m<ipython-input-49-9f6b12c2af8d>\u001b[0m in \u001b[0;36m<module>\u001b[0;34m\u001b[0m\n\u001b[1;32m      1\u001b[0m \u001b[0mlr\u001b[0m\u001b[0;34m=\u001b[0m\u001b[0;36m2e-5\u001b[0m\u001b[0;34m\u001b[0m\u001b[0;34m\u001b[0m\u001b[0m\n\u001b[0;32m----> 2\u001b[0;31m \u001b[0mlearn\u001b[0m\u001b[0;34m.\u001b[0m\u001b[0mfit_one_cycle\u001b[0m\u001b[0;34m(\u001b[0m\u001b[0;36m7\u001b[0m\u001b[0;34m,\u001b[0m\u001b[0mmax_lr\u001b[0m\u001b[0;34m=\u001b[0m\u001b[0mslice\u001b[0m\u001b[0;34m(\u001b[0m\u001b[0mlr\u001b[0m\u001b[0;34m,\u001b[0m\u001b[0;36m2e-3\u001b[0m\u001b[0;34m)\u001b[0m\u001b[0;34m)\u001b[0m\u001b[0;34m.\u001b[0m\u001b[0mmixup\u001b[0m\u001b[0;34m(\u001b[0m\u001b[0;34m)\u001b[0m\u001b[0;34m.\u001b[0m\u001b[0mto_f16\u001b[0m\u001b[0;34m(\u001b[0m\u001b[0;34m)\u001b[0m\u001b[0;34m\u001b[0m\u001b[0;34m\u001b[0m\u001b[0m\n\u001b[0m",
      "\u001b[0;31mAttributeError\u001b[0m: 'NoneType' object has no attribute 'mixup'"
     ]
    }
   ],
   "source": [
    "lr=2e-5\n",
    "learn.fit_one_cycle(7,max_lr=slice(lr,2e-3)).mixup().to_f16()"
   ]
  },
  {
   "cell_type": "code",
   "execution_count": 50,
   "metadata": {},
   "outputs": [
    {
     "data": {
      "image/png": "[encoded data removed]",
      "text/plain": [
       "<Figure size 432x288 with 1 Axes>"
      ]
     },
     "metadata": {
      "needs_background": "light"
     },
     "output_type": "display_data"
    }
   ],
   "source": [
    "learn.recorder.plot_losses()"
   ]
  },
  {
   "cell_type": "code",
   "execution_count": 51,
   "metadata": {},
   "outputs": [],
   "source": [
    "learn.save('vgg19-5-imagenet-half-stage-6-noval')"
   ]
  },
  {
   "cell_type": "markdown",
   "metadata": {},
   "source": [
    "## Pass full size image"
   ]
  },
  {
   "cell_type": "code",
   "execution_count": 52,
   "metadata": {},
   "outputs": [],
   "source": [
    "data = (src.transform(tfms, size=src_size)\n",
    "        .databunch(bs=128).normalize(imagenet_stats))"
   ]
  },
  {
   "cell_type": "code",
   "execution_count": 53,
   "metadata": {},
   "outputs": [],
   "source": [
    "learn.data=data"
   ]
  },
  {
   "cell_type": "code",
   "execution_count": 54,
   "metadata": {},
   "outputs": [
    {
     "data": {
      "text/plain": [
       "ImageDataBunch;\n",
       "\n",
       "Train: LabelList (6252 items)\n",
       "x: ImageList\n",
       "Image (3, 150, 210),Image (3, 150, 210),Image (3, 150, 210),Image (3, 150, 210),Image (3, 150, 210)\n",
       "y: MultiCategoryList\n",
       "1,1,2,3,2\n",
       "Path: data;\n",
       "\n",
       "Valid: LabelList (0 items)\n",
       "x: ImageList\n",
       "\n",
       "y: MultiCategoryList\n",
       "\n",
       "Path: data;\n",
       "\n",
       "Test: LabelList (2680 items)\n",
       "x: ImageList\n",
       "Image (3, 150, 210),Image (3, 150, 210),Image (3, 150, 210),Image (3, 150, 210),Image (3, 150, 210)\n",
       "y: EmptyLabelList\n",
       ",,,,\n",
       "Path: data"
      ]
     },
     "execution_count": 54,
     "metadata": {},
     "output_type": "execute_result"
    }
   ],
   "source": [
    "learn.data"
   ]
  },
  {
   "cell_type": "code",
   "execution_count": 55,
   "metadata": {},
   "outputs": [
    {
     "data": {
      "text/html": [],
      "text/plain": [
       "<IPython.core.display.HTML object>"
      ]
     },
     "metadata": {},
     "output_type": "display_data"
    },
    {
     "name": "stdout",
     "output_type": "stream",
     "text": [
      "LR Finder is complete, type {learner_name}.recorder.plot() to see the graph.\n"
     ]
    },
    {
     "data": {
      "image/png": "[encoded data removed]",
      "text/plain": [
       "<Figure size 432x288 with 1 Axes>"
      ]
     },
     "metadata": {
      "needs_background": "light"
     },
     "output_type": "display_data"
    }
   ],
   "source": [
    "#learn.load('resnet-5-imagenet-half-stage-6')\n",
    "learn.freeze()\n",
    "learn.data=data\n",
    "learn.lr_find()\n",
    "learn.recorder.plot()"
   ]
  },
  {
   "cell_type": "code",
   "execution_count": 56,
   "metadata": {},
   "outputs": [
    {
     "data": {
      "text/html": [
       "<table border=\"1\" class=\"dataframe\">\n",
       "  <thead>\n",
       "    <tr style=\"text-align: left;\">\n",
       "      <th>epoch</th>\n",
       "      <th>train_loss</th>\n",
       "      <th>valid_loss</th>\n",
       "      <th>fbeta</th>\n",
       "      <th>accuracy_thresh</th>\n",
       "      <th>time</th>\n",
       "    </tr>\n",
       "  </thead>\n",
       "  <tbody>\n",
       "    <tr>\n",
       "      <td>0</td>\n",
       "      <td>0.239036</td>\n",
       "      <td>#na#</td>\n",
       "      <td>00:18</td>\n",
       "    </tr>\n",
       "    <tr>\n",
       "      <td>1</td>\n",
       "      <td>0.197955</td>\n",
       "      <td>#na#</td>\n",
       "      <td>00:18</td>\n",
       "    </tr>\n",
       "    <tr>\n",
       "      <td>2</td>\n",
       "      <td>0.164297</td>\n",
       "      <td>#na#</td>\n",
       "      <td>00:18</td>\n",
       "    </tr>\n",
       "    <tr>\n",
       "      <td>3</td>\n",
       "      <td>0.141903</td>\n",
       "      <td>#na#</td>\n",
       "      <td>00:18</td>\n",
       "    </tr>\n",
       "    <tr>\n",
       "      <td>4</td>\n",
       "      <td>0.121992</td>\n",
       "      <td>#na#</td>\n",
       "      <td>00:18</td>\n",
       "    </tr>\n",
       "    <tr>\n",
       "      <td>5</td>\n",
       "      <td>0.109598</td>\n",
       "      <td>#na#</td>\n",
       "      <td>00:18</td>\n",
       "    </tr>\n",
       "    <tr>\n",
       "      <td>6</td>\n",
       "      <td>0.100107</td>\n",
       "      <td>#na#</td>\n",
       "      <td>00:18</td>\n",
       "    </tr>\n",
       "    <tr>\n",
       "      <td>7</td>\n",
       "      <td>0.093152</td>\n",
       "      <td>#na#</td>\n",
       "      <td>00:18</td>\n",
       "    </tr>\n",
       "    <tr>\n",
       "      <td>8</td>\n",
       "      <td>0.089888</td>\n",
       "      <td>#na#</td>\n",
       "      <td>00:18</td>\n",
       "    </tr>\n",
       "    <tr>\n",
       "      <td>9</td>\n",
       "      <td>0.082457</td>\n",
       "      <td>#na#</td>\n",
       "      <td>00:18</td>\n",
       "    </tr>\n",
       "    <tr>\n",
       "      <td>10</td>\n",
       "      <td>0.079420</td>\n",
       "      <td>#na#</td>\n",
       "      <td>00:18</td>\n",
       "    </tr>\n",
       "    <tr>\n",
       "      <td>11</td>\n",
       "      <td>0.078369</td>\n",
       "      <td>#na#</td>\n",
       "      <td>00:18</td>\n",
       "    </tr>\n",
       "    <tr>\n",
       "      <td>12</td>\n",
       "      <td>0.076466</td>\n",
       "      <td>#na#</td>\n",
       "      <td>00:18</td>\n",
       "    </tr>\n",
       "    <tr>\n",
       "      <td>13</td>\n",
       "      <td>0.075865</td>\n",
       "      <td>#na#</td>\n",
       "      <td>00:18</td>\n",
       "    </tr>\n",
       "    <tr>\n",
       "      <td>14</td>\n",
       "      <td>0.075119</td>\n",
       "      <td>#na#</td>\n",
       "      <td>00:18</td>\n",
       "    </tr>\n",
       "  </tbody>\n",
       "</table>"
      ],
      "text/plain": [
       "<IPython.core.display.HTML object>"
      ]
     },
     "metadata": {},
     "output_type": "display_data"
    },
    {
     "ename": "AttributeError",
     "evalue": "'NoneType' object has no attribute 'mixup'",
     "output_type": "error",
     "traceback": [
      "\u001b[0;31m---------------------------------------------------------------------------\u001b[0m",
      "\u001b[0;31mAttributeError\u001b[0m                            Traceback (most recent call last)",
      "\u001b[0;32m<ipython-input-56-e150a4931a13>\u001b[0m in \u001b[0;36m<module>\u001b[0;34m\u001b[0m\n\u001b[1;32m      1\u001b[0m \u001b[0mlr\u001b[0m\u001b[0;34m=\u001b[0m\u001b[0;36m1e-2\u001b[0m\u001b[0;34m\u001b[0m\u001b[0;34m\u001b[0m\u001b[0m\n\u001b[0;32m----> 2\u001b[0;31m \u001b[0mlearn\u001b[0m\u001b[0;34m.\u001b[0m\u001b[0mfit_one_cycle\u001b[0m\u001b[0;34m(\u001b[0m\u001b[0;36m15\u001b[0m\u001b[0;34m,\u001b[0m\u001b[0mslice\u001b[0m\u001b[0;34m(\u001b[0m\u001b[0mlr\u001b[0m\u001b[0;34m)\u001b[0m\u001b[0;34m,\u001b[0m\u001b[0mwd\u001b[0m\u001b[0;34m=\u001b[0m\u001b[0;36m1e-4\u001b[0m\u001b[0;34m)\u001b[0m\u001b[0;34m.\u001b[0m\u001b[0mmixup\u001b[0m\u001b[0;34m(\u001b[0m\u001b[0;34m)\u001b[0m\u001b[0;34m.\u001b[0m\u001b[0mto_f16\u001b[0m\u001b[0;34m(\u001b[0m\u001b[0;34m)\u001b[0m\u001b[0;34m\u001b[0m\u001b[0;34m\u001b[0m\u001b[0m\n\u001b[0m",
      "\u001b[0;31mAttributeError\u001b[0m: 'NoneType' object has no attribute 'mixup'"
     ]
    }
   ],
   "source": [
    "lr=1e-2\n",
    "learn.fit_one_cycle(15,slice(lr),wd=1e-4).mixup().to_f16()"
   ]
  },
  {
   "cell_type": "code",
   "execution_count": 57,
   "metadata": {},
   "outputs": [
    {
     "data": {
      "image/png": "[encoded data removed]",
      "text/plain": [
       "<Figure size 432x288 with 1 Axes>"
      ]
     },
     "metadata": {
      "needs_background": "light"
     },
     "output_type": "display_data"
    }
   ],
   "source": [
    "learn.recorder.plot_losses()"
   ]
  },
  {
   "cell_type": "code",
   "execution_count": 58,
   "metadata": {},
   "outputs": [],
   "source": [
    "learn.save('vgg19-5-imagenet-full-stage-7-noval')"
   ]
  },
  {
   "cell_type": "code",
   "execution_count": 59,
   "metadata": {},
   "outputs": [
    {
     "data": {
      "text/plain": [
       "Learner(data=ImageDataBunch;\n",
       "\n",
       "Train: LabelList (6252 items)\n",
       "x: ImageList\n",
       "Image (3, 150, 210),Image (3, 150, 210),Image (3, 150, 210),Image (3, 150, 210),Image (3, 150, 210)\n",
       "y: MultiCategoryList\n",
       "1,1,2,3,2\n",
       "Path: data;\n",
       "\n",
       "Valid: LabelList (0 items)\n",
       "x: ImageList\n",
       "\n",
       "y: MultiCategoryList\n",
       "\n",
       "Path: data;\n",
       "\n",
       "Test: LabelList (2680 items)\n",
       "x: ImageList\n",
       "Image (3, 150, 210),Image (3, 150, 210),Image (3, 150, 210),Image (3, 150, 210),Image (3, 150, 210)\n",
       "y: EmptyLabelList\n",
       ",,,,\n",
       "Path: data, model=Sequential(\n",
       "  (0): Sequential(\n",
       "    (0): Sequential(\n",
       "      (0): Conv2d(3, 64, kernel_size=(3, 3), stride=(1, 1), padding=(1, 1))\n",
       "      (1): BatchNorm2d(64, eps=1e-05, momentum=0.1, affine=True, track_running_stats=True)\n",
       "      (2): ReLU(inplace)\n",
       "      (3): Conv2d(64, 64, kernel_size=(3, 3), stride=(1, 1), padding=(1, 1))\n",
       "      (4): BatchNorm2d(64, eps=1e-05, momentum=0.1, affine=True, track_running_stats=True)\n",
       "      (5): ReLU(inplace)\n",
       "      (6): MaxPool2d(kernel_size=2, stride=2, padding=0, dilation=1, ceil_mode=False)\n",
       "      (7): Conv2d(64, 128, kernel_size=(3, 3), stride=(1, 1), padding=(1, 1))\n",
       "      (8): BatchNorm2d(128, eps=1e-05, momentum=0.1, affine=True, track_running_stats=True)\n",
       "      (9): ReLU(inplace)\n",
       "      (10): Conv2d(128, 128, kernel_size=(3, 3), stride=(1, 1), padding=(1, 1))\n",
       "      (11): BatchNorm2d(128, eps=1e-05, momentum=0.1, affine=True, track_running_stats=True)\n",
       "      (12): ReLU(inplace)\n",
       "      (13): MaxPool2d(kernel_size=2, stride=2, padding=0, dilation=1, ceil_mode=False)\n",
       "      (14): Conv2d(128, 256, kernel_size=(3, 3), stride=(1, 1), padding=(1, 1))\n",
       "      (15): BatchNorm2d(256, eps=1e-05, momentum=0.1, affine=True, track_running_stats=True)\n",
       "      (16): ReLU(inplace)\n",
       "      (17): Conv2d(256, 256, kernel_size=(3, 3), stride=(1, 1), padding=(1, 1))\n",
       "      (18): BatchNorm2d(256, eps=1e-05, momentum=0.1, affine=True, track_running_stats=True)\n",
       "      (19): ReLU(inplace)\n",
       "      (20): Conv2d(256, 256, kernel_size=(3, 3), stride=(1, 1), padding=(1, 1))\n",
       "      (21): BatchNorm2d(256, eps=1e-05, momentum=0.1, affine=True, track_running_stats=True)\n",
       "      (22): ReLU(inplace)\n",
       "      (23): Conv2d(256, 256, kernel_size=(3, 3), stride=(1, 1), padding=(1, 1))\n",
       "      (24): BatchNorm2d(256, eps=1e-05, momentum=0.1, affine=True, track_running_stats=True)\n",
       "      (25): ReLU(inplace)\n",
       "      (26): MaxPool2d(kernel_size=2, stride=2, padding=0, dilation=1, ceil_mode=False)\n",
       "      (27): Conv2d(256, 512, kernel_size=(3, 3), stride=(1, 1), padding=(1, 1))\n",
       "      (28): BatchNorm2d(512, eps=1e-05, momentum=0.1, affine=True, track_running_stats=True)\n",
       "      (29): ReLU(inplace)\n",
       "      (30): Conv2d(512, 512, kernel_size=(3, 3), stride=(1, 1), padding=(1, 1))\n",
       "      (31): BatchNorm2d(512, eps=1e-05, momentum=0.1, affine=True, track_running_stats=True)\n",
       "      (32): ReLU(inplace)\n",
       "      (33): Conv2d(512, 512, kernel_size=(3, 3), stride=(1, 1), padding=(1, 1))\n",
       "      (34): BatchNorm2d(512, eps=1e-05, momentum=0.1, affine=True, track_running_stats=True)\n",
       "      (35): ReLU(inplace)\n",
       "      (36): Conv2d(512, 512, kernel_size=(3, 3), stride=(1, 1), padding=(1, 1))\n",
       "      (37): BatchNorm2d(512, eps=1e-05, momentum=0.1, affine=True, track_running_stats=True)\n",
       "      (38): ReLU(inplace)\n",
       "      (39): MaxPool2d(kernel_size=2, stride=2, padding=0, dilation=1, ceil_mode=False)\n",
       "      (40): Conv2d(512, 512, kernel_size=(3, 3), stride=(1, 1), padding=(1, 1))\n",
       "      (41): BatchNorm2d(512, eps=1e-05, momentum=0.1, affine=True, track_running_stats=True)\n",
       "      (42): ReLU(inplace)\n",
       "      (43): Conv2d(512, 512, kernel_size=(3, 3), stride=(1, 1), padding=(1, 1))\n",
       "      (44): BatchNorm2d(512, eps=1e-05, momentum=0.1, affine=True, track_running_stats=True)\n",
       "      (45): ReLU(inplace)\n",
       "      (46): Conv2d(512, 512, kernel_size=(3, 3), stride=(1, 1), padding=(1, 1))\n",
       "      (47): BatchNorm2d(512, eps=1e-05, momentum=0.1, affine=True, track_running_stats=True)\n",
       "      (48): ReLU(inplace)\n",
       "      (49): Conv2d(512, 512, kernel_size=(3, 3), stride=(1, 1), padding=(1, 1))\n",
       "      (50): BatchNorm2d(512, eps=1e-05, momentum=0.1, affine=True, track_running_stats=True)\n",
       "      (51): ReLU(inplace)\n",
       "      (52): MaxPool2d(kernel_size=2, stride=2, padding=0, dilation=1, ceil_mode=False)\n",
       "    )\n",
       "    (1): AdaptiveAvgPool2d(output_size=(7, 7))\n",
       "  )\n",
       "  (1): Sequential(\n",
       "    (0): AdaptiveConcatPool2d(\n",
       "      (ap): AdaptiveAvgPool2d(output_size=1)\n",
       "      (mp): AdaptiveMaxPool2d(output_size=1)\n",
       "    )\n",
       "    (1): Flatten()\n",
       "    (2): BatchNorm1d(1024, eps=1e-05, momentum=0.1, affine=True, track_running_stats=True)\n",
       "    (3): Dropout(p=0.25)\n",
       "    (4): Linear(in_features=1024, out_features=512, bias=True)\n",
       "    (5): ReLU(inplace)\n",
       "    (6): BatchNorm1d(512, eps=1e-05, momentum=0.1, affine=True, track_running_stats=True)\n",
       "    (7): Dropout(p=0.5)\n",
       "    (8): Linear(in_features=512, out_features=5, bias=True)\n",
       "  )\n",
       "), opt_func=functools.partial(<class 'torch.optim.adam.Adam'>, betas=(0.9, 0.99)), loss_func=FlattenedLoss of BCEWithLogitsLoss(), metrics=[<function fbeta at 0x7f80b3806b70>, <function accuracy_thresh at 0x7f80b3806c80>], true_wd=True, bn_wd=True, wd=0.01, train_bn=True, path=PosixPath('data'), model_dir='models', callback_fns=[functools.partial(<class 'fastai.basic_train.Recorder'>, add_time=True, silent=False)], callbacks=[], layer_groups=[Sequential(\n",
       "  (0): Conv2d(3, 64, kernel_size=(3, 3), stride=(1, 1), padding=(1, 1))\n",
       "  (1): BatchNorm2d(64, eps=1e-05, momentum=0.1, affine=True, track_running_stats=True)\n",
       "  (2): ReLU(inplace)\n",
       "  (3): Conv2d(64, 64, kernel_size=(3, 3), stride=(1, 1), padding=(1, 1))\n",
       "  (4): BatchNorm2d(64, eps=1e-05, momentum=0.1, affine=True, track_running_stats=True)\n",
       "  (5): ReLU(inplace)\n",
       "  (6): MaxPool2d(kernel_size=2, stride=2, padding=0, dilation=1, ceil_mode=False)\n",
       "  (7): Conv2d(64, 128, kernel_size=(3, 3), stride=(1, 1), padding=(1, 1))\n",
       "  (8): BatchNorm2d(128, eps=1e-05, momentum=0.1, affine=True, track_running_stats=True)\n",
       "  (9): ReLU(inplace)\n",
       "  (10): Conv2d(128, 128, kernel_size=(3, 3), stride=(1, 1), padding=(1, 1))\n",
       "  (11): BatchNorm2d(128, eps=1e-05, momentum=0.1, affine=True, track_running_stats=True)\n",
       "  (12): ReLU(inplace)\n",
       "  (13): MaxPool2d(kernel_size=2, stride=2, padding=0, dilation=1, ceil_mode=False)\n",
       "  (14): Conv2d(128, 256, kernel_size=(3, 3), stride=(1, 1), padding=(1, 1))\n",
       "  (15): BatchNorm2d(256, eps=1e-05, momentum=0.1, affine=True, track_running_stats=True)\n",
       "  (16): ReLU(inplace)\n",
       "  (17): Conv2d(256, 256, kernel_size=(3, 3), stride=(1, 1), padding=(1, 1))\n",
       "  (18): BatchNorm2d(256, eps=1e-05, momentum=0.1, affine=True, track_running_stats=True)\n",
       "  (19): ReLU(inplace)\n",
       "  (20): Conv2d(256, 256, kernel_size=(3, 3), stride=(1, 1), padding=(1, 1))\n",
       "  (21): BatchNorm2d(256, eps=1e-05, momentum=0.1, affine=True, track_running_stats=True)\n",
       "), Sequential(\n",
       "  (0): ReLU(inplace)\n",
       "  (1): Conv2d(256, 256, kernel_size=(3, 3), stride=(1, 1), padding=(1, 1))\n",
       "  (2): BatchNorm2d(256, eps=1e-05, momentum=0.1, affine=True, track_running_stats=True)\n",
       "  (3): ReLU(inplace)\n",
       "  (4): MaxPool2d(kernel_size=2, stride=2, padding=0, dilation=1, ceil_mode=False)\n",
       "  (5): Conv2d(256, 512, kernel_size=(3, 3), stride=(1, 1), padding=(1, 1))\n",
       "  (6): BatchNorm2d(512, eps=1e-05, momentum=0.1, affine=True, track_running_stats=True)\n",
       "  (7): ReLU(inplace)\n",
       "  (8): Conv2d(512, 512, kernel_size=(3, 3), stride=(1, 1), padding=(1, 1))\n",
       "  (9): BatchNorm2d(512, eps=1e-05, momentum=0.1, affine=True, track_running_stats=True)\n",
       "  (10): ReLU(inplace)\n",
       "  (11): Conv2d(512, 512, kernel_size=(3, 3), stride=(1, 1), padding=(1, 1))\n",
       "  (12): BatchNorm2d(512, eps=1e-05, momentum=0.1, affine=True, track_running_stats=True)\n",
       "  (13): ReLU(inplace)\n",
       "  (14): Conv2d(512, 512, kernel_size=(3, 3), stride=(1, 1), padding=(1, 1))\n",
       "  (15): BatchNorm2d(512, eps=1e-05, momentum=0.1, affine=True, track_running_stats=True)\n",
       "  (16): ReLU(inplace)\n",
       "  (17): MaxPool2d(kernel_size=2, stride=2, padding=0, dilation=1, ceil_mode=False)\n",
       "  (18): Conv2d(512, 512, kernel_size=(3, 3), stride=(1, 1), padding=(1, 1))\n",
       "  (19): BatchNorm2d(512, eps=1e-05, momentum=0.1, affine=True, track_running_stats=True)\n",
       "  (20): ReLU(inplace)\n",
       "  (21): Conv2d(512, 512, kernel_size=(3, 3), stride=(1, 1), padding=(1, 1))\n",
       "  (22): BatchNorm2d(512, eps=1e-05, momentum=0.1, affine=True, track_running_stats=True)\n",
       "  (23): ReLU(inplace)\n",
       "  (24): Conv2d(512, 512, kernel_size=(3, 3), stride=(1, 1), padding=(1, 1))\n",
       "  (25): BatchNorm2d(512, eps=1e-05, momentum=0.1, affine=True, track_running_stats=True)\n",
       "  (26): ReLU(inplace)\n",
       "  (27): Conv2d(512, 512, kernel_size=(3, 3), stride=(1, 1), padding=(1, 1))\n",
       "  (28): BatchNorm2d(512, eps=1e-05, momentum=0.1, affine=True, track_running_stats=True)\n",
       "  (29): ReLU(inplace)\n",
       "  (30): MaxPool2d(kernel_size=2, stride=2, padding=0, dilation=1, ceil_mode=False)\n",
       "  (31): AdaptiveAvgPool2d(output_size=(7, 7))\n",
       "), Sequential(\n",
       "  (0): AdaptiveAvgPool2d(output_size=1)\n",
       "  (1): AdaptiveMaxPool2d(output_size=1)\n",
       "  (2): Flatten()\n",
       "  (3): BatchNorm1d(1024, eps=1e-05, momentum=0.1, affine=True, track_running_stats=True)\n",
       "  (4): Dropout(p=0.25)\n",
       "  (5): Linear(in_features=1024, out_features=512, bias=True)\n",
       "  (6): ReLU(inplace)\n",
       "  (7): BatchNorm1d(512, eps=1e-05, momentum=0.1, affine=True, track_running_stats=True)\n",
       "  (8): Dropout(p=0.5)\n",
       "  (9): Linear(in_features=512, out_features=5, bias=True)\n",
       ")], add_time=True, silent=None)"
      ]
     },
     "execution_count": 59,
     "metadata": {},
     "output_type": "execute_result"
    }
   ],
   "source": [
    "learn.load('vgg19-5-imagenet-full-stage-7-noval')"
   ]
  },
  {
   "cell_type": "code",
   "execution_count": 60,
   "metadata": {},
   "outputs": [
    {
     "data": {
      "text/html": [],
      "text/plain": [
       "<IPython.core.display.HTML object>"
      ]
     },
     "metadata": {},
     "output_type": "display_data"
    },
    {
     "name": "stdout",
     "output_type": "stream",
     "text": [
      "LR Finder is complete, type {learner_name}.recorder.plot() to see the graph.\n"
     ]
    },
    {
     "data": {
      "image/png": "[encoded data removed]",
      "text/plain": [
       "<Figure size 432x288 with 1 Axes>"
      ]
     },
     "metadata": {
      "needs_background": "light"
     },
     "output_type": "display_data"
    }
   ],
   "source": [
    "learn.unfreeze()\n",
    "learn.lr_find()\n",
    "learn.recorder.plot()"
   ]
  },
  {
   "cell_type": "code",
   "execution_count": 61,
   "metadata": {},
   "outputs": [
    {
     "data": {
      "text/html": [
       "<table border=\"1\" class=\"dataframe\">\n",
       "  <thead>\n",
       "    <tr style=\"text-align: left;\">\n",
       "      <th>epoch</th>\n",
       "      <th>train_loss</th>\n",
       "      <th>valid_loss</th>\n",
       "      <th>fbeta</th>\n",
       "      <th>accuracy_thresh</th>\n",
       "      <th>time</th>\n",
       "    </tr>\n",
       "  </thead>\n",
       "  <tbody>\n",
       "    <tr>\n",
       "      <td>0</td>\n",
       "      <td>0.074427</td>\n",
       "      <td>#na#</td>\n",
       "      <td>00:26</td>\n",
       "    </tr>\n",
       "    <tr>\n",
       "      <td>1</td>\n",
       "      <td>0.072071</td>\n",
       "      <td>#na#</td>\n",
       "      <td>00:26</td>\n",
       "    </tr>\n",
       "    <tr>\n",
       "      <td>2</td>\n",
       "      <td>0.068399</td>\n",
       "      <td>#na#</td>\n",
       "      <td>00:26</td>\n",
       "    </tr>\n",
       "    <tr>\n",
       "      <td>3</td>\n",
       "      <td>0.070495</td>\n",
       "      <td>#na#</td>\n",
       "      <td>00:26</td>\n",
       "    </tr>\n",
       "    <tr>\n",
       "      <td>4</td>\n",
       "      <td>0.071617</td>\n",
       "      <td>#na#</td>\n",
       "      <td>00:26</td>\n",
       "    </tr>\n",
       "    <tr>\n",
       "      <td>5</td>\n",
       "      <td>0.066281</td>\n",
       "      <td>#na#</td>\n",
       "      <td>00:26</td>\n",
       "    </tr>\n",
       "    <tr>\n",
       "      <td>6</td>\n",
       "      <td>0.062576</td>\n",
       "      <td>#na#</td>\n",
       "      <td>00:26</td>\n",
       "    </tr>\n",
       "    <tr>\n",
       "      <td>7</td>\n",
       "      <td>0.058725</td>\n",
       "      <td>#na#</td>\n",
       "      <td>00:26</td>\n",
       "    </tr>\n",
       "    <tr>\n",
       "      <td>8</td>\n",
       "      <td>0.053666</td>\n",
       "      <td>#na#</td>\n",
       "      <td>00:26</td>\n",
       "    </tr>\n",
       "    <tr>\n",
       "      <td>9</td>\n",
       "      <td>0.045533</td>\n",
       "      <td>#na#</td>\n",
       "      <td>00:26</td>\n",
       "    </tr>\n",
       "    <tr>\n",
       "      <td>10</td>\n",
       "      <td>0.039886</td>\n",
       "      <td>#na#</td>\n",
       "      <td>00:26</td>\n",
       "    </tr>\n",
       "    <tr>\n",
       "      <td>11</td>\n",
       "      <td>0.034360</td>\n",
       "      <td>#na#</td>\n",
       "      <td>00:26</td>\n",
       "    </tr>\n",
       "    <tr>\n",
       "      <td>12</td>\n",
       "      <td>0.027652</td>\n",
       "      <td>#na#</td>\n",
       "      <td>00:26</td>\n",
       "    </tr>\n",
       "    <tr>\n",
       "      <td>13</td>\n",
       "      <td>0.022474</td>\n",
       "      <td>#na#</td>\n",
       "      <td>00:26</td>\n",
       "    </tr>\n",
       "    <tr>\n",
       "      <td>14</td>\n",
       "      <td>0.016936</td>\n",
       "      <td>#na#</td>\n",
       "      <td>00:26</td>\n",
       "    </tr>\n",
       "    <tr>\n",
       "      <td>15</td>\n",
       "      <td>0.013600</td>\n",
       "      <td>#na#</td>\n",
       "      <td>00:26</td>\n",
       "    </tr>\n",
       "    <tr>\n",
       "      <td>16</td>\n",
       "      <td>0.009990</td>\n",
       "      <td>#na#</td>\n",
       "      <td>00:26</td>\n",
       "    </tr>\n",
       "    <tr>\n",
       "      <td>17</td>\n",
       "      <td>0.008329</td>\n",
       "      <td>#na#</td>\n",
       "      <td>00:26</td>\n",
       "    </tr>\n",
       "    <tr>\n",
       "      <td>18</td>\n",
       "      <td>0.007105</td>\n",
       "      <td>#na#</td>\n",
       "      <td>00:26</td>\n",
       "    </tr>\n",
       "    <tr>\n",
       "      <td>19</td>\n",
       "      <td>0.008215</td>\n",
       "      <td>#na#</td>\n",
       "      <td>00:26</td>\n",
       "    </tr>\n",
       "  </tbody>\n",
       "</table>"
      ],
      "text/plain": [
       "<IPython.core.display.HTML object>"
      ]
     },
     "metadata": {},
     "output_type": "display_data"
    },
    {
     "ename": "AttributeError",
     "evalue": "'NoneType' object has no attribute 'mixup'",
     "output_type": "error",
     "traceback": [
      "\u001b[0;31m---------------------------------------------------------------------------\u001b[0m",
      "\u001b[0;31mAttributeError\u001b[0m                            Traceback (most recent call last)",
      "\u001b[0;32m<ipython-input-61-d1bb9123b5d1>\u001b[0m in \u001b[0;36m<module>\u001b[0;34m\u001b[0m\n\u001b[1;32m      1\u001b[0m \u001b[0mlr\u001b[0m\u001b[0;34m=\u001b[0m\u001b[0;36m3e-5\u001b[0m\u001b[0;34m\u001b[0m\u001b[0;34m\u001b[0m\u001b[0m\n\u001b[0;32m----> 2\u001b[0;31m \u001b[0mlearn\u001b[0m\u001b[0;34m.\u001b[0m\u001b[0mfit_one_cycle\u001b[0m\u001b[0;34m(\u001b[0m\u001b[0;36m20\u001b[0m\u001b[0;34m,\u001b[0m\u001b[0mmax_lr\u001b[0m\u001b[0;34m=\u001b[0m\u001b[0mslice\u001b[0m\u001b[0;34m(\u001b[0m\u001b[0mlr\u001b[0m\u001b[0;34m,\u001b[0m\u001b[0;36m1e-2\u001b[0m\u001b[0;34m)\u001b[0m\u001b[0;34m,\u001b[0m\u001b[0mwd\u001b[0m\u001b[0;34m=\u001b[0m\u001b[0;36m1e-4\u001b[0m\u001b[0;34m)\u001b[0m\u001b[0;34m.\u001b[0m\u001b[0mmixup\u001b[0m\u001b[0;34m(\u001b[0m\u001b[0;34m)\u001b[0m\u001b[0;34m.\u001b[0m\u001b[0mto_f16\u001b[0m\u001b[0;34m(\u001b[0m\u001b[0;34m)\u001b[0m\u001b[0;34m\u001b[0m\u001b[0;34m\u001b[0m\u001b[0m\n\u001b[0m",
      "\u001b[0;31mAttributeError\u001b[0m: 'NoneType' object has no attribute 'mixup'"
     ]
    }
   ],
   "source": [
    "lr=3e-5\n",
    "learn.fit_one_cycle(20,max_lr=slice(lr,1e-2),wd=1e-4).mixup().to_f16()"
   ]
  },
  {
   "cell_type": "code",
   "execution_count": 62,
   "metadata": {},
   "outputs": [
    {
     "data": {
      "image/png": "[encoded data removed]",
      "text/plain": [
       "<Figure size 432x288 with 1 Axes>"
      ]
     },
     "metadata": {
      "needs_background": "light"
     },
     "output_type": "display_data"
    }
   ],
   "source": [
    "learn.recorder.plot_losses()"
   ]
  },
  {
   "cell_type": "code",
   "execution_count": 63,
   "metadata": {},
   "outputs": [],
   "source": [
    "learn.save('vgg19-5-imagenet-full-stage-8-noval')"
   ]
  },
  {
   "cell_type": "code",
   "execution_count": 64,
   "metadata": {},
   "outputs": [
    {
     "data": {
      "text/html": [],
      "text/plain": [
       "<IPython.core.display.HTML object>"
      ]
     },
     "metadata": {},
     "output_type": "display_data"
    }
   ],
   "source": [
    "test_pred_tta=learn.TTA(ds_type=DatasetType.Test)"
   ]
  },
  {
   "cell_type": "code",
   "execution_count": 56,
   "metadata": {},
   "outputs": [
    {
     "data": {
      "text/plain": [
       "(tensor([[9.9283e-01, 2.0347e-04, 9.6460e-04, 9.0035e-04, 5.3188e-04],\n",
       "         [1.4024e-03, 1.9425e-04, 9.9864e-01, 3.3871e-04, 2.0669e-04],\n",
       "         [5.7922e-01, 2.0019e-02, 5.9642e-04, 6.7006e-02, 2.8913e-01],\n",
       "         ...,\n",
       "         [9.3079e-02, 2.2776e-04, 8.4911e-01, 5.1968e-02, 1.7440e-03],\n",
       "         [1.2892e-04, 9.9938e-01, 2.5478e-05, 1.7694e-04, 8.0086e-05],\n",
       "         [9.8172e-01, 3.3297e-04, 1.0101e-04, 5.6791e-05, 1.7353e-02]]),\n",
       " tensor([0, 0, 0,  ..., 0, 0, 0]))"
      ]
     },
     "execution_count": 56,
     "metadata": {},
     "output_type": "execute_result"
    }
   ],
   "source": [
    "test_pred_tta"
   ]
  },
  {
   "cell_type": "code",
   "execution_count": 65,
   "metadata": {},
   "outputs": [
    {
     "data": {
      "text/plain": [
       "tensor([0, 2, 4,  ..., 2, 1, 0])"
      ]
     },
     "execution_count": 65,
     "metadata": {},
     "output_type": "execute_result"
    }
   ],
   "source": [
    "preds = np.argmax(test_pred_tta[0], 1)\n",
    "preds"
   ]
  },
  {
   "cell_type": "code",
   "execution_count": 66,
   "metadata": {},
   "outputs": [],
   "source": [
    "a=array(preds)"
   ]
  },
  {
   "cell_type": "code",
   "execution_count": 67,
   "metadata": {},
   "outputs": [
    {
     "data": {
      "image/jpeg": "[encoded data removed]",
      "image/png": "[encoded data removed]",
      "text/plain": [
       "Image (3, 150, 210)"
      ]
     },
     "execution_count": 67,
     "metadata": {},
     "output_type": "execute_result"
    }
   ],
   "source": [
    "data.test_ds.x[1]"
   ]
  },
  {
   "cell_type": "code",
   "execution_count": 68,
   "metadata": {},
   "outputs": [],
   "source": [
    "test_img_names = [Path(i).name for i in learn.data.test_ds.x.items]"
   ]
  },
  {
   "cell_type": "code",
   "execution_count": 69,
   "metadata": {},
   "outputs": [
    {
     "data": {
      "text/html": [
       "<div>\n",
       "<style scoped>\n",
       "    .dataframe tbody tr th:only-of-type {\n",
       "        vertical-align: middle;\n",
       "    }\n",
       "\n",
       "    .dataframe tbody tr th {\n",
       "        vertical-align: top;\n",
       "    }\n",
       "\n",
       "    .dataframe thead th {\n",
       "        text-align: right;\n",
       "    }\n",
       "</style>\n",
       "<table border=\"1\" class=\"dataframe\">\n",
       "  <thead>\n",
       "    <tr style=\"text-align: right;\">\n",
       "      <th></th>\n",
       "      <th>image</th>\n",
       "      <th>category</th>\n",
       "    </tr>\n",
       "  </thead>\n",
       "  <tbody>\n",
       "    <tr>\n",
       "      <th>0</th>\n",
       "      <td>2904735.jpg</td>\n",
       "      <td>1</td>\n",
       "    </tr>\n",
       "    <tr>\n",
       "      <th>1</th>\n",
       "      <td>2890616.jpg</td>\n",
       "      <td>3</td>\n",
       "    </tr>\n",
       "    <tr>\n",
       "      <th>2</th>\n",
       "      <td>2902677.jpg</td>\n",
       "      <td>5</td>\n",
       "    </tr>\n",
       "    <tr>\n",
       "      <th>3</th>\n",
       "      <td>2741468.jpg</td>\n",
       "      <td>4</td>\n",
       "    </tr>\n",
       "    <tr>\n",
       "      <th>4</th>\n",
       "      <td>2802610.jpg</td>\n",
       "      <td>5</td>\n",
       "    </tr>\n",
       "    <tr>\n",
       "      <th>5</th>\n",
       "      <td>1630950.jpg</td>\n",
       "      <td>4</td>\n",
       "    </tr>\n",
       "    <tr>\n",
       "      <th>6</th>\n",
       "      <td>2882184.jpg</td>\n",
       "      <td>3</td>\n",
       "    </tr>\n",
       "    <tr>\n",
       "      <th>7</th>\n",
       "      <td>2787793.jpg</td>\n",
       "      <td>2</td>\n",
       "    </tr>\n",
       "    <tr>\n",
       "      <th>8</th>\n",
       "      <td>2866032.jpg</td>\n",
       "      <td>1</td>\n",
       "    </tr>\n",
       "    <tr>\n",
       "      <th>9</th>\n",
       "      <td>2369442.jpg</td>\n",
       "      <td>2</td>\n",
       "    </tr>\n",
       "  </tbody>\n",
       "</table>\n",
       "</div>"
      ],
      "text/plain": [
       "         image  category\n",
       "0  2904735.jpg         1\n",
       "1  2890616.jpg         3\n",
       "2  2902677.jpg         5\n",
       "3  2741468.jpg         4\n",
       "4  2802610.jpg         5\n",
       "5  1630950.jpg         4\n",
       "6  2882184.jpg         3\n",
       "7  2787793.jpg         2\n",
       "8  2866032.jpg         1\n",
       "9  2369442.jpg         2"
      ]
     },
     "execution_count": 69,
     "metadata": {},
     "output_type": "execute_result"
    }
   ],
   "source": [
    "submission = pd.DataFrame({'image': test_img_names, 'category': a+1})\n",
    "submission.head(10)"
   ]
  },
  {
   "cell_type": "code",
   "execution_count": 75,
   "metadata": {},
   "outputs": [
    {
     "data": {
      "text/plain": [
       "2680"
      ]
     },
     "execution_count": 75,
     "metadata": {},
     "output_type": "execute_result"
    }
   ],
   "source": [
    "len(submission)"
   ]
  },
  {
   "cell_type": "code",
   "execution_count": 70,
   "metadata": {},
   "outputs": [],
   "source": [
    "submission.to_csv(PATH/'submission_vgg19_multisz-noval.csv',index=False)"
   ]
  },
  {
   "cell_type": "markdown",
   "metadata": {},
   "source": [
    "## Low confidence"
   ]
  },
  {
   "cell_type": "code",
   "execution_count": 155,
   "metadata": {},
   "outputs": [
    {
     "data": {
      "text/plain": [
       "ImageDataBunch;\n",
       "\n",
       "Train: LabelList (6252 items)\n",
       "x: ImageList\n",
       "Image (3, 150, 210),Image (3, 150, 210),Image (3, 150, 210),Image (3, 150, 210),Image (3, 150, 210)\n",
       "y: MultiCategoryList\n",
       "1,1,2,3,2\n",
       "Path: data;\n",
       "\n",
       "Valid: LabelList (0 items)\n",
       "x: ImageList\n",
       "\n",
       "y: MultiCategoryList\n",
       "\n",
       "Path: data;\n",
       "\n",
       "Test: LabelList (2680 items)\n",
       "x: ImageList\n",
       "Image (3, 150, 210),Image (3, 150, 210),Image (3, 150, 210),Image (3, 150, 210),Image (3, 150, 210)\n",
       "y: EmptyLabelList\n",
       ",,,,\n",
       "Path: data"
      ]
     },
     "execution_count": 155,
     "metadata": {},
     "output_type": "execute_result"
    }
   ],
   "source": [
    "data"
   ]
  },
  {
   "cell_type": "code",
   "execution_count": 138,
   "metadata": {},
   "outputs": [
    {
     "data": {
      "text/plain": [
       "Learner(data=ImageDataBunch;\n",
       "\n",
       "Train: LabelList (6252 items)\n",
       "x: ImageList\n",
       "Image (3, 150, 210),Image (3, 150, 210),Image (3, 150, 210),Image (3, 150, 210),Image (3, 150, 210)\n",
       "y: MultiCategoryList\n",
       "1,1,2,3,2\n",
       "Path: data;\n",
       "\n",
       "Valid: LabelList (0 items)\n",
       "x: ImageList\n",
       "\n",
       "y: MultiCategoryList\n",
       "\n",
       "Path: data;\n",
       "\n",
       "Test: LabelList (2680 items)\n",
       "x: ImageList\n",
       "Image (3, 150, 210),Image (3, 150, 210),Image (3, 150, 210),Image (3, 150, 210),Image (3, 150, 210)\n",
       "y: EmptyLabelList\n",
       ",,,,\n",
       "Path: data, model=Sequential(\n",
       "  (0): Sequential(\n",
       "    (0): Sequential(\n",
       "      (0): Conv2d(3, 64, kernel_size=(3, 3), stride=(1, 1), padding=(1, 1))\n",
       "      (1): BatchNorm2d(64, eps=1e-05, momentum=0.1, affine=True, track_running_stats=True)\n",
       "      (2): ReLU(inplace)\n",
       "      (3): Conv2d(64, 64, kernel_size=(3, 3), stride=(1, 1), padding=(1, 1))\n",
       "      (4): BatchNorm2d(64, eps=1e-05, momentum=0.1, affine=True, track_running_stats=True)\n",
       "      (5): ReLU(inplace)\n",
       "      (6): MaxPool2d(kernel_size=2, stride=2, padding=0, dilation=1, ceil_mode=False)\n",
       "      (7): Conv2d(64, 128, kernel_size=(3, 3), stride=(1, 1), padding=(1, 1))\n",
       "      (8): BatchNorm2d(128, eps=1e-05, momentum=0.1, affine=True, track_running_stats=True)\n",
       "      (9): ReLU(inplace)\n",
       "      (10): Conv2d(128, 128, kernel_size=(3, 3), stride=(1, 1), padding=(1, 1))\n",
       "      (11): BatchNorm2d(128, eps=1e-05, momentum=0.1, affine=True, track_running_stats=True)\n",
       "      (12): ReLU(inplace)\n",
       "      (13): MaxPool2d(kernel_size=2, stride=2, padding=0, dilation=1, ceil_mode=False)\n",
       "      (14): Conv2d(128, 256, kernel_size=(3, 3), stride=(1, 1), padding=(1, 1))\n",
       "      (15): BatchNorm2d(256, eps=1e-05, momentum=0.1, affine=True, track_running_stats=True)\n",
       "      (16): ReLU(inplace)\n",
       "      (17): Conv2d(256, 256, kernel_size=(3, 3), stride=(1, 1), padding=(1, 1))\n",
       "      (18): BatchNorm2d(256, eps=1e-05, momentum=0.1, affine=True, track_running_stats=True)\n",
       "      (19): ReLU(inplace)\n",
       "      (20): Conv2d(256, 256, kernel_size=(3, 3), stride=(1, 1), padding=(1, 1))\n",
       "      (21): BatchNorm2d(256, eps=1e-05, momentum=0.1, affine=True, track_running_stats=True)\n",
       "      (22): ReLU(inplace)\n",
       "      (23): Conv2d(256, 256, kernel_size=(3, 3), stride=(1, 1), padding=(1, 1))\n",
       "      (24): BatchNorm2d(256, eps=1e-05, momentum=0.1, affine=True, track_running_stats=True)\n",
       "      (25): ReLU(inplace)\n",
       "      (26): MaxPool2d(kernel_size=2, stride=2, padding=0, dilation=1, ceil_mode=False)\n",
       "      (27): Conv2d(256, 512, kernel_size=(3, 3), stride=(1, 1), padding=(1, 1))\n",
       "      (28): BatchNorm2d(512, eps=1e-05, momentum=0.1, affine=True, track_running_stats=True)\n",
       "      (29): ReLU(inplace)\n",
       "      (30): Conv2d(512, 512, kernel_size=(3, 3), stride=(1, 1), padding=(1, 1))\n",
       "      (31): BatchNorm2d(512, eps=1e-05, momentum=0.1, affine=True, track_running_stats=True)\n",
       "      (32): ReLU(inplace)\n",
       "      (33): Conv2d(512, 512, kernel_size=(3, 3), stride=(1, 1), padding=(1, 1))\n",
       "      (34): BatchNorm2d(512, eps=1e-05, momentum=0.1, affine=True, track_running_stats=True)\n",
       "      (35): ReLU(inplace)\n",
       "      (36): Conv2d(512, 512, kernel_size=(3, 3), stride=(1, 1), padding=(1, 1))\n",
       "      (37): BatchNorm2d(512, eps=1e-05, momentum=0.1, affine=True, track_running_stats=True)\n",
       "      (38): ReLU(inplace)\n",
       "      (39): MaxPool2d(kernel_size=2, stride=2, padding=0, dilation=1, ceil_mode=False)\n",
       "      (40): Conv2d(512, 512, kernel_size=(3, 3), stride=(1, 1), padding=(1, 1))\n",
       "      (41): BatchNorm2d(512, eps=1e-05, momentum=0.1, affine=True, track_running_stats=True)\n",
       "      (42): ReLU(inplace)\n",
       "      (43): Conv2d(512, 512, kernel_size=(3, 3), stride=(1, 1), padding=(1, 1))\n",
       "      (44): BatchNorm2d(512, eps=1e-05, momentum=0.1, affine=True, track_running_stats=True)\n",
       "      (45): ReLU(inplace)\n",
       "      (46): Conv2d(512, 512, kernel_size=(3, 3), stride=(1, 1), padding=(1, 1))\n",
       "      (47): BatchNorm2d(512, eps=1e-05, momentum=0.1, affine=True, track_running_stats=True)\n",
       "      (48): ReLU(inplace)\n",
       "      (49): Conv2d(512, 512, kernel_size=(3, 3), stride=(1, 1), padding=(1, 1))\n",
       "      (50): BatchNorm2d(512, eps=1e-05, momentum=0.1, affine=True, track_running_stats=True)\n",
       "      (51): ReLU(inplace)\n",
       "      (52): MaxPool2d(kernel_size=2, stride=2, padding=0, dilation=1, ceil_mode=False)\n",
       "    )\n",
       "    (1): AdaptiveAvgPool2d(output_size=(7, 7))\n",
       "  )\n",
       "  (1): Sequential(\n",
       "    (0): AdaptiveConcatPool2d(\n",
       "      (ap): AdaptiveAvgPool2d(output_size=1)\n",
       "      (mp): AdaptiveMaxPool2d(output_size=1)\n",
       "    )\n",
       "    (1): Flatten()\n",
       "    (2): BatchNorm1d(1024, eps=1e-05, momentum=0.1, affine=True, track_running_stats=True)\n",
       "    (3): Dropout(p=0.25)\n",
       "    (4): Linear(in_features=1024, out_features=512, bias=True)\n",
       "    (5): ReLU(inplace)\n",
       "    (6): BatchNorm1d(512, eps=1e-05, momentum=0.1, affine=True, track_running_stats=True)\n",
       "    (7): Dropout(p=0.5)\n",
       "    (8): Linear(in_features=512, out_features=5, bias=True)\n",
       "  )\n",
       "), opt_func=functools.partial(<class 'torch.optim.adam.Adam'>, betas=(0.9, 0.99)), loss_func=FlattenedLoss of BCEWithLogitsLoss(), metrics=[<function fbeta at 0x7f80b3806b70>, <function accuracy_thresh at 0x7f80b3806c80>], true_wd=True, bn_wd=True, wd=0.01, train_bn=True, path=PosixPath('data'), model_dir='models', callback_fns=[functools.partial(<class 'fastai.basic_train.Recorder'>, add_time=True, silent=False)], callbacks=[], layer_groups=[Sequential(\n",
       "  (0): Conv2d(3, 64, kernel_size=(3, 3), stride=(1, 1), padding=(1, 1))\n",
       "  (1): BatchNorm2d(64, eps=1e-05, momentum=0.1, affine=True, track_running_stats=True)\n",
       "  (2): ReLU(inplace)\n",
       "  (3): Conv2d(64, 64, kernel_size=(3, 3), stride=(1, 1), padding=(1, 1))\n",
       "  (4): BatchNorm2d(64, eps=1e-05, momentum=0.1, affine=True, track_running_stats=True)\n",
       "  (5): ReLU(inplace)\n",
       "  (6): MaxPool2d(kernel_size=2, stride=2, padding=0, dilation=1, ceil_mode=False)\n",
       "  (7): Conv2d(64, 128, kernel_size=(3, 3), stride=(1, 1), padding=(1, 1))\n",
       "  (8): BatchNorm2d(128, eps=1e-05, momentum=0.1, affine=True, track_running_stats=True)\n",
       "  (9): ReLU(inplace)\n",
       "  (10): Conv2d(128, 128, kernel_size=(3, 3), stride=(1, 1), padding=(1, 1))\n",
       "  (11): BatchNorm2d(128, eps=1e-05, momentum=0.1, affine=True, track_running_stats=True)\n",
       "  (12): ReLU(inplace)\n",
       "  (13): MaxPool2d(kernel_size=2, stride=2, padding=0, dilation=1, ceil_mode=False)\n",
       "  (14): Conv2d(128, 256, kernel_size=(3, 3), stride=(1, 1), padding=(1, 1))\n",
       "  (15): BatchNorm2d(256, eps=1e-05, momentum=0.1, affine=True, track_running_stats=True)\n",
       "  (16): ReLU(inplace)\n",
       "  (17): Conv2d(256, 256, kernel_size=(3, 3), stride=(1, 1), padding=(1, 1))\n",
       "  (18): BatchNorm2d(256, eps=1e-05, momentum=0.1, affine=True, track_running_stats=True)\n",
       "  (19): ReLU(inplace)\n",
       "  (20): Conv2d(256, 256, kernel_size=(3, 3), stride=(1, 1), padding=(1, 1))\n",
       "  (21): BatchNorm2d(256, eps=1e-05, momentum=0.1, affine=True, track_running_stats=True)\n",
       "), Sequential(\n",
       "  (0): ReLU(inplace)\n",
       "  (1): Conv2d(256, 256, kernel_size=(3, 3), stride=(1, 1), padding=(1, 1))\n",
       "  (2): BatchNorm2d(256, eps=1e-05, momentum=0.1, affine=True, track_running_stats=True)\n",
       "  (3): ReLU(inplace)\n",
       "  (4): MaxPool2d(kernel_size=2, stride=2, padding=0, dilation=1, ceil_mode=False)\n",
       "  (5): Conv2d(256, 512, kernel_size=(3, 3), stride=(1, 1), padding=(1, 1))\n",
       "  (6): BatchNorm2d(512, eps=1e-05, momentum=0.1, affine=True, track_running_stats=True)\n",
       "  (7): ReLU(inplace)\n",
       "  (8): Conv2d(512, 512, kernel_size=(3, 3), stride=(1, 1), padding=(1, 1))\n",
       "  (9): BatchNorm2d(512, eps=1e-05, momentum=0.1, affine=True, track_running_stats=True)\n",
       "  (10): ReLU(inplace)\n",
       "  (11): Conv2d(512, 512, kernel_size=(3, 3), stride=(1, 1), padding=(1, 1))\n",
       "  (12): BatchNorm2d(512, eps=1e-05, momentum=0.1, affine=True, track_running_stats=True)\n",
       "  (13): ReLU(inplace)\n",
       "  (14): Conv2d(512, 512, kernel_size=(3, 3), stride=(1, 1), padding=(1, 1))\n",
       "  (15): BatchNorm2d(512, eps=1e-05, momentum=0.1, affine=True, track_running_stats=True)\n",
       "  (16): ReLU(inplace)\n",
       "  (17): MaxPool2d(kernel_size=2, stride=2, padding=0, dilation=1, ceil_mode=False)\n",
       "  (18): Conv2d(512, 512, kernel_size=(3, 3), stride=(1, 1), padding=(1, 1))\n",
       "  (19): BatchNorm2d(512, eps=1e-05, momentum=0.1, affine=True, track_running_stats=True)\n",
       "  (20): ReLU(inplace)\n",
       "  (21): Conv2d(512, 512, kernel_size=(3, 3), stride=(1, 1), padding=(1, 1))\n",
       "  (22): BatchNorm2d(512, eps=1e-05, momentum=0.1, affine=True, track_running_stats=True)\n",
       "  (23): ReLU(inplace)\n",
       "  (24): Conv2d(512, 512, kernel_size=(3, 3), stride=(1, 1), padding=(1, 1))\n",
       "  (25): BatchNorm2d(512, eps=1e-05, momentum=0.1, affine=True, track_running_stats=True)\n",
       "  (26): ReLU(inplace)\n",
       "  (27): Conv2d(512, 512, kernel_size=(3, 3), stride=(1, 1), padding=(1, 1))\n",
       "  (28): BatchNorm2d(512, eps=1e-05, momentum=0.1, affine=True, track_running_stats=True)\n",
       "  (29): ReLU(inplace)\n",
       "  (30): MaxPool2d(kernel_size=2, stride=2, padding=0, dilation=1, ceil_mode=False)\n",
       "  (31): AdaptiveAvgPool2d(output_size=(7, 7))\n",
       "), Sequential(\n",
       "  (0): AdaptiveAvgPool2d(output_size=1)\n",
       "  (1): AdaptiveMaxPool2d(output_size=1)\n",
       "  (2): Flatten()\n",
       "  (3): BatchNorm1d(1024, eps=1e-05, momentum=0.1, affine=True, track_running_stats=True)\n",
       "  (4): Dropout(p=0.25)\n",
       "  (5): Linear(in_features=1024, out_features=512, bias=True)\n",
       "  (6): ReLU(inplace)\n",
       "  (7): BatchNorm1d(512, eps=1e-05, momentum=0.1, affine=True, track_running_stats=True)\n",
       "  (8): Dropout(p=0.5)\n",
       "  (9): Linear(in_features=512, out_features=5, bias=True)\n",
       ")], add_time=True, silent=None)"
      ]
     },
     "execution_count": 138,
     "metadata": {},
     "output_type": "execute_result"
    }
   ],
   "source": [
    "learn_cln = cnn_learner(data, models.vgg19_bn, metrics=metrics_custom)\n",
    "learn_cln.load('vgg19-5-imagenet-full-stage-8-noval')"
   ]
  },
  {
   "cell_type": "code",
   "execution_count": 161,
   "metadata": {},
   "outputs": [],
   "source": [
    "learn_cln.data=data"
   ]
  },
  {
   "cell_type": "code",
   "execution_count": 173,
   "metadata": {},
   "outputs": [
    {
     "data": {
      "text/plain": [
       "6252"
      ]
     },
     "execution_count": 173,
     "metadata": {},
     "output_type": "execute_result"
    }
   ],
   "source": [
    "len(data.train_ds)"
   ]
  },
  {
   "cell_type": "code",
   "execution_count": 171,
   "metadata": {},
   "outputs": [
    {
     "data": {
      "text/plain": [
       "ImageList (6252 items)\n",
       "Image (3, 150, 210),Image (3, 150, 210),Image (3, 150, 210),Image (3, 150, 210),Image (3, 150, 210)\n",
       "Path: data"
      ]
     },
     "execution_count": 171,
     "metadata": {},
     "output_type": "execute_result"
    }
   ],
   "source": [
    "data.train_ds.x"
   ]
  },
  {
   "cell_type": "code",
   "execution_count": 177,
   "metadata": {},
   "outputs": [
    {
     "data": {
      "text/plain": [
       "(MultiCategory 1,\n",
       " tensor([1., 0., 0., 0., 0.]),\n",
       " tensor([1.0000e+00, 1.2438e-07, 8.0754e-08, 6.4650e-08, 1.2492e-06]))"
      ]
     },
     "execution_count": 177,
     "metadata": {},
     "output_type": "execute_result"
    }
   ],
   "source": [
    "learn_cln.predict(data.train_ds.x[0])"
   ]
  },
  {
   "cell_type": "code",
   "execution_count": 178,
   "metadata": {},
   "outputs": [
    {
     "data": {
      "text/plain": [
       "MultiCategory 1"
      ]
     },
     "execution_count": 178,
     "metadata": {},
     "output_type": "execute_result"
    }
   ],
   "source": [
    "data.train_ds.y[0]"
   ]
  },
  {
   "cell_type": "code",
   "execution_count": 188,
   "metadata": {},
   "outputs": [],
   "source": [
    "log_preds=list()\n",
    "#preds=list()\n",
    "for i in range(0,len(data.train_ds)):\n",
    "    _,_,log_pred=learn_cln.predict(data.train_ds.x[i])\n",
    "    #preds.append(pred)\n",
    "    log_preds.append(log_pred.numpy())"
   ]
  },
  {
   "cell_type": "code",
   "execution_count": 189,
   "metadata": {},
   "outputs": [
    {
     "data": {
      "text/plain": [
       "[array([9.999970e-01, 1.243818e-07, 8.075374e-08, 6.465027e-08, 1.249182e-06], dtype=float32),\n",
       " array([9.979041e-01, 4.215205e-06, 1.170864e-05, 1.730853e-06, 2.155678e-03], dtype=float32),\n",
       " array([6.274313e-03, 9.872969e-01, 3.560998e-04, 2.160408e-03, 3.297520e-04], dtype=float32),\n",
       " array([2.909193e-06, 1.177863e-05, 9.999710e-01, 7.783027e-06, 5.574287e-06], dtype=float32),\n",
       " array([4.238977e-06, 9.999970e-01, 2.054062e-07, 5.871582e-08, 4.292801e-07], dtype=float32),\n",
       " array([9.889760e-04, 4.429484e-05, 2.798430e-05, 9.991806e-01, 1.710650e-04], dtype=float32),\n",
       " array([9.981338e-01, 7.812623e-05, 2.687412e-04, 5.216462e-04, 3.314404e-04], dtype=float32),\n",
       " array([6.734415e-01, 4.803255e-06, 7.248753e-06, 1.023540e-06, 4.239032e-01], dtype=float32),\n",
       " array([1.704129e-08, 2.234755e-07, 9.999996e-01, 3.225232e-08, 7.783257e-08], dtype=float32),\n",
       " array([9.999912e-01, 8.299348e-07, 8.761412e-07, 5.911367e-07, 1.767123e-06], dtype=float32),\n",
       " array([2.616760e-08, 1.603415e-07, 9.999999e-01, 4.709217e-09, 5.510341e-08], dtype=float32),\n",
       " array([1.412244e-06, 2.398816e-06, 9.999948e-01, 5.256215e-07, 2.606797e-06], dtype=float32),\n",
       " array([1.112007e-08, 1.372751e-07, 9.999998e-01, 2.266310e-08, 7.240748e-08], dtype=float32),\n",
       " array([9.999932e-01, 1.472120e-07, 5.036062e-08, 7.983805e-08, 3.399188e-06], dtype=float32),\n",
       " array([2.169529e-05, 9.999778e-01, 3.253154e-06, 3.655979e-06, 9.847453e-06], dtype=float32),\n",
       " array([5.420094e-06, 3.568175e-08, 1.516553e-06, 3.303247e-08, 9.999877e-01], dtype=float32),\n",
       " array([9.999990e-01, 1.364569e-08, 7.754418e-09, 3.505928e-08, 2.132705e-07], dtype=float32),\n",
       " array([1.198848e-06, 6.056476e-08, 1.594564e-07, 2.538995e-08, 9.999973e-01], dtype=float32),\n",
       " array([3.168699e-07, 9.999998e-01, 7.252742e-09, 8.048445e-09, 5.783629e-08], dtype=float32),\n",
       " array([1.486365e-05, 8.166488e-07, 3.896403e-06, 9.492680e-07, 9.999715e-01], dtype=float32),\n",
       " array([5.717403e-07, 2.362491e-06, 9.999855e-01, 8.935878e-06, 2.139237e-06], dtype=float32),\n",
       " array([9.999568e-01, 1.886297e-06, 9.074086e-06, 4.919881e-06, 3.177204e-06], dtype=float32),\n",
       " array([9.999890e-01, 9.558167e-07, 1.236730e-06, 1.343438e-06, 1.908348e-06], dtype=float32),\n",
       " array([1.628875e-04, 1.417993e-06, 9.998920e-01, 1.502178e-07, 3.234632e-06], dtype=float32),\n",
       " array([9.999229e-01, 6.875745e-06, 1.029132e-05, 2.754277e-06, 3.456295e-05], dtype=float32),\n",
       " array([1.297001e-07, 9.999994e-01, 2.267694e-08, 1.899695e-07, 1.312644e-07], dtype=float32),\n",
       " array([1.484152e-05, 9.999938e-01, 5.655797e-08, 1.181596e-07, 1.915242e-06], dtype=float32),\n",
       " array([1.461238e-07, 9.028458e-07, 9.999986e-01, 8.479077e-08, 9.362628e-07], dtype=float32),\n",
       " array([9.999982e-01, 2.424764e-08, 1.362093e-08, 4.239650e-07, 9.442311e-08], dtype=float32),\n",
       " array([2.899612e-06, 2.316680e-06, 1.872873e-06, 9.999856e-01, 1.390373e-06], dtype=float32),\n",
       " array([1.603715e-05, 2.849797e-07, 6.072664e-07, 9.999835e-01, 1.126011e-06], dtype=float32),\n",
       " array([9.999428e-01, 6.680785e-06, 6.983696e-06, 2.816746e-06, 1.641526e-05], dtype=float32),\n",
       " array([3.951917e-07, 1.326706e-08, 3.067622e-08, 2.322720e-08, 9.999986e-01], dtype=float32),\n",
       " array([9.999654e-01, 3.150411e-06, 2.609008e-06, 5.364479e-06, 4.550781e-06], dtype=float32),\n",
       " array([1.294503e-08, 1.000000e+00, 7.146181e-10, 1.719004e-09, 3.021058e-09], dtype=float32),\n",
       " array([9.710884e-06, 4.611182e-07, 1.296230e-06, 1.255411e-07, 9.999832e-01], dtype=float32),\n",
       " array([1.875279e-02, 2.960731e-04, 1.270192e-03, 1.157507e-03, 9.791319e-01], dtype=float32),\n",
       " array([3.402494e-01, 6.824842e-05, 2.382901e-04, 6.267648e-05, 7.168745e-01], dtype=float32),\n",
       " array([9.998919e-01, 1.998654e-05, 1.669820e-05, 3.540875e-06, 1.481846e-05], dtype=float32),\n",
       " array([1.838266e-06, 8.298977e-07, 2.973860e-07, 9.999958e-01, 1.493930e-07], dtype=float32),\n",
       " array([1.849802e-06, 9.999973e-01, 6.264015e-07, 1.533121e-07, 7.329649e-07], dtype=float32),\n",
       " array([9.999895e-01, 4.345061e-07, 2.809747e-07, 3.527130e-07, 3.649378e-06], dtype=float32),\n",
       " array([1.091286e-05, 9.999902e-01, 9.817079e-07, 6.823415e-07, 2.235321e-06], dtype=float32),\n",
       " array([9.869748e-05, 9.999285e-01, 2.120647e-06, 7.073629e-06, 2.375514e-05], dtype=float32),\n",
       " array([3.694639e-03, 8.857144e-06, 3.103401e-05, 7.941249e-06, 9.967763e-01], dtype=float32),\n",
       " array([7.199244e-05, 5.640366e-06, 2.583314e-05, 4.454389e-06, 9.998667e-01], dtype=float32),\n",
       " array([8.396366e-06, 9.999901e-01, 7.013430e-07, 1.417452e-07, 3.733684e-05], dtype=float32),\n",
       " array([2.158004e-08, 1.150022e-07, 9.999998e-01, 6.029433e-09, 1.120285e-07], dtype=float32),\n",
       " array([3.074101e-05, 9.999822e-01, 1.137344e-06, 1.334878e-06, 8.897603e-06], dtype=float32),\n",
       " array([9.993554e-01, 9.844191e-05, 4.047698e-05, 7.033210e-05, 3.679181e-04], dtype=float32),\n",
       " array([5.519535e-03, 2.911896e-05, 3.359519e-05, 9.929477e-06, 9.954917e-01], dtype=float32),\n",
       " array([2.904427e-06, 2.690716e-05, 9.999715e-01, 5.159418e-06, 1.068875e-05], dtype=float32),\n",
       " array([6.425822e-07, 9.999993e-01, 4.715151e-08, 9.230831e-08, 7.681567e-07], dtype=float32),\n",
       " array([5.133548e-05, 9.995711e-01, 1.688871e-06, 2.296629e-06, 4.763055e-03], dtype=float32),\n",
       " array([9.999759e-01, 1.061182e-06, 1.430893e-06, 7.228231e-07, 1.303233e-05], dtype=float32),\n",
       " array([5.562758e-06, 2.842205e-06, 9.999919e-01, 3.674010e-07, 7.737762e-07], dtype=float32),\n",
       " array([9.856635e-08, 1.941268e-08, 2.488742e-08, 1.509543e-06, 9.999962e-01], dtype=float32),\n",
       " array([9.999809e-01, 1.273634e-06, 1.889251e-06, 4.210309e-07, 7.010220e-06], dtype=float32),\n",
       " array([9.999831e-01, 3.062002e-07, 2.199691e-07, 2.455505e-07, 1.008363e-05], dtype=float32),\n",
       " array([9.997081e-01, 2.229176e-05, 2.107288e-05, 4.807553e-06, 1.604763e-04], dtype=float32),\n",
       " array([9.999998e-01, 2.983050e-09, 3.103106e-09, 4.564155e-09, 2.977770e-08], dtype=float32),\n",
       " array([9.997873e-01, 3.983891e-06, 5.075909e-06, 2.855447e-06, 1.649254e-04], dtype=float32),\n",
       " array([1.435432e-07, 2.066532e-08, 4.270031e-09, 9.999998e-01, 6.117728e-09], dtype=float32),\n",
       " array([3.150915e-05, 8.633496e-07, 2.236609e-06, 4.188411e-07, 9.999533e-01], dtype=float32),\n",
       " array([3.776238e-05, 9.999535e-01, 9.287746e-06, 2.249358e-06, 6.542259e-06], dtype=float32),\n",
       " array([2.880470e-06, 1.026988e-06, 2.021256e-06, 9.999857e-01, 3.537712e-06], dtype=float32),\n",
       " array([9.999987e-01, 2.740932e-07, 1.862634e-08, 3.798397e-08, 2.108833e-07], dtype=float32),\n",
       " array([1.816958e-03, 6.103300e-05, 2.150912e-05, 4.849179e-06, 9.983004e-01], dtype=float32),\n",
       " array([9.997643e-01, 1.471310e-05, 5.209981e-05, 8.393717e-06, 6.606348e-05], dtype=float32),\n",
       " array([4.777725e-08, 1.000000e+00, 2.468223e-10, 1.925667e-10, 2.352457e-09], dtype=float32),\n",
       " array([6.458248e-05, 9.999709e-01, 3.741507e-07, 2.604392e-07, 2.511898e-05], dtype=float32),\n",
       " array([9.999980e-01, 1.286239e-07, 1.557447e-07, 2.886133e-07, 1.376713e-07], dtype=float32),\n",
       " array([2.805976e-08, 6.186690e-09, 1.907413e-08, 1.041568e-09, 9.999998e-01], dtype=float32),\n",
       " array([1.357963e-05, 7.002283e-07, 1.257766e-06, 2.617509e-07, 9.999781e-01], dtype=float32),\n",
       " array([9.999974e-01, 8.163414e-08, 6.380268e-08, 1.259386e-07, 7.540684e-07], dtype=float32),\n",
       " array([9.999790e-01, 3.920410e-06, 1.911713e-06, 2.329025e-06, 4.393276e-06], dtype=float32),\n",
       " array([9.968231e-01, 1.031611e-04, 2.736330e-04, 1.393705e-03, 3.116450e-05], dtype=float32),\n",
       " array([2.652380e-07, 3.285503e-08, 4.910412e-07, 3.290457e-08, 9.999985e-01], dtype=float32),\n",
       " array([4.193438e-08, 2.693247e-07, 9.999995e-01, 2.879660e-08, 1.851433e-07], dtype=float32),\n",
       " array([9.400437e-09, 4.974838e-07, 9.999995e-01, 2.546250e-08, 3.647425e-08], dtype=float32),\n",
       " array([9.999954e-01, 1.102672e-07, 8.025960e-08, 2.437619e-07, 1.524632e-06], dtype=float32),\n",
       " array([9.999999e-01, 6.394369e-10, 5.457213e-10, 2.592747e-09, 9.347247e-09], dtype=float32),\n",
       " array([1.427949e-08, 1.000000e+00, 3.085270e-10, 3.805195e-10, 8.995094e-09], dtype=float32),\n",
       " array([9.998292e-01, 1.282111e-05, 2.488650e-05, 9.332664e-06, 3.307423e-06], dtype=float32),\n",
       " array([9.997125e-01, 5.172339e-05, 2.767094e-05, 4.628183e-05, 1.110294e-04], dtype=float32),\n",
       " array([1.362415e-05, 9.999787e-01, 4.285112e-07, 1.569886e-06, 5.173177e-05], dtype=float32),\n",
       " array([2.117364e-05, 1.995293e-06, 1.612466e-05, 1.539503e-06, 9.999470e-01], dtype=float32),\n",
       " array([9.998943e-01, 1.422186e-06, 2.254791e-06, 8.389502e-07, 7.548164e-05], dtype=float32),\n",
       " array([9.160003e-04, 1.165459e-05, 6.063452e-05, 4.019795e-05, 9.988708e-01], dtype=float32),\n",
       " array([5.053786e-06, 5.278800e-07, 3.619735e-07, 9.999856e-01, 2.585243e-06], dtype=float32),\n",
       " array([4.033290e-06, 1.873661e-06, 2.837331e-06, 9.999868e-01, 1.355697e-06], dtype=float32),\n",
       " array([9.937279e-01, 9.725386e-05, 3.238971e-03, 1.877741e-04, 4.657355e-04], dtype=float32),\n",
       " array([3.538813e-05, 9.999818e-01, 7.156308e-07, 8.884731e-07, 1.158501e-05], dtype=float32),\n",
       " array([1.263901e-04, 1.956958e-05, 8.470350e-06, 4.350311e-06, 9.998265e-01], dtype=float32),\n",
       " array([4.978559e-07, 1.141021e-07, 1.450700e-07, 9.999988e-01, 4.625787e-08], dtype=float32),\n",
       " array([9.999781e-01, 8.619535e-07, 3.420846e-07, 5.324101e-07, 1.133915e-05], dtype=float32),\n",
       " array([1.696395e-04, 2.163409e-05, 4.842935e-05, 1.396943e-05, 9.997218e-01], dtype=float32),\n",
       " array([5.335936e-04, 9.988528e-01, 1.935473e-05, 1.419887e-04, 3.220659e-03], dtype=float32),\n",
       " array([1.493469e-05, 9.714589e-06, 9.999677e-01, 4.345195e-06, 6.855455e-06], dtype=float32),\n",
       " array([9.999084e-01, 5.833862e-07, 3.588525e-07, 1.007466e-06, 6.547488e-05], dtype=float32),\n",
       " array([2.591894e-07, 9.999998e-01, 6.561912e-09, 1.964930e-08, 8.594109e-08], dtype=float32),\n",
       " array([0.013358, 0.000993, 0.008766, 0.025658, 0.951488], dtype=float32),\n",
       " array([9.999645e-01, 8.054030e-07, 4.951012e-07, 9.705446e-07, 2.154547e-05], dtype=float32),\n",
       " array([9.999619e-01, 7.167619e-07, 5.976686e-07, 6.688185e-07, 2.855607e-05], dtype=float32),\n",
       " array([7.032562e-04, 1.891351e-05, 4.538064e-05, 1.045290e-05, 9.992260e-01], dtype=float32),\n",
       " array([9.046975e-08, 5.567825e-08, 9.911399e-08, 2.065492e-08, 9.999992e-01], dtype=float32),\n",
       " array([9.999515e-01, 3.662124e-06, 1.582867e-05, 1.596550e-06, 2.264465e-06], dtype=float32),\n",
       " array([2.735876e-04, 1.990814e-05, 9.996601e-01, 1.334701e-05, 8.368344e-05], dtype=float32),\n",
       " array([4.060513e-04, 5.510703e-05, 4.452124e-05, 1.753728e-05, 9.994804e-01], dtype=float32),\n",
       " array([1.883983e-08, 9.999999e-01, 7.607317e-10, 5.770747e-08, 8.091112e-09], dtype=float32),\n",
       " array([9.999923e-01, 3.328879e-07, 1.724327e-07, 4.452782e-07, 2.586442e-06], dtype=float32),\n",
       " array([2.929041e-03, 1.097653e-06, 2.690223e-07, 9.990189e-01, 2.493380e-06], dtype=float32),\n",
       " array([2.110472e-04, 9.975796e-01, 4.601966e-05, 8.455716e-05, 1.692037e-02], dtype=float32),\n",
       " array([1.299099e-05, 9.999509e-01, 1.586658e-06, 3.210119e-05, 7.674474e-06], dtype=float32),\n",
       " array([6.050414e-07, 5.049268e-07, 2.662898e-07, 3.097872e-07, 9.999956e-01], dtype=float32),\n",
       " array([9.992969e-01, 2.465677e-05, 4.001367e-05, 1.774718e-04, 1.734642e-04], dtype=float32),\n",
       " array([8.222865e-07, 4.155446e-06, 9.999906e-01, 2.320410e-06, 1.955219e-06], dtype=float32),\n",
       " array([9.105111e-06, 9.104824e-07, 2.225432e-06, 2.588087e-07, 9.999819e-01], dtype=float32),\n",
       " array([9.999832e-01, 2.390624e-07, 2.411894e-07, 2.867184e-07, 1.022318e-05], dtype=float32),\n",
       " array([2.388482e-07, 3.969958e-07, 9.999993e-01, 1.965166e-08, 2.841062e-07], dtype=float32),\n",
       " array([1.153429e-05, 9.964018e-08, 5.373115e-08, 9.999919e-01, 3.144265e-07], dtype=float32),\n",
       " array([8.250901e-07, 3.225859e-06, 9.999956e-01, 6.154515e-07, 2.002575e-06], dtype=float32),\n",
       " array([3.004399e-07, 1.880124e-06, 9.999976e-01, 2.824372e-07, 5.821324e-07], dtype=float32),\n",
       " array([2.118513e-07, 9.999999e-01, 6.934727e-09, 8.659032e-09, 7.607832e-08], dtype=float32),\n",
       " array([1.120510e-04, 8.812871e-05, 1.483241e-05, 9.997900e-01, 5.445752e-05], dtype=float32),\n",
       " array([5.729857e-05, 2.818097e-05, 5.412271e-05, 7.749198e-05, 9.997727e-01], dtype=float32),\n",
       " array([4.087536e-05, 8.508762e-07, 5.586526e-07, 9.999707e-01, 1.866613e-06], dtype=float32),\n",
       " array([9.958429e-06, 9.999943e-01, 4.708909e-07, 2.465567e-07, 8.680086e-06], dtype=float32),\n",
       " array([9.999205e-01, 7.920412e-06, 2.487490e-06, 8.011482e-06, 3.434622e-05], dtype=float32),\n",
       " array([1.333088e-05, 1.944413e-07, 3.900203e-07, 6.453963e-08, 9.999809e-01], dtype=float32),\n",
       " array([9.999847e-01, 6.886600e-07, 7.656445e-07, 8.117097e-07, 5.096033e-06], dtype=float32),\n",
       " array([5.709109e-05, 9.083599e-05, 1.025245e-06, 9.998216e-01, 1.182712e-06], dtype=float32),\n",
       " array([2.078562e-07, 8.352652e-07, 9.999989e-01, 5.630707e-08, 4.274488e-07], dtype=float32),\n",
       " array([9.985097e-01, 1.040046e-04, 3.975716e-05, 3.108051e-05, 1.198176e-03], dtype=float32),\n",
       " array([2.849680e-08, 1.969082e-07, 9.999996e-01, 1.993172e-08, 1.445078e-07], dtype=float32),\n",
       " array([9.999986e-01, 2.318869e-08, 1.666359e-07, 2.127260e-08, 1.333061e-07], dtype=float32),\n",
       " array([1.534961e-07, 7.540940e-09, 9.241697e-09, 9.999998e-01, 1.150955e-08], dtype=float32),\n",
       " array([9.999933e-01, 3.018158e-07, 2.454524e-07, 1.584771e-07, 2.672038e-06], dtype=float32),\n",
       " array([3.670718e-05, 2.531112e-06, 2.651061e-05, 9.983863e-01, 3.526589e-03], dtype=float32),\n",
       " array([9.999570e-01, 5.031219e-07, 8.787252e-07, 8.998030e-06, 4.914488e-06], dtype=float32),\n",
       " array([2.007477e-05, 9.999456e-01, 4.933727e-06, 1.373210e-06, 2.653985e-04], dtype=float32),\n",
       " array([3.507849e-07, 9.999995e-01, 2.234466e-08, 6.751283e-08, 1.073323e-07], dtype=float32),\n",
       " array([9.811240e-01, 3.316607e-04, 4.770581e-04, 4.816219e-03, 6.353960e-03], dtype=float32),\n",
       " array([9.996492e-01, 9.397934e-06, 1.588636e-05, 7.551704e-06, 2.523989e-04], dtype=float32),\n",
       " array([9.999166e-01, 6.824718e-06, 1.706294e-06, 1.224572e-05, 2.801848e-05], dtype=float32),\n",
       " array([9.999466e-01, 3.168163e-06, 2.631174e-06, 1.006099e-05, 1.089625e-05], dtype=float32),\n",
       " array([1.625107e-07, 9.999996e-01, 1.650798e-08, 3.502192e-08, 5.909141e-07], dtype=float32),\n",
       " array([2.690664e-07, 1.500519e-08, 5.411227e-09, 9.999996e-01, 7.880560e-09], dtype=float32),\n",
       " array([1.138204e-06, 9.999989e-01, 6.781482e-08, 7.750547e-08, 1.113169e-06], dtype=float32),\n",
       " array([1.623983e-04, 6.232210e-05, 9.994815e-01, 1.041754e-05, 8.218290e-04], dtype=float32),\n",
       " array([9.999950e-01, 1.782322e-07, 1.593160e-07, 1.835024e-07, 1.672044e-06], dtype=float32),\n",
       " array([9.999926e-01, 5.459810e-07, 7.543373e-07, 1.375537e-06, 6.760315e-07], dtype=float32),\n",
       " array([9.998710e-01, 8.568495e-06, 4.992053e-05, 9.287144e-06, 3.253725e-06], dtype=float32),\n",
       " array([2.382364e-02, 7.357087e-07, 3.741571e-06, 2.769353e-07, 9.821565e-01], dtype=float32),\n",
       " array([3.254404e-05, 2.978242e-06, 4.207654e-06, 9.999602e-01, 4.067436e-06], dtype=float32),\n",
       " array([9.025840e-09, 8.370619e-10, 6.048758e-10, 1.000000e+00, 5.175317e-10], dtype=float32),\n",
       " array([6.803219e-09, 1.430295e-07, 9.999999e-01, 8.110379e-09, 2.563163e-08], dtype=float32),\n",
       " array([1.952017e-07, 2.363382e-08, 6.560686e-09, 9.999996e-01, 9.964526e-09], dtype=float32),\n",
       " array([9.999859e-01, 5.545082e-07, 2.936911e-07, 4.530765e-07, 6.362189e-06], dtype=float32),\n",
       " array([3.159932e-03, 9.989680e-01, 3.459817e-06, 4.817274e-06, 1.171560e-05], dtype=float32),\n",
       " array([1.561423e-06, 2.206687e-07, 1.199684e-07, 9.999977e-01, 1.414169e-07], dtype=float32),\n",
       " array([1.541517e-06, 2.457024e-06, 9.999958e-01, 3.331312e-07, 1.720188e-06], dtype=float32),\n",
       " array([4.991005e-07, 1.920793e-08, 5.733161e-08, 1.663688e-08, 9.999987e-01], dtype=float32),\n",
       " array([4.459149e-04, 9.997814e-01, 4.353491e-06, 4.250356e-06, 2.233895e-04], dtype=float32),\n",
       " array([4.726082e-07, 5.257453e-08, 2.034167e-08, 9.999994e-01, 1.588505e-08], dtype=float32),\n",
       " array([6.769000e-04, 9.994276e-01, 1.027188e-04, 8.616176e-06, 2.325580e-05], dtype=float32),\n",
       " array([9.999936e-01, 5.672358e-07, 6.710284e-07, 9.090309e-07, 3.777568e-07], dtype=float32),\n",
       " array([9.999720e-01, 3.826375e-06, 5.231164e-06, 3.682900e-06, 2.842856e-06], dtype=float32),\n",
       " array([9.994205e-01, 5.731185e-05, 5.872552e-05, 9.250684e-05, 2.583092e-04], dtype=float32),\n",
       " array([9.999719e-01, 9.264270e-07, 1.146012e-05, 1.464594e-06, 1.032602e-06], dtype=float32),\n",
       " array([2.708420e-05, 1.911310e-06, 1.014544e-06, 9.999782e-01, 1.057416e-06], dtype=float32),\n",
       " array([4.024622e-04, 1.291876e-06, 4.801803e-06, 2.112395e-06, 9.995729e-01], dtype=float32),\n",
       " array([9.999679e-01, 9.851631e-07, 4.116139e-06, 2.692209e-06, 2.365382e-06], dtype=float32),\n",
       " array([9.999930e-01, 6.785402e-08, 2.956982e-08, 1.975703e-06, 3.437882e-07], dtype=float32),\n",
       " array([2.531462e-04, 4.031456e-07, 4.544977e-07, 9.998866e-01, 1.761428e-06], dtype=float32),\n",
       " array([9.999907e-01, 6.649390e-07, 9.604513e-07, 4.242105e-07, 2.371812e-06], dtype=float32),\n",
       " array([9.995863e-01, 4.142067e-05, 1.331909e-04, 3.578310e-05, 1.117550e-05], dtype=float32),\n",
       " array([1.863306e-08, 1.089715e-09, 7.697533e-10, 1.000000e+00, 8.656302e-10], dtype=float32),\n",
       " array([5.114915e-05, 9.999136e-01, 5.964119e-06, 1.838661e-05, 1.699260e-04], dtype=float32),\n",
       " array([3.867527e-07, 8.641032e-09, 2.535872e-09, 9.999996e-01, 8.590828e-09], dtype=float32),\n",
       " array([9.999974e-01, 9.115653e-08, 5.493351e-08, 9.233824e-08, 8.749464e-07], dtype=float32),\n",
       " array([2.684992e-05, 9.997025e-01, 2.049850e-06, 6.531281e-06, 2.447020e-03], dtype=float32),\n",
       " array([1.527851e-07, 9.999999e-01, 6.148306e-09, 1.433275e-08, 1.423992e-07], dtype=float32),\n",
       " array([1.498113e-06, 9.999994e-01, 5.658535e-09, 2.693003e-09, 7.307093e-08], dtype=float32),\n",
       " array([9.998645e-01, 5.027046e-06, 7.763782e-06, 6.819552e-06, 7.964916e-05], dtype=float32),\n",
       " array([5.600074e-07, 9.999502e-01, 1.900563e-09, 2.898711e-05, 2.216148e-08], dtype=float32),\n",
       " array([9.999971e-01, 1.994852e-07, 2.301118e-07, 9.774036e-08, 4.586367e-07], dtype=float32),\n",
       " array([9.999740e-01, 1.156180e-06, 2.645148e-06, 4.352625e-07, 1.957748e-07], dtype=float32),\n",
       " array([9.999148e-01, 4.519600e-07, 5.444114e-07, 1.927181e-07, 7.043472e-05], dtype=float32),\n",
       " array([9.999750e-01, 1.853624e-06, 1.358383e-06, 9.545669e-07, 1.202407e-05], dtype=float32),\n",
       " array([2.796087e-08, 9.645492e-08, 9.999999e-01, 5.405738e-09, 7.867527e-08], dtype=float32),\n",
       " array([9.999995e-01, 1.331856e-08, 5.932299e-09, 1.968982e-08, 1.078597e-07], dtype=float32),\n",
       " array([1.277963e-08, 6.967266e-08, 9.999999e-01, 2.500450e-09, 6.425172e-08], dtype=float32),\n",
       " array([1.599053e-08, 1.000000e+00, 1.215583e-09, 4.942018e-09, 7.357815e-09], dtype=float32),\n",
       " array([1.755814e-08, 1.306225e-07, 9.999999e-01, 5.714130e-09, 2.069309e-08], dtype=float32),\n",
       " array([1.457194e-06, 9.999987e-01, 6.663662e-08, 8.485386e-08, 4.503943e-07], dtype=float32),\n",
       " array([1.447270e-06, 2.951640e-06, 9.999934e-01, 3.682447e-07, 8.193009e-06], dtype=float32),\n",
       " array([4.876041e-05, 9.999210e-01, 2.494215e-05, 7.275423e-06, 1.603279e-05], dtype=float32),\n",
       " array([1.002167e-06, 7.537627e-07, 9.999979e-01, 3.794205e-08, 1.002857e-06], dtype=float32),\n",
       " array([7.344264e-05, 7.055190e-07, 4.782567e-07, 9.999644e-01, 4.439964e-07], dtype=float32),\n",
       " array([1.504277e-05, 8.715272e-06, 2.953487e-06, 4.208674e-06, 9.999552e-01], dtype=float32),\n",
       " array([9.985994e-01, 2.042564e-05, 3.589671e-05, 6.699096e-06, 1.374942e-03], dtype=float32),\n",
       " array([9.954330e-01, 1.508312e-04, 3.030410e-03, 3.661740e-05, 6.379129e-05], dtype=float32),\n",
       " array([1.379075e-07, 8.195886e-07, 9.999988e-01, 8.982325e-08, 3.810356e-07], dtype=float32),\n",
       " array([9.254848e-07, 5.867608e-08, 3.740643e-08, 9.999988e-01, 6.795764e-08], dtype=float32),\n",
       " array([9.999729e-01, 3.050840e-06, 3.999312e-06, 1.420039e-06, 6.567977e-06], dtype=float32),\n",
       " array([3.101463e-08, 4.339003e-07, 9.999995e-01, 4.906985e-08, 1.040921e-07], dtype=float32),\n",
       " array([2.837828e-06, 1.078745e-07, 4.175075e-08, 9.999974e-01, 8.281457e-08], dtype=float32),\n",
       " array([1.028500e-05, 1.572278e-07, 5.632145e-07, 1.016198e-06, 9.999740e-01], dtype=float32),\n",
       " array([1.913820e-04, 3.022830e-07, 6.653539e-07, 8.557142e-08, 9.998093e-01], dtype=float32),\n",
       " array([9.999896e-01, 7.694339e-07, 1.137698e-06, 1.931588e-07, 5.510552e-07], dtype=float32),\n",
       " array([1.302697e-07, 7.915095e-07, 9.999990e-01, 5.116823e-08, 4.902691e-07], dtype=float32),\n",
       " array([2.312800e-08, 1.000000e+00, 4.165662e-09, 2.873311e-09, 8.989314e-09], dtype=float32),\n",
       " array([1.150900e-05, 6.789622e-07, 1.863088e-06, 1.502924e-07, 9.999789e-01], dtype=float32),\n",
       " array([9.999043e-01, 1.149492e-05, 3.084929e-05, 5.315570e-06, 1.254452e-05], dtype=float32),\n",
       " array([9.992654e-01, 9.979976e-05, 6.124242e-05, 1.977214e-04, 1.786503e-04], dtype=float32),\n",
       " array([1.115937e-06, 4.164552e-08, 1.126727e-07, 1.903156e-07, 9.999958e-01], dtype=float32),\n",
       " array([1.018215e-05, 1.030907e-06, 2.082480e-06, 3.705134e-05, 9.999135e-01], dtype=float32),\n",
       " array([1.291169e-04, 4.183519e-06, 3.287349e-05, 9.998140e-01, 2.232880e-05], dtype=float32),\n",
       " array([5.568757e-09, 1.000000e+00, 3.657794e-10, 8.549288e-10, 1.807387e-09], dtype=float32),\n",
       " array([3.326115e-08, 1.000000e+00, 1.469241e-09, 4.979781e-09, 1.979057e-08], dtype=float32),\n",
       " array([7.367051e-04, 3.511814e-04, 2.107988e-04, 6.571131e-05, 9.987988e-01], dtype=float32),\n",
       " array([2.074419e-03, 1.177176e-04, 4.056357e-04, 9.983162e-01, 3.799577e-04], dtype=float32),\n",
       " array([3.526226e-06, 9.999976e-01, 1.394475e-07, 1.811839e-07, 1.432583e-06], dtype=float32),\n",
       " array([2.565874e-06, 5.987457e-07, 6.078800e-07, 9.999949e-01, 4.019701e-07], dtype=float32),\n",
       " array([9.999882e-01, 7.214658e-07, 4.272637e-07, 6.962601e-07, 3.292854e-06], dtype=float32),\n",
       " array([3.210168e-06, 9.999954e-01, 3.355612e-07, 1.072105e-06, 2.334440e-06], dtype=float32),\n",
       " array([3.571767e-04, 2.538818e-05, 9.232617e-05, 9.994678e-01, 1.495648e-04], dtype=float32),\n",
       " array([2.636647e-05, 5.867294e-07, 4.966916e-06, 8.110759e-05, 9.997829e-01], dtype=float32),\n",
       " array([1.016060e-07, 9.999999e-01, 5.341792e-09, 7.009743e-09, 8.790666e-08], dtype=float32),\n",
       " array([9.995719e-01, 3.682018e-05, 4.752349e-05, 9.983371e-06, 5.822118e-06], dtype=float32),\n",
       " array([9.999968e-01, 8.878321e-08, 8.162402e-08, 3.457752e-07, 4.886201e-07], dtype=float32),\n",
       " array([9.999268e-01, 4.047134e-06, 6.039592e-06, 1.693397e-06, 3.694500e-05], dtype=float32),\n",
       " array([3.297588e-08, 1.000000e+00, 1.460000e-09, 3.551288e-09, 1.123215e-08], dtype=float32),\n",
       " array([1.524677e-05, 8.935734e-06, 5.760224e-06, 9.304742e-06, 9.999369e-01], dtype=float32),\n",
       " array([9.999408e-01, 1.119156e-05, 8.386035e-06, 7.613734e-06, 1.249681e-05], dtype=float32),\n",
       " array([6.303395e-06, 2.472280e-07, 2.846310e-07, 7.159846e-08, 9.999897e-01], dtype=float32),\n",
       " array([9.999927e-01, 3.588443e-07, 3.757189e-07, 3.182045e-07, 2.242978e-06], dtype=float32),\n",
       " array([9.999986e-01, 7.421823e-08, 2.744034e-07, 5.164406e-08, 1.500465e-07], dtype=float32),\n",
       " array([9.999893e-01, 2.292503e-07, 1.111064e-07, 2.395065e-07, 5.468614e-06], dtype=float32),\n",
       " array([4.842013e-03, 4.792301e-06, 1.209852e-05, 1.029107e-05, 9.956247e-01], dtype=float32),\n",
       " array([9.975618e-01, 3.812564e-05, 8.730579e-05, 7.553664e-06, 1.685462e-03], dtype=float32),\n",
       " array([8.903221e-07, 1.895517e-06, 9.999958e-01, 5.275977e-07, 1.456236e-06], dtype=float32),\n",
       " array([4.700910e-05, 9.999800e-01, 6.610102e-07, 3.630552e-07, 4.880551e-06], dtype=float32),\n",
       " array([9.998852e-01, 4.198323e-06, 1.405521e-05, 5.529236e-06, 7.963075e-07], dtype=float32),\n",
       " array([9.999869e-01, 2.467565e-07, 1.700902e-07, 3.074179e-06, 1.333294e-06], dtype=float32),\n",
       " array([1.683463e-08, 2.298541e-09, 9.426377e-10, 1.000000e+00, 7.264008e-10], dtype=float32),\n",
       " array([1.225010e-05, 9.999942e-01, 4.174549e-07, 1.846732e-07, 3.168625e-06], dtype=float32),\n",
       " array([9.997802e-01, 7.917572e-06, 2.806375e-05, 2.463798e-06, 1.198488e-06], dtype=float32),\n",
       " array([3.949967e-03, 7.928619e-06, 2.269282e-05, 3.771960e-06, 9.966242e-01], dtype=float32),\n",
       " array([7.782417e-07, 8.371836e-06, 9.999913e-01, 6.433063e-07, 4.967687e-06], dtype=float32),\n",
       " array([7.047288e-05, 9.999642e-01, 1.907673e-06, 1.646225e-06, 1.351933e-05], dtype=float32),\n",
       " array([1.075716e-07, 9.999998e-01, 4.468338e-08, 2.417588e-08, 8.052533e-08], dtype=float32),\n",
       " array([5.616730e-07, 2.005040e-06, 9.999973e-01, 1.623021e-07, 2.482497e-06], dtype=float32),\n",
       " array([9.176696e-03, 9.268044e-01, 2.955006e-04, 5.571862e-02, 3.356170e-03], dtype=float32),\n",
       " array([9.999824e-01, 4.598604e-07, 1.815151e-07, 6.201283e-07, 9.546748e-06], dtype=float32),\n",
       " array([9.998901e-01, 5.388331e-06, 2.634690e-06, 1.719742e-06, 6.726457e-05], dtype=float32),\n",
       " array([9.999989e-01, 2.655991e-08, 1.050603e-08, 5.089996e-08, 2.921836e-07], dtype=float32),\n",
       " array([1.092148e-08, 3.142149e-07, 9.999996e-01, 2.581699e-08, 4.263279e-08], dtype=float32),\n",
       " array([1.417060e-06, 6.435716e-06, 9.999870e-01, 6.462868e-07, 1.564083e-05], dtype=float32),\n",
       " array([5.103235e-06, 2.430720e-07, 3.072700e-07, 9.999932e-01, 7.816938e-07], dtype=float32),\n",
       " array([9.999393e-01, 1.584660e-06, 2.918087e-06, 5.676633e-07, 3.007102e-05], dtype=float32),\n",
       " array([2.055842e-05, 5.750745e-06, 9.999757e-01, 3.690300e-07, 2.675284e-06], dtype=float32),\n",
       " array([1.515940e-06, 1.800515e-07, 2.301247e-07, 9.999974e-01, 2.187937e-07], dtype=float32),\n",
       " array([2.072901e-06, 9.999986e-01, 6.104466e-08, 6.103628e-08, 4.826613e-07], dtype=float32),\n",
       " array([3.144151e-07, 3.949904e-08, 5.534146e-08, 9.999993e-01, 3.557160e-08], dtype=float32),\n",
       " array([3.963637e-09, 6.010507e-10, 2.090201e-09, 8.295516e-11, 1.000000e+00], dtype=float32),\n",
       " array([1.742332e-04, 9.999166e-01, 8.758246e-07, 1.051804e-06, 3.217925e-06], dtype=float32),\n",
       " array([1.324255e-06, 1.293793e-06, 9.999958e-01, 1.045220e-07, 5.191089e-06], dtype=float32),\n",
       " array([9.998236e-01, 1.801272e-05, 4.003482e-05, 1.778900e-05, 1.452317e-05], dtype=float32),\n",
       " array([1.279471e-05, 2.142722e-06, 1.430211e-06, 9.999809e-01, 2.473373e-06], dtype=float32),\n",
       " array([9.999994e-01, 7.896765e-09, 3.455827e-09, 1.417018e-08, 1.882414e-07], dtype=float32),\n",
       " array([9.999917e-01, 8.521489e-08, 5.050906e-08, 1.732630e-07, 4.291387e-06], dtype=float32),\n",
       " array([9.999757e-01, 7.001588e-07, 7.831840e-07, 5.866825e-07, 1.403544e-05], dtype=float32),\n",
       " array([3.838365e-08, 7.232984e-10, 2.253987e-10, 1.000000e+00, 8.133876e-10], dtype=float32),\n",
       " array([1.077260e-05, 8.419567e-07, 2.787610e-06, 3.513105e-06, 9.999694e-01], dtype=float32),\n",
       " array([6.034310e-05, 3.795258e-06, 1.923020e-06, 9.999452e-01, 5.625678e-06], dtype=float32),\n",
       " array([1.438454e-08, 1.000000e+00, 3.848566e-10, 6.562760e-10, 4.557979e-09], dtype=float32),\n",
       " array([6.858140e-01, 1.328756e-04, 8.478494e-03, 1.992817e-04, 2.123554e-01], dtype=float32),\n",
       " array([5.020130e-03, 5.156988e-06, 9.895634e-06, 4.585467e-06, 9.958670e-01], dtype=float32),\n",
       " array([2.126229e-05, 2.300396e-05, 7.898040e-06, 7.267234e-05, 9.998471e-01], dtype=float32),\n",
       " array([4.287645e-08, 2.428676e-07, 9.999995e-01, 1.907740e-08, 2.872844e-07], dtype=float32),\n",
       " array([3.576049e-06, 9.999961e-01, 8.882726e-08, 5.800532e-07, 5.058820e-06], dtype=float32),\n",
       " array([2.389354e-08, 1.418335e-07, 9.999996e-01, 2.080298e-08, 1.519780e-07], dtype=float32),\n",
       " array([9.999266e-01, 1.547335e-05, 6.180588e-06, 9.415365e-06, 1.919721e-05], dtype=float32),\n",
       " array([3.064721e-08, 1.000000e+00, 3.888588e-10, 1.075654e-09, 1.012341e-08], dtype=float32),\n",
       " array([6.161245e-07, 3.871600e-06, 9.999961e-01, 3.311477e-07, 1.329786e-06], dtype=float32),\n",
       " array([9.994766e-01, 3.564238e-05, 1.768838e-05, 7.557332e-05, 2.820572e-04], dtype=float32),\n",
       " array([9.999995e-01, 3.690657e-09, 2.708545e-09, 4.453268e-09, 1.899899e-07], dtype=float32),\n",
       " array([6.832050e-05, 4.856700e-07, 1.270794e-07, 9.999672e-01, 2.690077e-07], dtype=float32),\n",
       " array([2.876508e-09, 4.755115e-08, 9.999999e-01, 4.087710e-09, 1.298735e-08], dtype=float32),\n",
       " array([3.172615e-08, 3.376462e-09, 1.925727e-08, 1.023909e-09, 9.999999e-01], dtype=float32),\n",
       " array([9.992884e-01, 1.917644e-05, 2.950482e-05, 1.040144e-05, 6.148950e-04], dtype=float32),\n",
       " array([7.472920e-05, 9.999593e-01, 2.459138e-06, 1.760337e-06, 9.601127e-05], dtype=float32),\n",
       " array([9.999654e-01, 2.720912e-06, 3.729043e-06, 9.992877e-06, 2.770885e-06], dtype=float32),\n",
       " array([5.399080e-05, 3.491252e-06, 8.968730e-06, 2.872767e-06, 9.999117e-01], dtype=float32),\n",
       " array([1.026138e-04, 8.726233e-06, 9.113415e-06, 1.447196e-05, 9.998181e-01], dtype=float32),\n",
       " array([5.198949e-05, 1.867031e-05, 6.824113e-05, 1.474230e-05, 9.998354e-01], dtype=float32),\n",
       " array([1.111867e-05, 9.999911e-01, 1.341561e-06, 1.063994e-06, 7.127700e-06], dtype=float32),\n",
       " array([6.669853e-07, 9.999974e-01, 3.783264e-08, 1.000417e-06, 4.499564e-07], dtype=float32),\n",
       " array([1.163550e-08, 4.147537e-10, 2.980439e-09, 8.000020e-09, 9.999999e-01], dtype=float32),\n",
       " array([9.980272e-04, 1.206859e-05, 2.938977e-05, 3.077312e-06, 9.990664e-01], dtype=float32),\n",
       " array([2.275638e-06, 9.365647e-07, 2.281992e-06, 3.834649e-07, 9.999899e-01], dtype=float32),\n",
       " array([9.999952e-01, 2.859917e-07, 6.293439e-07, 3.864938e-07, 3.519268e-07], dtype=float32),\n",
       " array([5.788677e-05, 2.768947e-05, 8.279412e-05, 9.998050e-01, 3.847203e-05], dtype=float32),\n",
       " array([9.999856e-01, 6.558423e-07, 1.027503e-06, 1.451075e-07, 1.484284e-07], dtype=float32),\n",
       " array([1.652040e-04, 1.292639e-05, 9.998530e-01, 5.132798e-06, 4.239660e-06], dtype=float32),\n",
       " array([9.999849e-01, 6.224824e-07, 6.322266e-07, 4.976475e-07, 7.079601e-06], dtype=float32),\n",
       " array([9.995223e-01, 4.523202e-06, 1.568456e-06, 2.351105e-06, 4.744003e-04], dtype=float32),\n",
       " array([9.955177e-01, 2.062476e-05, 1.527605e-04, 9.118822e-06, 3.693374e-03], dtype=float32),\n",
       " array([9.999973e-01, 6.760470e-08, 1.085086e-07, 3.360121e-07, 3.368649e-07], dtype=float32),\n",
       " array([6.086548e-09, 6.987074e-10, 9.720280e-10, 8.750443e-10, 1.000000e+00], dtype=float32),\n",
       " array([1.240510e-06, 5.262427e-06, 9.999946e-01, 4.894773e-07, 2.328519e-06], dtype=float32),\n",
       " array([7.359351e-06, 1.100745e-06, 3.170193e-07, 9.999903e-01, 7.995164e-07], dtype=float32),\n",
       " array([3.443829e-06, 1.622326e-07, 2.068003e-07, 9.999950e-01, 6.385844e-07], dtype=float32),\n",
       " array([6.273969e-05, 9.999092e-01, 1.402868e-05, 2.409183e-05, 2.026168e-05], dtype=float32),\n",
       " array([6.112249e-08, 2.913647e-07, 9.999995e-01, 1.682240e-08, 2.441865e-07], dtype=float32),\n",
       " array([9.982716e-01, 5.814692e-05, 7.490862e-04, 8.811206e-05, 2.299439e-04], dtype=float32),\n",
       " array([7.818133e-08, 1.808359e-06, 9.999981e-01, 1.184059e-07, 3.561815e-07], dtype=float32),\n",
       " array([9.966635e-01, 4.549955e-04, 1.327667e-04, 1.865601e-04, 2.855408e-03], dtype=float32),\n",
       " array([1.495579e-07, 1.687130e-08, 2.036093e-08, 1.249698e-08, 9.999994e-01], dtype=float32),\n",
       " array([9.999490e-01, 3.099286e-06, 1.031978e-05, 7.714127e-06, 3.326044e-06], dtype=float32),\n",
       " array([8.271868e-05, 9.998910e-01, 2.206940e-05, 1.945336e-05, 3.414942e-05], dtype=float32),\n",
       " array([9.998900e-01, 8.321434e-06, 1.838286e-05, 5.125261e-06, 3.889178e-05], dtype=float32),\n",
       " array([1.821252e-04, 3.056130e-07, 2.772931e-06, 2.450070e-06, 9.996665e-01], dtype=float32),\n",
       " array([2.847917e-06, 7.101756e-08, 5.957111e-07, 2.639845e-07, 9.999917e-01], dtype=float32),\n",
       " array([1.569592e-03, 2.414718e-05, 5.479315e-05, 6.795188e-06, 9.984420e-01], dtype=float32),\n",
       " array([9.998065e-01, 1.710601e-05, 8.023770e-06, 3.422786e-05, 6.896612e-05], dtype=float32),\n",
       " array([6.670423e-04, 6.058972e-05, 4.753210e-03, 1.899754e-04, 9.965430e-01], dtype=float32),\n",
       " array([9.999942e-01, 2.711493e-07, 7.097855e-07, 1.743998e-07, 1.444917e-06], dtype=float32),\n",
       " array([3.436277e-06, 9.999975e-01, 6.033738e-08, 1.869262e-07, 1.970451e-06], dtype=float32),\n",
       " array([9.999965e-01, 2.871171e-07, 3.933136e-07, 1.355896e-07, 7.628013e-07], dtype=float32),\n",
       " array([1.232726e-06, 5.061827e-06, 9.999855e-01, 3.959525e-06, 1.631857e-06], dtype=float32),\n",
       " array([1.094665e-07, 9.999999e-01, 5.190107e-09, 4.629765e-09, 1.007972e-07], dtype=float32),\n",
       " array([0.089147, 0.38732 , 0.002274, 0.005367, 0.457923], dtype=float32),\n",
       " array([6.669266e-09, 9.759897e-08, 9.999999e-01, 7.867494e-09, 2.224758e-08], dtype=float32),\n",
       " array([1.095621e-03, 3.551853e-05, 4.590486e-05, 4.697729e-05, 9.987528e-01], dtype=float32),\n",
       " array([1.571408e-05, 1.260247e-06, 4.560395e-06, 2.569233e-06, 9.999639e-01], dtype=float32),\n",
       " array([3.518259e-06, 4.358447e-06, 9.999684e-01, 6.489910e-06, 2.272127e-05], dtype=float32),\n",
       " array([9.999754e-01, 4.307014e-07, 3.143183e-07, 8.138506e-07, 1.383064e-05], dtype=float32),\n",
       " array([1.286891e-06, 9.999980e-01, 3.349563e-07, 1.879060e-07, 5.114715e-07], dtype=float32),\n",
       " array([4.782917e-01, 4.290458e-05, 8.403369e-05, 3.326535e-06, 5.448517e-01], dtype=float32),\n",
       " array([6.227811e-07, 1.619454e-07, 8.942768e-08, 9.999987e-01, 8.623928e-08], dtype=float32),\n",
       " array([9.999406e-01, 4.018964e-06, 1.066602e-05, 1.251425e-05, 2.294019e-06], dtype=float32),\n",
       " array([4.237908e-05, 9.999393e-01, 2.277848e-06, 6.804351e-06, 2.004858e-04], dtype=float32),\n",
       " array([9.999945e-01, 4.558277e-08, 4.081464e-08, 1.125004e-07, 2.479877e-06], dtype=float32),\n",
       " array([9.222933e-01, 9.243981e-05, 1.605666e-04, 5.843804e-05, 1.070319e-01], dtype=float32),\n",
       " array([4.155665e-08, 9.999999e-01, 2.725049e-09, 1.115572e-08, 4.641164e-08], dtype=float32),\n",
       " array([2.835195e-03, 9.959216e-01, 1.328780e-04, 2.080312e-03, 1.079202e-03], dtype=float32),\n",
       " array([5.228077e-06, 3.281007e-07, 4.667855e-07, 5.657448e-07, 9.999865e-01], dtype=float32),\n",
       " array([8.133322e-09, 4.689661e-08, 9.999999e-01, 2.111723e-09, 5.372755e-08], dtype=float32),\n",
       " array([9.999980e-01, 2.087202e-08, 1.269342e-08, 1.061340e-07, 5.740010e-07], dtype=float32),\n",
       " array([1.564867e-07, 1.326147e-08, 3.697533e-09, 9.999998e-01, 4.456285e-09], dtype=float32),\n",
       " array([2.939088e-03, 9.986687e-01, 3.607248e-05, 4.509867e-05, 1.254346e-04], dtype=float32),\n",
       " array([9.999957e-01, 2.329242e-07, 4.233586e-07, 7.700566e-08, 1.090154e-07], dtype=float32),\n",
       " array([4.899183e-05, 9.995695e-01, 3.507987e-06, 4.595585e-05, 1.287229e-03], dtype=float32),\n",
       " array([9.932899e-01, 4.736066e-05, 1.021680e-04, 3.232083e-05, 7.201850e-03], dtype=float32),\n",
       " array([9.999733e-01, 4.230700e-07, 2.245520e-07, 1.080365e-06, 1.430549e-05], dtype=float32),\n",
       " array([3.888615e-07, 9.999996e-01, 1.363528e-08, 2.498196e-08, 2.720118e-07], dtype=float32),\n",
       " array([9.999629e-01, 9.156009e-08, 7.653007e-08, 1.644729e-07, 2.710234e-05], dtype=float32),\n",
       " array([9.998323e-01, 7.236141e-06, 2.598755e-05, 8.795697e-06, 5.351072e-05], dtype=float32),\n",
       " array([1.800500e-07, 9.999998e-01, 5.907969e-08, 1.085001e-08, 1.730621e-07], dtype=float32),\n",
       " array([4.679545e-05, 1.083682e-07, 3.072864e-07, 4.341879e-08, 9.999479e-01], dtype=float32),\n",
       " array([2.853456e-05, 1.581156e-05, 3.333150e-05, 9.998270e-01, 1.228286e-04], dtype=float32),\n",
       " array([9.999726e-01, 3.086176e-06, 2.323798e-06, 1.434722e-06, 1.087727e-05], dtype=float32),\n",
       " array([1.451671e-06, 5.743658e-08, 5.003157e-07, 9.367723e-08, 9.999961e-01], dtype=float32),\n",
       " array([9.051469e-05, 3.819254e-06, 7.881449e-06, 2.454614e-06, 9.998735e-01], dtype=float32),\n",
       " array([9.999918e-01, 2.202699e-07, 1.816725e-07, 8.584476e-08, 3.854385e-06], dtype=float32),\n",
       " array([1.107748e-07, 9.999999e-01, 1.049263e-08, 1.910369e-08, 9.619054e-08], dtype=float32),\n",
       " array([1.145819e-08, 1.936681e-07, 9.999998e-01, 1.792827e-08, 5.450738e-08], dtype=float32),\n",
       " array([9.982277e-01, 2.209497e-04, 9.564247e-05, 2.525705e-04, 1.064019e-03], dtype=float32),\n",
       " array([9.999595e-01, 2.349990e-07, 1.210957e-07, 1.286983e-07, 3.117722e-05], dtype=float32),\n",
       " array([9.295367e-06, 2.764303e-07, 3.675573e-06, 4.346229e-07, 9.999807e-01], dtype=float32),\n",
       " array([3.414272e-07, 9.877596e-07, 9.999981e-01, 1.475854e-07, 1.223730e-06], dtype=float32),\n",
       " array([3.614901e-08, 1.628087e-07, 9.999996e-01, 2.270585e-08, 1.669434e-07], dtype=float32),\n",
       " array([1.524870e-07, 3.764241e-07, 9.999994e-01, 1.707327e-08, 5.455209e-07], dtype=float32),\n",
       " array([5.352143e-09, 7.623215e-08, 9.999999e-01, 4.057787e-09, 2.038525e-08], dtype=float32),\n",
       " array([1.246484e-04, 8.329080e-06, 4.149114e-06, 9.998831e-01, 1.782267e-05], dtype=float32),\n",
       " array([9.997498e-01, 2.286490e-05, 1.344108e-05, 1.242169e-05, 1.544533e-04], dtype=float32),\n",
       " array([4.287484e-06, 9.999965e-01, 7.627825e-08, 1.646424e-07, 3.306440e-07], dtype=float32),\n",
       " array([8.478668e-09, 1.000000e+00, 1.193259e-10, 4.162158e-10, 1.812382e-09], dtype=float32),\n",
       " array([9.998968e-01, 3.932738e-06, 1.225781e-05, 4.135261e-06, 3.868120e-05], dtype=float32),\n",
       " array([9.994673e-01, 8.135153e-06, 4.245276e-06, 5.118198e-06, 5.150992e-04], dtype=float32),\n",
       " array([9.989874e-01, 2.331383e-06, 6.365101e-06, 9.228487e-07, 1.127201e-03], dtype=float32),\n",
       " array([7.770783e-04, 9.984865e-01, 2.269789e-04, 6.948767e-04, 4.162819e-04], dtype=float32),\n",
       " array([7.338924e-07, 4.531309e-08, 1.201369e-08, 9.999993e-01, 1.241793e-08], dtype=float32),\n",
       " array([3.695312e-06, 1.218821e-06, 8.992925e-06, 5.419761e-07, 9.999806e-01], dtype=float32),\n",
       " array([1.454605e-04, 9.999146e-01, 2.608391e-06, 3.714625e-06, 1.362202e-05], dtype=float32),\n",
       " array([9.999918e-01, 6.604928e-07, 5.619500e-07, 6.001434e-07, 1.911038e-06], dtype=float32),\n",
       " array([9.997485e-01, 1.248724e-05, 1.244858e-05, 3.028979e-05, 1.268259e-04], dtype=float32),\n",
       " array([2.627704e-04, 1.062166e-05, 7.765619e-06, 5.796892e-06, 9.996864e-01], dtype=float32),\n",
       " array([3.765705e-07, 1.850325e-07, 3.745419e-07, 5.513201e-08, 9.999976e-01], dtype=float32),\n",
       " array([2.363336e-07, 9.999996e-01, 4.356362e-08, 7.027615e-09, 3.304627e-08], dtype=float32),\n",
       " array([9.999493e-01, 2.796477e-06, 6.069692e-06, 9.088011e-06, 7.125485e-06], dtype=float32),\n",
       " array([3.170204e-03, 5.328991e-05, 9.982587e-01, 1.369835e-05, 3.384563e-05], dtype=float32),\n",
       " array([9.999704e-01, 1.292063e-06, 6.035850e-07, 1.149320e-06, 1.538732e-05], dtype=float32),\n",
       " array([6.516453e-07, 1.957942e-06, 9.999975e-01, 1.470048e-07, 1.173495e-06], dtype=float32),\n",
       " array([2.523004e-07, 8.074080e-08, 2.848533e-08, 9.999994e-01, 1.878644e-08], dtype=float32),\n",
       " array([1.116589e-08, 3.055751e-07, 9.999995e-01, 2.681585e-08, 4.731783e-08], dtype=float32),\n",
       " array([9.999988e-01, 6.008977e-08, 1.008184e-07, 2.235809e-08, 2.992426e-07], dtype=float32),\n",
       " array([1.270707e-07, 9.063016e-07, 9.999992e-01, 5.667048e-08, 2.538349e-07], dtype=float32),\n",
       " array([2.550075e-07, 9.999992e-01, 2.420919e-08, 1.535944e-07, 1.698313e-06], dtype=float32),\n",
       " array([1.031838e-05, 9.999938e-01, 1.473641e-07, 4.032721e-07, 4.003353e-06], dtype=float32),\n",
       " array([3.285635e-05, 2.540889e-07, 7.358112e-07, 2.930110e-07, 9.999559e-01], dtype=float32),\n",
       " array([1.512057e-05, 1.035510e-06, 2.863034e-07, 9.999846e-01, 6.920380e-07], dtype=float32),\n",
       " array([1.564095e-05, 2.237055e-08, 1.645577e-07, 1.263655e-07, 9.999677e-01], dtype=float32),\n",
       " array([8.646093e-09, 4.294725e-08, 9.999999e-01, 5.395108e-09, 2.584922e-08], dtype=float32),\n",
       " array([2.601706e-07, 5.043339e-08, 1.611521e-08, 9.999995e-01, 2.273740e-08], dtype=float32),\n",
       " array([2.592565e-08, 2.676128e-07, 9.999996e-01, 2.066957e-08, 1.022216e-07], dtype=float32),\n",
       " array([2.441565e-04, 1.257122e-06, 1.347164e-06, 9.998966e-01, 9.677718e-07], dtype=float32),\n",
       " array([1.400904e-06, 6.062290e-08, 5.161098e-08, 9.999985e-01, 9.026739e-08], dtype=float32),\n",
       " array([2.562924e-07, 6.765704e-09, 1.429519e-08, 7.253822e-09, 9.999993e-01], dtype=float32),\n",
       " array([9.999977e-01, 5.812026e-08, 3.901318e-08, 1.161971e-07, 6.242337e-07], dtype=float32),\n",
       " array([9.999456e-01, 1.422072e-06, 1.034978e-06, 5.445510e-07, 3.693824e-05], dtype=float32),\n",
       " array([3.094544e-03, 1.415454e-03, 1.191575e-04, 9.963897e-01, 6.370983e-04], dtype=float32),\n",
       " array([9.922945e-01, 9.653852e-05, 8.416137e-05, 3.662543e-05, 8.806646e-03], dtype=float32),\n",
       " array([4.780976e-06, 1.047617e-07, 1.951239e-07, 4.817659e-08, 9.999924e-01], dtype=float32),\n",
       " array([1.576010e-04, 3.386222e-05, 9.934632e-01, 5.699742e-05, 2.787727e-02], dtype=float32),\n",
       " array([3.134280e-05, 1.082096e-06, 5.368576e-07, 8.593434e-07, 9.999478e-01], dtype=float32),\n",
       " array([3.881145e-08, 8.279133e-09, 9.428397e-09, 1.597965e-08, 9.999996e-01], dtype=float32),\n",
       " array([9.886352e-01, 5.834510e-05, 5.176308e-04, 1.234561e-02, 5.438777e-05], dtype=float32),\n",
       " array([7.612069e-07, 1.212856e-08, 1.864409e-07, 1.045864e-06, 9.999926e-01], dtype=float32),\n",
       " array([3.665918e-05, 9.999212e-01, 4.762548e-05, 1.446508e-06, 3.722732e-06], dtype=float32),\n",
       " array([4.572305e-08, 7.487309e-09, 1.815282e-08, 5.309318e-09, 9.999998e-01], dtype=float32),\n",
       " array([1.224133e-07, 9.999999e-01, 4.430790e-09, 8.353510e-09, 4.509839e-08], dtype=float32),\n",
       " array([5.250331e-05, 6.853455e-06, 4.600079e-06, 9.999497e-01, 4.623336e-06], dtype=float32),\n",
       " array([7.515764e-02, 1.731450e-05, 3.115354e-05, 7.034590e-06, 9.441761e-01], dtype=float32),\n",
       " array([2.006887e-07, 4.419904e-08, 9.999995e-01, 1.050108e-08, 4.303827e-08], dtype=float32),\n",
       " array([9.995522e-01, 1.502181e-05, 5.120054e-05, 5.784368e-06, 2.348495e-04], dtype=float32),\n",
       " array([4.092326e-06, 1.149896e-06, 2.363523e-06, 2.854718e-07, 9.999868e-01], dtype=float32),\n",
       " array([9.998786e-01, 3.837488e-07, 1.583357e-06, 1.181480e-07, 8.648595e-05], dtype=float32),\n",
       " array([1.204368e-05, 5.653489e-08, 1.186954e-07, 1.518703e-07, 9.999771e-01], dtype=float32),\n",
       " array([3.833376e-06, 6.036685e-08, 6.016271e-08, 9.999957e-01, 1.764490e-07], dtype=float32),\n",
       " array([7.301554e-07, 9.999987e-01, 3.302504e-08, 2.273656e-07, 3.013435e-07], dtype=float32),\n",
       " array([9.999353e-01, 1.098477e-06, 8.145790e-07, 7.998382e-07, 4.848827e-05], dtype=float32),\n",
       " array([3.043997e-07, 4.959783e-08, 3.745740e-08, 9.999989e-01, 1.507433e-07], dtype=float32),\n",
       " array([9.999986e-01, 4.073570e-08, 2.262376e-08, 1.933936e-07, 1.704394e-07], dtype=float32),\n",
       " array([1.694666e-06, 9.999987e-01, 1.060328e-07, 7.144457e-08, 1.942809e-06], dtype=float32),\n",
       " array([1.176583e-06, 1.128787e-07, 1.653732e-07, 1.437131e-07, 9.999961e-01], dtype=float32),\n",
       " array([9.999022e-01, 4.068192e-06, 4.199580e-06, 8.924551e-06, 4.408535e-05], dtype=float32),\n",
       " array([9.060432e-05, 2.186298e-06, 2.965528e-06, 1.763472e-06, 9.998820e-01], dtype=float32),\n",
       " array([9.999988e-01, 3.716258e-08, 5.359736e-08, 2.410377e-08, 2.751644e-07], dtype=float32),\n",
       " array([7.281990e-06, 1.292968e-05, 9.999838e-01, 6.552384e-07, 3.495723e-06], dtype=float32),\n",
       " array([9.999918e-01, 9.321370e-07, 5.038177e-07, 1.070448e-07, 2.328125e-07], dtype=float32),\n",
       " array([9.994924e-01, 6.102823e-05, 1.727854e-05, 1.299178e-04, 2.158699e-04], dtype=float32),\n",
       " array([1.709696e-08, 1.000000e+00, 2.760416e-10, 5.320811e-10, 1.105694e-07], dtype=float32),\n",
       " array([5.603216e-07, 1.535718e-06, 9.999961e-01, 5.648606e-07, 1.462899e-06], dtype=float32),\n",
       " array([9.997588e-01, 1.617247e-05, 7.882742e-06, 5.551162e-06, 1.556317e-04], dtype=float32),\n",
       " array([9.999077e-01, 1.290300e-05, 1.023906e-05, 1.753472e-05, 2.290537e-05], dtype=float32),\n",
       " array([2.062528e-07, 9.959757e-09, 4.069695e-08, 4.874381e-09, 9.999994e-01], dtype=float32),\n",
       " array([9.999795e-01, 1.621488e-06, 8.849476e-07, 1.112031e-06, 7.068793e-06], dtype=float32),\n",
       " array([7.267351e-05, 8.615114e-07, 2.461513e-06, 1.936945e-07, 9.999080e-01], dtype=float32),\n",
       " array([1.236114e-06, 1.197931e-07, 1.334053e-07, 9.999917e-01, 7.775712e-06], dtype=float32),\n",
       " array([1.269239e-04, 1.651052e-06, 6.270578e-07, 9.998890e-01, 7.606854e-06], dtype=float32),\n",
       " array([3.583232e-06, 9.999982e-01, 6.609976e-08, 1.934880e-08, 2.783126e-07], dtype=float32),\n",
       " array([9.999996e-01, 8.173070e-09, 2.969341e-09, 1.873266e-08, 4.195374e-08], dtype=float32),\n",
       " array([8.264913e-05, 4.764322e-06, 4.398503e-05, 9.998719e-01, 2.259897e-06], dtype=float32),\n",
       " array([2.321650e-04, 2.022411e-05, 9.997227e-01, 1.272187e-06, 6.237358e-05], dtype=float32),\n",
       " array([1.097829e-07, 3.910057e-07, 9.999993e-01, 1.880820e-08, 3.929912e-07], dtype=float32),\n",
       " array([1.859942e-06, 1.938094e-07, 1.177671e-07, 9.999959e-01, 7.359192e-07], dtype=float32),\n",
       " array([1.000122e-03, 3.800215e-05, 2.586067e-05, 4.542092e-06, 9.989932e-01], dtype=float32),\n",
       " array([2.434654e-08, 1.370251e-07, 9.999998e-01, 1.440346e-08, 1.012585e-07], dtype=float32),\n",
       " array([9.988284e-01, 5.456523e-04, 6.673516e-05, 4.174851e-05, 4.105694e-04], dtype=float32),\n",
       " array([1.267910e-06, 1.026416e-06, 4.714207e-07, 2.049405e-07, 9.999939e-01], dtype=float32),\n",
       " array([8.273272e-05, 8.387155e-06, 3.598549e-05, 4.775872e-06, 9.998375e-01], dtype=float32),\n",
       " array([3.960402e-05, 2.578352e-06, 5.034343e-06, 7.634348e-06, 9.999180e-01], dtype=float32),\n",
       " array([9.996367e-01, 8.024091e-06, 1.077850e-04, 8.714599e-06, 2.137780e-06], dtype=float32),\n",
       " array([9.999963e-01, 9.197404e-08, 1.246876e-07, 1.720549e-07, 1.165458e-06], dtype=float32),\n",
       " array([1.295001e-07, 2.127929e-07, 3.020006e-07, 1.033244e-07, 9.999971e-01], dtype=float32),\n",
       " array([1.137944e-07, 1.145477e-07, 9.999995e-01, 2.885284e-08, 1.007997e-07], dtype=float32),\n",
       " array([7.667758e-06, 1.200255e-05, 9.999731e-01, 1.786955e-06, 3.282337e-05], dtype=float32),\n",
       " array([1.911947e-04, 9.995530e-01, 1.833677e-05, 1.947569e-04, 3.801941e-05], dtype=float32),\n",
       " array([3.407791e-05, 4.404366e-07, 7.695652e-07, 1.595343e-07, 9.999572e-01], dtype=float32),\n",
       " array([9.999889e-01, 6.200343e-07, 3.236705e-07, 5.774139e-07, 4.293606e-06], dtype=float32),\n",
       " array([1.128447e-05, 6.123028e-05, 9.999052e-01, 3.157981e-05, 1.815269e-05], dtype=float32),\n",
       " array([3.678729e-05, 6.045552e-07, 2.060292e-06, 8.618598e-07, 9.999449e-01], dtype=float32),\n",
       " array([9.999958e-01, 3.517677e-08, 2.248030e-08, 5.680814e-08, 2.099810e-06], dtype=float32),\n",
       " array([2.179657e-05, 1.323626e-05, 9.999698e-01, 1.009115e-06, 1.089958e-05], dtype=float32),\n",
       " array([9.999943e-01, 3.863781e-07, 1.118947e-06, 3.178751e-07, 4.244796e-07], dtype=float32),\n",
       " array([8.002639e-03, 5.807678e-04, 8.137089e-04, 4.005065e-04, 9.912634e-01], dtype=float32),\n",
       " array([1.038406e-06, 9.999990e-01, 1.502071e-08, 5.557840e-08, 1.331224e-07], dtype=float32),\n",
       " array([1.861079e-04, 1.036926e-06, 3.159163e-06, 9.639014e-07, 9.997959e-01], dtype=float32),\n",
       " array([9.999931e-01, 2.691804e-07, 3.312506e-07, 3.966453e-07, 1.933565e-06], dtype=float32),\n",
       " array([9.995505e-01, 3.844544e-05, 4.273125e-05, 9.718989e-05, 1.308685e-04], dtype=float32),\n",
       " array([9.998685e-01, 1.081290e-05, 2.532569e-05, 4.235465e-06, 2.099094e-05], dtype=float32),\n",
       " array([1.688386e-07, 9.999994e-01, 3.513118e-07, 1.419728e-08, 4.825467e-08], dtype=float32),\n",
       " array([4.083660e-08, 5.220989e-07, 9.999988e-01, 6.928569e-08, 5.358132e-07], dtype=float32),\n",
       " array([2.938322e-06, 3.224876e-07, 1.234746e-07, 3.596566e-08, 9.999937e-01], dtype=float32),\n",
       " array([9.981513e-07, 1.248020e-07, 6.855560e-08, 9.999983e-01, 1.148368e-07], dtype=float32),\n",
       " array([9.999985e-01, 6.887092e-08, 1.265793e-07, 1.036151e-07, 1.500023e-07], dtype=float32),\n",
       " array([7.941050e-09, 1.000000e+00, 3.722440e-10, 7.136102e-10, 6.498416e-09], dtype=float32),\n",
       " array([3.361399e-07, 4.413283e-08, 9.690485e-08, 9.999985e-01, 3.693561e-07], dtype=float32),\n",
       " array([1.517790e-06, 5.927167e-06, 9.999897e-01, 2.562719e-06, 1.822948e-06], dtype=float32),\n",
       " array([9.999892e-01, 4.700667e-07, 6.988466e-07, 5.728297e-07, 2.541968e-06], dtype=float32),\n",
       " array([3.927829e-05, 2.040408e-05, 9.157072e-05, 3.253113e-05, 9.998104e-01], dtype=float32),\n",
       " array([7.463899e-07, 9.999985e-01, 8.164223e-08, 4.779612e-07, 4.494979e-07], dtype=float32),\n",
       " array([3.252585e-07, 3.208335e-08, 4.677967e-08, 9.583760e-09, 9.999990e-01], dtype=float32),\n",
       " array([4.264117e-08, 2.673126e-07, 9.999996e-01, 1.857891e-08, 1.319436e-07], dtype=float32),\n",
       " array([2.213795e-07, 1.157608e-06, 9.999987e-01, 7.004734e-08, 3.888059e-07], dtype=float32),\n",
       " array([9.999902e-01, 5.850733e-07, 2.813469e-07, 7.046697e-07, 2.367607e-06], dtype=float32),\n",
       " array([3.597675e-06, 9.539623e-06, 9.999690e-01, 1.298488e-05, 3.398190e-06], dtype=float32),\n",
       " array([9.733034e-08, 6.078110e-07, 9.999986e-01, 1.144878e-07, 7.573706e-07], dtype=float32),\n",
       " array([1.620877e-08, 1.000000e+00, 2.461913e-10, 1.009672e-09, 1.490001e-08], dtype=float32),\n",
       " array([1.859557e-05, 9.998982e-01, 5.862921e-07, 4.801460e-05, 5.890286e-05], dtype=float32),\n",
       " array([7.434456e-06, 9.999926e-01, 8.713874e-07, 9.555898e-07, 3.231894e-06], dtype=float32),\n",
       " array([1.248672e-05, 3.186222e-06, 9.999782e-01, 2.205969e-06, 4.970943e-06], dtype=float32),\n",
       " array([2.056970e-06, 2.948664e-07, 2.271981e-07, 9.999968e-01, 2.024534e-07], dtype=float32),\n",
       " array([1.855887e-04, 1.960468e-06, 1.880268e-06, 9.998723e-01, 9.807622e-06], dtype=float32),\n",
       " array([9.999987e-01, 3.699482e-08, 4.339014e-08, 4.264564e-08, 3.667905e-07], dtype=float32),\n",
       " array([4.132016e-04, 9.998292e-01, 5.241431e-06, 2.480402e-06, 5.513789e-05], dtype=float32),\n",
       " array([1.988356e-03, 1.651048e-04, 2.787054e-04, 4.294531e-05, 9.974889e-01], dtype=float32),\n",
       " array([9.999995e-01, 8.975128e-09, 7.538495e-09, 1.653054e-08, 8.840588e-08], dtype=float32),\n",
       " array([1.114551e-07, 8.574064e-09, 3.580609e-09, 9.999999e-01, 4.947724e-09], dtype=float32),\n",
       " array([9.953932e-01, 3.214788e-04, 8.729837e-04, 1.293966e-03, 1.714251e-03], dtype=float32),\n",
       " array([4.777204e-05, 4.468723e-07, 1.454990e-06, 9.559592e-08, 9.999402e-01], dtype=float32),\n",
       " array([9.999999e-01, 2.303782e-09, 2.438133e-09, 3.043853e-09, 1.266937e-08], dtype=float32),\n",
       " array([1.042408e-06, 2.596050e-07, 4.835183e-07, 9.999493e-01, 9.893088e-05], dtype=float32),\n",
       " array([9.999229e-01, 7.198382e-06, 7.831706e-06, 1.545954e-05, 1.480416e-05], dtype=float32),\n",
       " array([2.773111e-06, 7.744326e-08, 5.350793e-07, 2.618071e-07, 9.999921e-01], dtype=float32),\n",
       " array([1.441768e-04, 1.354725e-04, 9.997426e-01, 7.619746e-05, 4.371948e-05], dtype=float32),\n",
       " array([3.420836e-08, 1.232113e-07, 9.999987e-01, 5.423391e-07, 1.497146e-07], dtype=float32),\n",
       " array([5.413609e-07, 4.100503e-08, 2.229895e-07, 1.555100e-08, 9.999983e-01], dtype=float32),\n",
       " array([6.968257e-04, 1.101856e-05, 9.995273e-01, 2.115387e-06, 1.811371e-05], dtype=float32),\n",
       " array([1.257855e-04, 3.743934e-06, 8.781867e-06, 2.231759e-06, 9.998356e-01], dtype=float32),\n",
       " array([4.282736e-06, 3.360377e-07, 2.712090e-06, 3.416568e-07, 9.999875e-01], dtype=float32),\n",
       " array([2.155522e-04, 4.524816e-06, 3.274196e-05, 6.858907e-06, 9.996889e-01], dtype=float32),\n",
       " array([9.999942e-01, 4.982487e-07, 1.675853e-07, 4.812094e-07, 1.189554e-06], dtype=float32),\n",
       " array([9.994727e-01, 1.438455e-05, 8.389421e-05, 2.710387e-06, 7.024047e-05], dtype=float32),\n",
       " array([1.224566e-03, 4.176745e-03, 1.644885e-04, 9.952010e-01, 1.230335e-03], dtype=float32),\n",
       " array([6.566058e-05, 9.998925e-01, 2.135831e-05, 2.283385e-05, 3.038816e-05], dtype=float32),\n",
       " array([9.996322e-01, 8.154615e-05, 4.852828e-05, 5.068240e-05, 1.142073e-04], dtype=float32),\n",
       " array([2.186264e-07, 2.556738e-06, 9.999956e-01, 1.662713e-07, 2.903666e-06], dtype=float32),\n",
       " array([2.691023e-06, 4.174677e-07, 4.789669e-07, 9.999957e-01, 1.756518e-07], dtype=float32),\n",
       " array([6.144469e-07, 9.999994e-01, 3.320385e-08, 6.560601e-08, 6.271642e-07], dtype=float32),\n",
       " array([2.099258e-05, 9.999366e-01, 8.075411e-07, 4.022457e-06, 2.179017e-04], dtype=float32),\n",
       " array([9.999578e-01, 1.847704e-06, 3.354157e-06, 2.689156e-06, 1.430900e-05], dtype=float32),\n",
       " array([4.873026e-06, 9.999961e-01, 8.512181e-08, 4.502749e-07, 4.525722e-06], dtype=float32),\n",
       " array([1.977546e-06, 9.999988e-01, 3.839149e-08, 3.854969e-08, 3.338264e-07], dtype=float32),\n",
       " array([1.045480e-06, 9.717953e-08, 3.798237e-08, 9.999986e-01, 6.823963e-08], dtype=float32),\n",
       " array([9.999933e-01, 1.401434e-07, 5.581679e-08, 8.623260e-07, 1.083134e-06], dtype=float32),\n",
       " array([9.999235e-01, 4.965836e-06, 2.287040e-05, 4.106318e-06, 1.515117e-05], dtype=float32),\n",
       " array([6.655011e-07, 4.545878e-08, 6.409615e-08, 9.999992e-01, 4.692273e-08], dtype=float32),\n",
       " array([9.992268e-01, 1.121946e-04, 1.842437e-04, 2.121026e-04, 1.653818e-04], dtype=float32),\n",
       " array([7.838159e-05, 1.580279e-07, 7.596188e-07, 1.996837e-06, 9.998366e-01], dtype=float32),\n",
       " array([3.545660e-05, 8.393312e-07, 8.158027e-07, 9.999746e-01, 3.467166e-07], dtype=float32),\n",
       " array([4.737042e-05, 9.999607e-01, 6.259611e-06, 4.013028e-06, 5.585258e-05], dtype=float32),\n",
       " array([8.848986e-09, 1.000000e+00, 6.171260e-10, 3.197581e-09, 7.881898e-09], dtype=float32),\n",
       " array([4.562025e-08, 1.000000e+00, 1.126347e-09, 4.031327e-09, 2.156889e-08], dtype=float32),\n",
       " array([3.038424e-04, 3.503035e-06, 8.866684e-07, 9.998603e-01, 2.366257e-06], dtype=float32),\n",
       " array([9.999822e-01, 4.947557e-07, 5.025872e-07, 3.899764e-07, 9.607430e-06], dtype=float32),\n",
       " array([6.539121e-04, 3.838501e-06, 9.996248e-01, 2.311704e-07, 3.538731e-06], dtype=float32),\n",
       " array([9.999990e-01, 1.281522e-08, 5.534322e-09, 1.382501e-08, 3.371773e-07], dtype=float32),\n",
       " array([9.999753e-01, 1.218156e-06, 3.762231e-06, 2.961162e-07, 2.343516e-06], dtype=float32),\n",
       " array([9.998134e-01, 2.181038e-05, 5.451712e-06, 6.330976e-06, 1.116116e-04], dtype=float32),\n",
       " array([9.999528e-01, 4.042660e-07, 1.816756e-07, 3.918394e-05, 4.660792e-07], dtype=float32),\n",
       " array([5.723928e-07, 8.718497e-08, 7.151185e-07, 1.339685e-07, 9.999970e-01], dtype=float32),\n",
       " array([2.398521e-06, 9.999976e-01, 1.675132e-07, 2.534500e-07, 2.986336e-06], dtype=float32),\n",
       " array([3.564415e-07, 9.999999e-01, 3.869827e-09, 3.376450e-09, 9.944196e-08], dtype=float32),\n",
       " array([4.213804e-08, 4.538131e-09, 1.835296e-09, 9.999999e-01, 1.434366e-09], dtype=float32),\n",
       " array([2.864901e-06, 1.008801e-06, 6.139654e-07, 9.999733e-01, 2.285449e-05], dtype=float32),\n",
       " array([9.999852e-01, 8.774230e-07, 7.077294e-07, 6.800834e-07, 4.985157e-06], dtype=float32),\n",
       " array([1.827605e-07, 2.848759e-07, 1.352252e-07, 8.752410e-07, 9.999958e-01], dtype=float32),\n",
       " array([7.165596e-07, 3.446587e-08, 1.157921e-07, 1.391172e-07, 9.999974e-01], dtype=float32),\n",
       " array([1.643431e-05, 9.999675e-01, 7.845453e-07, 6.619730e-06, 2.185848e-06], dtype=float32),\n",
       " array([4.254632e-07, 3.643834e-06, 9.999958e-01, 3.651198e-07, 1.896615e-06], dtype=float32),\n",
       " array([2.681933e-08, 3.038156e-07, 9.999994e-01, 1.280493e-08, 5.895412e-07], dtype=float32),\n",
       " array([9.999957e-01, 2.518689e-07, 2.650784e-07, 4.965258e-07, 4.154763e-07], dtype=float32),\n",
       " array([1.000000e+00, 2.778651e-10, 1.363810e-10, 5.342329e-10, 5.506157e-09], dtype=float32),\n",
       " array([5.932506e-08, 1.093542e-08, 5.067336e-09, 9.999998e-01, 2.106985e-08], dtype=float32),\n",
       " array([3.501489e-06, 1.197282e-07, 1.257889e-07, 9.999968e-01, 1.156596e-07], dtype=float32),\n",
       " array([9.999924e-01, 4.340340e-07, 7.580123e-07, 7.073339e-07, 1.162512e-06], dtype=float32),\n",
       " array([3.653264e-06, 1.589097e-05, 9.999661e-01, 1.292537e-05, 1.139560e-05], dtype=float32),\n",
       " array([9.999995e-01, 6.228996e-09, 4.274807e-09, 9.427569e-09, 1.344654e-07], dtype=float32),\n",
       " array([1.005775e-08, 1.000000e+00, 2.513234e-10, 5.339113e-09, 4.469922e-09], dtype=float32),\n",
       " array([5.983630e-04, 9.996326e-01, 1.834394e-05, 2.271356e-05, 6.258940e-05], dtype=float32),\n",
       " array([8.172417e-07, 9.999994e-01, 2.185609e-08, 2.505488e-08, 9.194042e-07], dtype=float32),\n",
       " array([5.070433e-07, 6.360026e-08, 5.209728e-08, 9.999989e-01, 9.450202e-08], dtype=float32),\n",
       " array([3.814166e-07, 6.957544e-06, 9.999930e-01, 9.155587e-07, 1.156086e-06], dtype=float32),\n",
       " array([9.932696e-01, 4.395797e-04, 5.723469e-04, 1.702824e-04, 5.717289e-03], dtype=float32),\n",
       " array([3.518209e-04, 2.362320e-06, 1.924675e-06, 9.998196e-01, 5.253772e-06], dtype=float32),\n",
       " array([1.441531e-05, 9.532006e-07, 3.002142e-06, 6.018296e-07, 9.999737e-01], dtype=float32),\n",
       " array([1.000000e+00, 5.683862e-11, 2.633840e-11, 7.073685e-10, 9.071191e-10], dtype=float32),\n",
       " array([8.827040e-08, 4.433819e-08, 1.267487e-07, 2.607915e-08, 9.999992e-01], dtype=float32),\n",
       " array([9.999996e-01, 6.919428e-09, 5.820933e-09, 1.437727e-08, 4.422704e-08], dtype=float32),\n",
       " array([6.925411e-07, 9.065886e-07, 2.800873e-07, 9.999962e-01, 9.812160e-08], dtype=float32),\n",
       " array([9.997334e-01, 6.950017e-06, 5.191131e-05, 3.760674e-06, 9.452227e-05], dtype=float32),\n",
       " array([9.999949e-01, 2.480686e-07, 2.059568e-07, 2.303625e-07, 1.564622e-06], dtype=float32),\n",
       " array([9.999605e-01, 2.400842e-06, 2.887509e-06, 4.906466e-06, 1.195423e-05], dtype=float32),\n",
       " array([9.999988e-01, 2.131464e-08, 8.176796e-09, 4.924998e-08, 3.592580e-07], dtype=float32),\n",
       " array([7.289237e-06, 3.944567e-07, 1.811825e-07, 9.999930e-01, 4.552985e-07], dtype=float32),\n",
       " array([5.261366e-08, 9.999999e-01, 1.545430e-09, 1.113404e-08, 1.161328e-08], dtype=float32),\n",
       " array([4.940946e-08, 2.764250e-07, 9.999996e-01, 2.429941e-08, 1.343854e-07], dtype=float32),\n",
       " array([2.230739e-02, 9.862012e-01, 3.554642e-05, 8.562857e-05, 3.519626e-05], dtype=float32),\n",
       " array([3.590245e-09, 2.201617e-08, 9.999999e-01, 7.066582e-09, 1.233559e-08], dtype=float32),\n",
       " array([9.983189e-01, 7.862775e-04, 7.513570e-05, 4.006676e-04, 6.250461e-04], dtype=float32),\n",
       " array([1.100469e-06, 7.648717e-08, 9.737561e-07, 4.748037e-08, 9.999961e-01], dtype=float32),\n",
       " array([9.999983e-01, 7.093850e-08, 9.921027e-08, 2.574918e-08, 8.642716e-08], dtype=float32),\n",
       " array([7.692087e-04, 9.995459e-01, 1.148670e-05, 1.306190e-05, 6.993771e-04], dtype=float32),\n",
       " array([1.104398e-05, 3.401951e-06, 6.744178e-06, 5.323961e-06, 9.999608e-01], dtype=float32),\n",
       " array([8.795664e-08, 9.999999e-01, 4.389490e-09, 2.838050e-08, 3.565325e-08], dtype=float32),\n",
       " array([1.666831e-07, 1.566862e-06, 9.999982e-01, 1.179727e-07, 8.126283e-07], dtype=float32),\n",
       " array([8.431932e-09, 9.232944e-08, 9.999999e-01, 7.066272e-09, 1.932487e-08], dtype=float32),\n",
       " array([9.999959e-01, 1.126397e-07, 7.701711e-08, 1.654699e-07, 1.270894e-06], dtype=float32),\n",
       " array([2.401403e-05, 9.999793e-01, 1.647679e-06, 1.258277e-06, 3.145518e-06], dtype=float32),\n",
       " array([9.976535e-01, 2.795954e-05, 2.279558e-05, 9.007688e-06, 2.525874e-03], dtype=float32),\n",
       " array([5.731103e-05, 6.761437e-06, 3.632108e-05, 4.129363e-05, 9.998075e-01], dtype=float32),\n",
       " array([1.433458e-04, 9.999138e-01, 2.145574e-06, 5.175419e-06, 1.255555e-04], dtype=float32),\n",
       " array([8.980300e-09, 1.817294e-09, 7.390907e-10, 1.000000e+00, 6.388616e-10], dtype=float32),\n",
       " array([1.785880e-06, 2.788964e-07, 6.174292e-07, 3.475207e-07, 9.999940e-01], dtype=float32),\n",
       " array([9.997199e-01, 1.167268e-05, 1.033832e-05, 7.801650e-06, 1.892872e-04], dtype=float32),\n",
       " array([9.999563e-01, 5.444867e-07, 4.547218e-07, 2.696850e-07, 3.185227e-05], dtype=float32),\n",
       " array([9.996563e-01, 3.301115e-05, 2.624657e-05, 2.241801e-05, 1.755573e-04], dtype=float32),\n",
       " array([6.798098e-06, 6.662459e-07, 9.367022e-07, 9.999913e-01, 7.339974e-07], dtype=float32),\n",
       " array([9.999689e-01, 1.215088e-06, 1.847475e-06, 7.339302e-07, 1.738193e-05], dtype=float32),\n",
       " array([9.976225e-01, 9.625337e-05, 1.271636e-04, 7.003903e-04, 6.973120e-04], dtype=float32),\n",
       " array([9.999717e-01, 1.612493e-06, 3.678617e-06, 6.292923e-07, 7.455978e-06], dtype=float32),\n",
       " array([1.279994e-01, 1.481797e-04, 1.743883e-04, 3.082976e-05, 8.959282e-01], dtype=float32),\n",
       " array([1.273275e-08, 9.686347e-08, 9.999999e-01, 5.657812e-09, 3.926603e-08], dtype=float32),\n",
       " array([3.320094e-07, 1.260362e-06, 9.999868e-01, 2.689322e-06, 3.169363e-06], dtype=float32),\n",
       " array([6.016465e-06, 5.127945e-06, 9.999884e-01, 7.388968e-07, 4.674560e-06], dtype=float32),\n",
       " array([9.999872e-01, 5.138393e-07, 4.492737e-07, 1.365081e-06, 3.248801e-06], dtype=float32),\n",
       " array([4.367645e-07, 2.434133e-06, 9.999934e-01, 3.335158e-07, 8.864808e-06], dtype=float32),\n",
       " array([9.999903e-01, 6.292545e-07, 2.185790e-06, 7.216468e-07, 6.103482e-07], dtype=float32),\n",
       " array([9.996812e-01, 2.329506e-05, 1.764102e-05, 5.928323e-05, 1.007219e-04], dtype=float32),\n",
       " array([4.189505e-07, 1.771110e-06, 9.999968e-01, 2.686054e-07, 1.987590e-06], dtype=float32),\n",
       " array([5.747293e-09, 1.739556e-07, 9.999998e-01, 9.413877e-09, 5.114705e-08], dtype=float32),\n",
       " array([1.525372e-06, 2.112668e-07, 1.020817e-06, 1.357372e-05, 9.999722e-01], dtype=float32),\n",
       " array([6.766353e-06, 2.971510e-07, 1.368121e-07, 9.999940e-01, 1.961037e-07], dtype=float32),\n",
       " array([2.657381e-05, 4.321394e-07, 2.848797e-07, 9.999688e-01, 3.176116e-06], dtype=float32),\n",
       " array([3.150519e-06, 1.607768e-06, 9.999944e-01, 1.637661e-07, 2.273451e-06], dtype=float32),\n",
       " array([1.385393e-04, 6.950255e-06, 7.926334e-05, 9.997537e-01, 7.764597e-06], dtype=float32),\n",
       " array([2.355318e-05, 9.549866e-07, 1.745435e-06, 4.381023e-07, 9.999650e-01], dtype=float32),\n",
       " array([2.907587e-06, 7.102731e-07, 9.999946e-01, 3.786477e-08, 2.426915e-06], dtype=float32),\n",
       " array([9.999591e-01, 1.006296e-06, 1.210432e-06, 3.361326e-07, 2.522337e-05], dtype=float32),\n",
       " array([3.134696e-07, 1.149349e-06, 9.999983e-01, 1.392167e-07, 6.591154e-07], dtype=float32),\n",
       " array([9.999995e-01, 5.867526e-09, 4.571683e-09, 1.457085e-08, 1.155322e-07], dtype=float32),\n",
       " array([2.535717e-06, 2.512911e-07, 4.571869e-07, 9.139730e-08, 9.999944e-01], dtype=float32),\n",
       " array([1.646789e-05, 8.376087e-07, 8.797482e-07, 9.999831e-01, 1.864791e-06], dtype=float32),\n",
       " array([2.844079e-06, 5.774079e-06, 9.999914e-01, 7.628537e-07, 1.648036e-06], dtype=float32),\n",
       " array([3.748808e-05, 1.151701e-05, 9.999560e-01, 7.375781e-07, 1.051671e-05], dtype=float32),\n",
       " array([1.551483e-02, 9.895723e-01, 1.555226e-04, 5.355523e-04, 3.727649e-04], dtype=float32),\n",
       " array([9.967443e-01, 4.530204e-06, 2.632482e-03, 2.798405e-06, 3.808556e-05], dtype=float32),\n",
       " array([9.999795e-01, 1.530208e-07, 1.218951e-07, 4.989600e-06, 1.378513e-06], dtype=float32),\n",
       " array([8.725879e-03, 9.969182e-01, 7.299898e-05, 7.878197e-05, 5.050576e-04], dtype=float32),\n",
       " array([5.860143e-05, 9.997002e-01, 3.525471e-05, 1.989263e-04, 5.716044e-05], dtype=float32),\n",
       " array([3.115178e-05, 3.279246e-05, 9.996651e-01, 1.113954e-04, 1.919634e-04], dtype=float32),\n",
       " array([7.497227e-09, 1.000000e+00, 2.964569e-10, 1.418626e-09, 1.512045e-08], dtype=float32),\n",
       " array([1.936850e-06, 1.095843e-07, 1.021267e-07, 9.999971e-01, 3.206100e-07], dtype=float32),\n",
       " array([5.561276e-04, 9.997806e-01, 8.423065e-06, 6.540431e-06, 6.038000e-05], dtype=float32),\n",
       " array([1.608860e-03, 9.992387e-01, 4.697572e-05, 2.616233e-05, 2.444194e-04], dtype=float32),\n",
       " array([9.999853e-01, 5.132379e-07, 3.593967e-07, 1.290307e-06, 4.820114e-06], dtype=float32),\n",
       " array([3.105548e-04, 9.997452e-01, 9.893578e-06, 8.747238e-06, 5.919819e-04], dtype=float32),\n",
       " array([9.999932e-01, 2.514614e-07, 1.975023e-07, 6.638309e-07, 1.666509e-06], dtype=float32),\n",
       " array([9.999857e-01, 1.441993e-06, 2.142763e-06, 1.482806e-06, 2.137935e-06], dtype=float32),\n",
       " array([4.265294e-04, 5.370693e-06, 3.398456e-06, 9.998005e-01, 5.379059e-06], dtype=float32),\n",
       " array([2.076374e-07, 1.565581e-08, 1.246931e-07, 1.820427e-08, 9.999992e-01], dtype=float32),\n",
       " array([9.999940e-01, 2.550601e-07, 2.591721e-07, 7.156124e-07, 9.139780e-07], dtype=float32),\n",
       " array([9.999881e-01, 2.525585e-07, 1.332591e-07, 5.110981e-07, 5.676769e-06], dtype=float32),\n",
       " array([8.147316e-05, 3.234222e-05, 9.999032e-01, 4.520261e-06, 2.584965e-05], dtype=float32),\n",
       " array([1.552569e-04, 9.998281e-01, 4.856471e-05, 1.025501e-05, 3.154616e-05], dtype=float32),\n",
       " array([7.277140e-07, 7.908571e-08, 3.724788e-08, 9.999988e-01, 6.514601e-08], dtype=float32),\n",
       " array([1.892145e-06, 6.653438e-08, 1.393347e-07, 1.266777e-07, 9.999949e-01], dtype=float32),\n",
       " array([5.958588e-08, 1.153509e-08, 3.096663e-08, 1.834646e-08, 9.999996e-01], dtype=float32),\n",
       " array([1.706347e-05, 2.358984e-05, 9.999185e-01, 2.708697e-05, 4.556772e-05], dtype=float32),\n",
       " array([1.924169e-06, 2.536213e-06, 9.999949e-01, 4.585641e-07, 2.104107e-06], dtype=float32),\n",
       " array([8.515567e-10, 1.000000e+00, 2.238409e-11, 6.600114e-11, 6.239219e-10], dtype=float32),\n",
       " array([1.575531e-05, 2.188192e-05, 9.999592e-01, 6.749699e-06, 2.372164e-05], dtype=float32),\n",
       " array([1.691001e-04, 2.845459e-05, 3.971714e-05, 9.996012e-01, 2.468431e-04], dtype=float32),\n",
       " array([4.218760e-06, 9.999945e-01, 3.039327e-07, 1.112614e-06, 3.697547e-06], dtype=float32),\n",
       " array([9.178513e-08, 9.999998e-01, 6.797499e-09, 3.409508e-08, 7.256247e-08], dtype=float32),\n",
       " array([8.298525e-04, 9.992378e-01, 8.098564e-05, 1.624770e-04, 3.163784e-04], dtype=float32),\n",
       " array([9.998128e-01, 1.243249e-05, 5.606521e-06, 3.327709e-05, 8.353188e-05], dtype=float32),\n",
       " array([2.437671e-04, 9.815874e-06, 1.451499e-05, 9.997365e-01, 4.287898e-05], dtype=float32),\n",
       " array([9.993118e-01, 1.437836e-05, 5.410911e-06, 2.011787e-05, 6.425691e-04], dtype=float32),\n",
       " array([2.522862e-05, 1.247422e-06, 7.277258e-07, 9.998876e-01, 5.879348e-05], dtype=float32),\n",
       " array([9.999986e-01, 1.256608e-08, 9.449532e-09, 1.595534e-08, 6.110565e-07], dtype=float32),\n",
       " array([9.998910e-01, 1.044559e-05, 2.191993e-05, 1.886507e-05, 1.388284e-05], dtype=float32),\n",
       " array([9.996612e-01, 1.415349e-05, 4.035604e-05, 7.510891e-05, 9.280336e-05], dtype=float32),\n",
       " array([1.083260e-07, 1.283461e-09, 1.498366e-08, 1.889218e-09, 9.999996e-01], dtype=float32),\n",
       " array([1.078636e-05, 7.165856e-07, 1.549404e-06, 7.798011e-07, 9.999762e-01], dtype=float32),\n",
       " array([5.558387e-03, 3.359347e-04, 2.107092e-04, 1.255546e-04, 9.945868e-01], dtype=float32),\n",
       " array([4.439940e-04, 9.996763e-01, 1.532076e-05, 4.662351e-05, 3.342215e-04], dtype=float32),\n",
       " array([3.673540e-03, 5.220041e-06, 1.279207e-05, 2.987208e-06, 9.969805e-01], dtype=float32),\n",
       " array([9.998373e-01, 1.966392e-05, 8.166653e-05, 1.168358e-05, 1.849138e-05], dtype=float32),\n",
       " array([9.999913e-01, 1.838791e-07, 9.215667e-08, 1.223453e-06, 1.517585e-06], dtype=float32),\n",
       " array([9.999986e-01, 1.700431e-08, 1.998266e-08, 2.038175e-08, 4.748436e-07], dtype=float32),\n",
       " array([9.997713e-01, 2.379541e-06, 2.042698e-06, 1.292932e-06, 2.010084e-04], dtype=float32),\n",
       " array([7.433979e-08, 9.999998e-01, 9.878372e-08, 3.222501e-09, 2.517175e-08], dtype=float32),\n",
       " array([9.979097e-01, 1.618090e-05, 7.542017e-06, 1.223569e-06, 1.981714e-03], dtype=float32),\n",
       " array([3.747211e-04, 7.756788e-06, 8.359717e-06, 3.776318e-06, 9.996077e-01], dtype=float32),\n",
       " array([4.415233e-05, 9.999703e-01, 1.181827e-06, 2.920621e-06, 1.423805e-05], dtype=float32),\n",
       " array([6.919476e-06, 2.215679e-05, 9.999750e-01, 2.392967e-06, 1.918336e-05], dtype=float32),\n",
       " array([9.997987e-01, 1.253599e-06, 9.018381e-07, 1.919499e-06, 1.838272e-04], dtype=float32),\n",
       " array([2.202062e-08, 1.000000e+00, 6.723160e-10, 1.174694e-09, 9.282381e-09], dtype=float32),\n",
       " array([1.988132e-06, 9.999928e-01, 2.757199e-06, 1.268497e-06, 1.366896e-06], dtype=float32),\n",
       " array([5.195682e-05, 8.120411e-07, 3.570713e-06, 1.442652e-06, 9.999211e-01], dtype=float32),\n",
       " array([9.999213e-01, 8.177974e-06, 3.451552e-06, 1.523866e-05, 2.433677e-05], dtype=float32),\n",
       " array([1.316708e-04, 1.517731e-06, 6.186845e-06, 2.887872e-06, 9.998172e-01], dtype=float32),\n",
       " array([9.999800e-01, 6.402541e-08, 5.849015e-08, 8.140029e-08, 1.397907e-05], dtype=float32),\n",
       " array([4.622057e-06, 9.999981e-01, 2.688201e-08, 7.020970e-09, 1.007641e-07], dtype=float32),\n",
       " array([3.978983e-03, 3.986563e-05, 4.221081e-05, 1.122331e-05, 9.965786e-01], dtype=float32),\n",
       " array([9.999694e-01, 3.512710e-06, 3.079017e-06, 3.219110e-06, 7.125634e-06], dtype=float32),\n",
       " array([9.997796e-01, 1.417025e-06, 1.715122e-06, 1.814692e-06, 1.989565e-04], dtype=float32),\n",
       " array([2.648774e-05, 9.999856e-01, 7.622755e-07, 7.377167e-07, 8.954526e-06], dtype=float32),\n",
       " array([9.999142e-01, 5.756116e-06, 2.584235e-06, 1.578100e-05, 3.146873e-05], dtype=float32),\n",
       " array([7.697900e-05, 6.987746e-06, 1.157614e-06, 9.999412e-01, 1.831880e-06], dtype=float32),\n",
       " array([6.648566e-07, 9.999998e-01, 5.124390e-09, 2.979087e-09, 1.306669e-07], dtype=float32),\n",
       " array([1.129747e-05, 3.725328e-06, 7.365846e-06, 9.999704e-01, 4.615925e-06], dtype=float32),\n",
       " array([2.136546e-03, 9.991629e-01, 1.267696e-06, 1.818847e-06, 7.956133e-05], dtype=float32),\n",
       " array([9.839081e-01, 2.367974e-02, 1.480761e-04, 1.802642e-04, 9.284817e-04], dtype=float32),\n",
       " array([1.460583e-08, 1.226253e-09, 2.393202e-09, 9.587545e-09, 9.999999e-01], dtype=float32),\n",
       " array([9.999988e-01, 6.581218e-08, 4.385993e-08, 7.617997e-08, 1.384019e-07], dtype=float32),\n",
       " array([2.070374e-08, 1.000000e+00, 4.065269e-10, 1.624339e-09, 1.280347e-08], dtype=float32),\n",
       " array([3.174996e-06, 3.266756e-06, 4.225345e-07, 1.238037e-06, 9.999839e-01], dtype=float32),\n",
       " array([9.169029e-03, 7.197898e-05, 5.938361e-04, 9.942957e-01, 3.798288e-05], dtype=float32),\n",
       " array([5.749379e-06, 2.309744e-06, 3.757139e-06, 4.392048e-06, 9.999704e-01], dtype=float32),\n",
       " array([9.999744e-01, 8.714472e-07, 1.963254e-06, 1.368295e-07, 2.069574e-07], dtype=float32),\n",
       " array([2.323612e-06, 1.991821e-06, 9.999937e-01, 2.930702e-07, 5.304116e-06], dtype=float32),\n",
       " array([2.824354e-07, 2.319510e-08, 7.177754e-09, 9.999996e-01, 1.801245e-08], dtype=float32),\n",
       " array([9.997887e-01, 2.015224e-05, 4.195949e-05, 3.325787e-05, 1.411688e-05], dtype=float32),\n",
       " array([9.999989e-01, 2.752643e-08, 1.784465e-08, 3.894531e-08, 2.455276e-07], dtype=float32),\n",
       " array([9.999453e-01, 3.491306e-06, 6.474975e-06, 2.669674e-06, 8.399557e-07], dtype=float32),\n",
       " array([9.999549e-01, 2.121201e-06, 4.180536e-06, 2.636044e-06, 1.809035e-05], dtype=float32),\n",
       " array([9.954691e-01, 5.295110e-04, 1.174365e-03, 1.461265e-03, 1.052649e-03], dtype=float32),\n",
       " array([1.147085e-06, 9.999994e-01, 9.115284e-09, 3.604200e-09, 1.971868e-08], dtype=float32),\n",
       " array([5.371997e-07, 7.050762e-09, 3.894053e-09, 9.999995e-01, 9.583779e-09], dtype=float32),\n",
       " array([7.904227e-08, 3.478106e-09, 1.681422e-08, 1.953316e-09, 9.999998e-01], dtype=float32),\n",
       " array([8.910233e-05, 9.999324e-01, 4.092626e-06, 5.520932e-06, 1.505448e-05], dtype=float32),\n",
       " array([6.001037e-09, 1.264015e-07, 9.999999e-01, 5.787952e-09, 1.427908e-08], dtype=float32),\n",
       " array([2.463429e-07, 9.999998e-01, 1.110269e-08, 8.813124e-09, 1.514970e-07], dtype=float32),\n",
       " array([7.092416e-08, 6.117518e-09, 2.663728e-08, 9.999998e-01, 6.883754e-09], dtype=float32),\n",
       " array([1.016120e-07, 5.030099e-09, 3.290844e-09, 9.999999e-01, 4.401714e-09], dtype=float32),\n",
       " array([9.999988e-01, 2.086227e-08, 1.235318e-08, 1.027318e-07, 2.375327e-07], dtype=float32),\n",
       " array([9.998370e-01, 9.183956e-06, 8.593807e-06, 4.383357e-05, 3.051835e-05], dtype=float32),\n",
       " array([9.288083e-06, 9.999933e-01, 3.803364e-07, 5.340113e-07, 1.057931e-05], dtype=float32),\n",
       " array([9.999965e-01, 2.430319e-07, 3.130000e-07, 1.970722e-07, 4.096399e-07], dtype=float32),\n",
       " array([9.999627e-01, 3.453527e-07, 1.922709e-07, 8.485206e-07, 2.379795e-05], dtype=float32),\n",
       " array([9.139083e-07, 4.601008e-08, 5.232643e-08, 9.999983e-01, 1.776763e-07], dtype=float32),\n",
       " array([4.592943e-06, 1.126001e-05, 9.999875e-01, 7.959028e-07, 5.288357e-06], dtype=float32),\n",
       " array([9.999820e-01, 2.540625e-07, 1.870549e-07, 2.595599e-07, 1.085241e-05], dtype=float32),\n",
       " array([9.999999e-01, 1.596167e-09, 8.394858e-10, 3.754028e-09, 4.325678e-08], dtype=float32),\n",
       " array([9.999765e-01, 5.688930e-07, 2.335782e-07, 1.714316e-06, 9.364448e-06], dtype=float32),\n",
       " array([1.472013e-08, 4.835250e-09, 3.920951e-09, 9.999999e-01, 9.798049e-10], dtype=float32),\n",
       " array([3.441681e-04, 1.391493e-05, 5.931674e-06, 5.332081e-06, 9.996096e-01], dtype=float32),\n",
       " array([2.589032e-08, 9.999999e-01, 1.699590e-09, 2.545876e-08, 1.525443e-08], dtype=float32),\n",
       " array([1.582564e-05, 9.999900e-01, 7.859456e-07, 4.434014e-07, 4.684807e-06], dtype=float32),\n",
       " array([1.231401e-07, 1.668056e-06, 9.999979e-01, 1.516248e-07, 2.360648e-07], dtype=float32),\n",
       " array([6.826059e-06, 9.851076e-07, 1.740626e-06, 9.999875e-01, 1.933126e-06], dtype=float32),\n",
       " array([1.507941e-05, 9.999839e-01, 7.446764e-07, 2.816590e-06, 7.850521e-06], dtype=float32),\n",
       " array([3.976603e-06, 1.630830e-06, 4.304150e-06, 5.437515e-06, 9.999735e-01], dtype=float32),\n",
       " array([9.999831e-01, 7.636252e-07, 2.197670e-06, 2.044214e-07, 6.094292e-07], dtype=float32),\n",
       " array([9.999807e-01, 1.115212e-06, 2.164044e-06, 3.431220e-07, 2.824299e-06], dtype=float32),\n",
       " array([9.999872e-01, 7.194560e-07, 1.115361e-06, 4.255797e-07, 3.640784e-07], dtype=float32),\n",
       " array([2.400151e-06, 9.999963e-01, 5.918350e-07, 1.883287e-07, 4.679230e-07], dtype=float32),\n",
       " array([5.430655e-09, 8.618436e-08, 9.999999e-01, 3.679650e-09, 2.660382e-08], dtype=float32),\n",
       " array([2.339716e-04, 2.265880e-05, 1.451913e-05, 5.724262e-06, 9.996972e-01], dtype=float32),\n",
       " array([5.784302e-07, 2.733995e-08, 5.192804e-08, 6.948537e-09, 9.999987e-01], dtype=float32),\n",
       " array([1.551444e-08, 8.837360e-10, 3.504327e-10, 1.000000e+00, 3.694860e-10], dtype=float32),\n",
       " array([5.844553e-08, 1.044088e-08, 5.305889e-08, 8.144980e-09, 9.999996e-01], dtype=float32),\n",
       " array([3.565451e-07, 9.999998e-01, 8.995901e-09, 4.823210e-09, 1.322715e-07], dtype=float32),\n",
       " array([9.447762e-04, 5.247703e-05, 1.247480e-04, 5.578716e-05, 9.988079e-01], dtype=float32),\n",
       " array([9.999940e-01, 3.838696e-07, 4.532035e-07, 1.218207e-07, 1.883741e-06], dtype=float32),\n",
       " array([9.999921e-01, 4.243849e-07, 7.076146e-07, 9.893230e-08, 4.280415e-07], dtype=float32),\n",
       " array([8.349268e-04, 1.498991e-05, 6.307016e-06, 9.991720e-01, 1.380369e-04], dtype=float32),\n",
       " array([9.995784e-01, 1.890009e-05, 5.283218e-05, 7.484181e-06, 2.407937e-04], dtype=float32),\n",
       " array([9.999905e-01, 3.271921e-07, 2.082091e-07, 1.485945e-06, 1.792851e-06], dtype=float32),\n",
       " array([5.767925e-06, 1.138155e-06, 5.611078e-06, 2.611144e-06, 9.999770e-01], dtype=float32),\n",
       " array([9.999956e-01, 2.128511e-07, 1.506921e-07, 3.736055e-07, 8.957634e-07], dtype=float32),\n",
       " array([3.460190e-07, 4.178458e-09, 1.745712e-09, 9.999996e-01, 4.863172e-09], dtype=float32),\n",
       " array([9.999561e-01, 2.488586e-06, 2.377517e-06, 4.036745e-06, 1.593635e-05], dtype=float32),\n",
       " array([9.999938e-01, 3.106342e-07, 8.104682e-07, 4.218665e-07, 1.420199e-07], dtype=float32),\n",
       " array([8.675039e-04, 2.750470e-05, 9.993491e-01, 6.092013e-06, 8.341194e-06], dtype=float32),\n",
       " array([7.872315e-06, 9.999936e-01, 5.032923e-07, 8.817178e-07, 4.358027e-06], dtype=float32),\n",
       " array([5.675027e-06, 9.999948e-01, 8.867293e-07, 1.099889e-07, 6.706247e-07], dtype=float32),\n",
       " array([9.999537e-01, 2.165072e-06, 1.396764e-06, 1.225532e-06, 2.837010e-05], dtype=float32),\n",
       " array([3.067178e-02, 9.859600e-01, 6.014048e-05, 6.674790e-05, 2.264260e-03], dtype=float32),\n",
       " array([9.999920e-01, 2.783923e-07, 1.245154e-07, 3.449699e-07, 3.105411e-06], dtype=float32),\n",
       " array([1.502641e-08, 1.000000e+00, 1.027826e-09, 2.865736e-09, 9.252297e-09], dtype=float32),\n",
       " array([9.997261e-07, 3.682362e-07, 1.131608e-06, 7.057215e-07, 9.999938e-01], dtype=float32),\n",
       " array([9.999509e-01, 1.807283e-06, 2.007570e-06, 2.596228e-06, 2.610307e-05], dtype=float32),\n",
       " array([9.999000e-01, 4.716492e-06, 1.796931e-06, 1.872571e-06, 6.880400e-05], dtype=float32),\n",
       " array([4.457024e-06, 7.021032e-06, 9.999785e-01, 4.522248e-07, 3.515345e-05], dtype=float32),\n",
       " array([9.997546e-01, 5.530155e-05, 3.559615e-05, 1.337454e-05, 2.516943e-05], dtype=float32),\n",
       " array([9.994872e-01, 5.055231e-05, 2.879194e-05, 8.347144e-05, 1.942170e-04], dtype=float32),\n",
       " array([3.242188e-04, 4.366119e-04, 7.423592e-05, 9.980859e-01, 1.584329e-03], dtype=float32),\n",
       " array([9.999938e-01, 5.072803e-07, 4.340513e-07, 3.766658e-07, 1.437203e-06], dtype=float32),\n",
       " array([1.582487e-04, 2.901720e-06, 1.444681e-05, 1.349943e-06, 9.997885e-01], dtype=float32),\n",
       " array([1.321696e-07, 4.236772e-08, 5.023064e-08, 1.029349e-06, 9.999974e-01], dtype=float32),\n",
       " array([9.999994e-01, 2.559191e-08, 2.166760e-08, 2.130854e-08, 9.783381e-08], dtype=float32),\n",
       " array([8.503710e-08, 2.644183e-08, 9.831699e-08, 1.713310e-08, 9.999993e-01], dtype=float32),\n",
       " array([8.922562e-08, 3.632900e-07, 9.999982e-01, 4.335346e-07, 3.273131e-07], dtype=float32),\n",
       " array([9.915869e-01, 1.238271e-03, 1.102063e-03, 9.003309e-04, 6.928015e-05], dtype=float32),\n",
       " array([1.170385e-06, 6.428669e-06, 9.999871e-01, 2.867438e-06, 6.074093e-06], dtype=float32),\n",
       " array([1.145810e-04, 3.831728e-06, 6.050130e-06, 9.999195e-01, 3.118721e-06], dtype=float32),\n",
       " array([7.422353e-07, 9.312662e-07, 9.999979e-01, 1.877792e-07, 5.262555e-07], dtype=float32),\n",
       " array([5.883474e-09, 1.000000e+00, 2.875272e-10, 6.485770e-10, 2.534779e-09], dtype=float32),\n",
       " array([9.995809e-01, 1.199232e-06, 4.013736e-06, 4.451445e-07, 3.573881e-04], dtype=float32),\n",
       " array([9.995597e-01, 4.565327e-05, 5.994684e-05, 4.073193e-05, 1.875077e-04], dtype=float32),\n",
       " array([8.128606e-05, 2.712926e-07, 9.009269e-07, 1.361531e-07, 9.999092e-01], dtype=float32),\n",
       " array([1.543194e-05, 9.999940e-01, 7.538153e-08, 1.041578e-07, 1.191199e-06], dtype=float32),\n",
       " array([3.196533e-06, 1.664336e-05, 9.999703e-01, 2.278276e-06, 3.900871e-05], dtype=float32),\n",
       " array([1.000000e+00, 6.526460e-10, 5.004678e-10, 2.702296e-09, 4.376064e-09], dtype=float32),\n",
       " array([9.999756e-01, 1.136397e-06, 2.423519e-06, 3.747020e-07, 4.656220e-07], dtype=float32),\n",
       " array([4.758137e-04, 2.088041e-05, 5.150666e-05, 5.253341e-06, 9.993910e-01], dtype=float32),\n",
       " array([3.715085e-07, 2.365084e-06, 9.999974e-01, 2.251294e-07, 3.694159e-07], dtype=float32),\n",
       " array([9.999720e-01, 2.449051e-06, 3.162946e-06, 3.202288e-06, 5.619190e-06], dtype=float32),\n",
       " array([9.999603e-01, 4.115162e-06, 1.429949e-06, 4.391286e-06, 1.214222e-05], dtype=float32),\n",
       " array([2.314202e-09, 3.430028e-08, 1.000000e+00, 9.325570e-10, 7.756164e-09], dtype=float32),\n",
       " array([9.995604e-01, 2.970873e-05, 7.790676e-05, 9.406630e-05, 1.136725e-04], dtype=float32),\n",
       " array([3.594899e-08, 9.951763e-09, 2.714375e-08, 1.998223e-09, 9.999998e-01], dtype=float32),\n",
       " array([2.631164e-04, 9.966300e-01, 2.280743e-03, 1.928608e-05, 8.247256e-06], dtype=float32),\n",
       " array([9.999710e-01, 1.135536e-06, 6.236893e-07, 4.586692e-06, 7.130052e-06], dtype=float32),\n",
       " array([9.715328e-01, 2.759894e-04, 1.737872e-04, 8.947776e-04, 2.670515e-02], dtype=float32),\n",
       " array([1.347647e-05, 1.052361e-06, 1.813789e-06, 9.999830e-01, 1.707565e-06], dtype=float32),\n",
       " array([9.996920e-01, 4.424780e-07, 1.028426e-06, 1.843590e-04, 1.659655e-06], dtype=float32),\n",
       " array([9.999945e-01, 3.644469e-07, 5.066590e-07, 3.240080e-07, 1.143616e-06], dtype=float32),\n",
       " array([9.999931e-01, 5.184253e-08, 4.799426e-08, 2.612665e-08, 4.391495e-06], dtype=float32),\n",
       " array([5.266141e-04, 2.834680e-06, 2.548272e-06, 9.997234e-01, 1.056892e-05], dtype=float32),\n",
       " array([6.930340e-08, 9.999999e-01, 1.910573e-09, 4.311458e-09, 2.174104e-08], dtype=float32),\n",
       " array([5.709031e-09, 1.000000e+00, 1.702163e-09, 3.905394e-10, 7.889373e-09], dtype=float32),\n",
       " array([9.999982e-01, 4.525306e-08, 1.847494e-08, 1.207397e-07, 4.229227e-07], dtype=float32),\n",
       " array([9.999999e-01, 3.747418e-09, 6.078992e-10, 5.619364e-09, 1.734217e-08], dtype=float32),\n",
       " array([1.197873e-06, 3.907943e-06, 9.999920e-01, 6.210824e-07, 1.138660e-05], dtype=float32),\n",
       " array([5.001079e-04, 9.574064e-06, 5.432420e-06, 4.251499e-06, 9.995079e-01], dtype=float32),\n",
       " array([4.357894e-06, 8.535097e-05, 9.999624e-01, 7.244871e-07, 5.945725e-06], dtype=float32),\n",
       " array([9.999709e-01, 2.022761e-06, 1.260169e-06, 1.426661e-06, 1.149873e-05], dtype=float32),\n",
       " array([2.669409e-06, 9.426329e-07, 1.098252e-05, 9.999861e-01, 7.820860e-07], dtype=float32),\n",
       " array([9.999492e-01, 5.954606e-07, 4.434640e-07, 4.824524e-07, 3.728251e-05], dtype=float32),\n",
       " array([9.999882e-01, 8.000091e-07, 2.498622e-06, 6.908220e-07, 9.250939e-07], dtype=float32),\n",
       " array([2.393361e-04, 1.062411e-04, 1.108750e-03, 3.206799e-05, 9.987729e-01], dtype=float32),\n",
       " array([9.993296e-01, 9.079426e-05, 6.742545e-05, 1.314834e-04, 2.688084e-04], dtype=float32),\n",
       " array([9.999971e-01, 1.545919e-07, 1.214404e-07, 4.561077e-07, 2.043519e-07], dtype=float32),\n",
       " array([9.729471e-06, 5.230632e-07, 1.256800e-05, 6.139051e-07, 9.999701e-01], dtype=float32),\n",
       " array([9.999186e-01, 4.888013e-06, 3.103604e-06, 7.099344e-06, 4.023776e-05], dtype=float32),\n",
       " array([4.860855e-05, 2.597523e-06, 3.480733e-05, 3.679010e-06, 9.998907e-01], dtype=float32),\n",
       " array([5.753852e-09, 3.217172e-08, 1.000000e+00, 1.988516e-09, 2.170082e-08], dtype=float32),\n",
       " array([2.708830e-08, 1.764370e-07, 9.999998e-01, 7.809962e-09, 6.369762e-08], dtype=float32),\n",
       " array([9.997532e-01, 3.437723e-05, 2.078235e-05, 5.036787e-05, 1.062193e-04], dtype=float32),\n",
       " array([9.999913e-01, 7.567569e-07, 8.049829e-07, 2.869072e-07, 1.234507e-06], dtype=float32),\n",
       " array([9.999990e-01, 2.609333e-08, 1.920350e-08, 9.196562e-08, 8.276816e-08], dtype=float32),\n",
       " array([9.999914e-01, 6.643033e-07, 1.545606e-07, 1.105652e-06, 1.352671e-06], dtype=float32),\n",
       " array([6.010552e-06, 9.999943e-01, 3.407428e-07, 8.987841e-07, 3.964527e-06], dtype=float32),\n",
       " array([6.782147e-07, 3.379847e-07, 4.069043e-07, 7.857509e-08, 9.999968e-01], dtype=float32),\n",
       " array([4.099385e-02, 9.779885e-01, 4.242494e-04, 2.336025e-04, 6.786299e-03], dtype=float32),\n",
       " array([9.999541e-01, 3.911239e-06, 3.813806e-06, 1.745605e-06, 2.297283e-05], dtype=float32),\n",
       " array([9.999498e-01, 3.605152e-06, 2.389984e-06, 1.717740e-05, 3.554652e-06], dtype=float32),\n",
       " array([2.383245e-06, 8.309256e-07, 7.716803e-07, 9.999939e-01, 5.537514e-07], dtype=float32),\n",
       " array([9.999177e-01, 5.333296e-06, 2.871984e-06, 5.751216e-06, 4.201727e-05], dtype=float32),\n",
       " array([1.541341e-04, 1.254629e-05, 1.087551e-05, 1.327507e-05, 9.997624e-01], dtype=float32),\n",
       " array([9.998088e-01, 4.075570e-06, 4.417867e-06, 8.753088e-06, 1.392608e-04], dtype=float32),\n",
       " array([1.129708e-06, 7.373961e-08, 8.038324e-08, 9.999986e-01, 7.362956e-08], dtype=float32),\n",
       " array([9.904320e-01, 4.455037e-05, 3.200122e-05, 3.097340e-04, 7.705587e-03], dtype=float32),\n",
       " array([5.690400e-04, 2.368201e-06, 1.973008e-05, 1.465848e-06, 9.993788e-01], dtype=float32),\n",
       " array([4.763804e-06, 9.999846e-01, 4.240515e-07, 2.704381e-07, 1.435715e-04], dtype=float32),\n",
       " array([7.916456e-10, 1.314370e-08, 1.000000e+00, 2.831863e-09, 3.393106e-09], dtype=float32),\n",
       " array([6.942723e-04, 8.556042e-06, 1.806858e-05, 1.210113e-05, 9.992467e-01], dtype=float32),\n",
       " array([4.257494e-04, 1.503676e-05, 9.996595e-01, 1.174650e-06, 6.057867e-06], dtype=float32),\n",
       " array([1.060387e-06, 2.370562e-06, 9.999957e-01, 3.811039e-07, 2.310689e-06], dtype=float32),\n",
       " array([3.207028e-04, 9.998704e-01, 7.604625e-07, 6.738468e-07, 2.329614e-06], dtype=float32),\n",
       " array([1.880576e-03, 4.490165e-05, 1.235343e-04, 3.633054e-05, 9.979928e-01], dtype=float32),\n",
       " array([1.419103e-07, 9.999998e-01, 5.005693e-09, 3.246971e-08, 1.320289e-07], dtype=float32),\n",
       " array([9.997590e-01, 6.914456e-06, 1.623780e-05, 8.385284e-06, 1.360631e-04], dtype=float32),\n",
       " array([2.923497e-07, 7.914680e-07, 9.999928e-01, 2.820292e-06, 1.300151e-06], dtype=float32),\n",
       " array([9.999980e-01, 3.733714e-08, 4.160353e-08, 4.869050e-07, 4.962688e-08], dtype=float32),\n",
       " array([1.779325e-03, 7.843565e-05, 8.613109e-04, 3.764147e-05, 9.967077e-01], dtype=float32),\n",
       " array([9.999770e-01, 1.261542e-06, 4.197598e-06, 4.058533e-07, 5.370058e-06], dtype=float32),\n",
       " array([5.494459e-06, 9.999974e-01, 1.221240e-07, 3.441614e-08, 3.898633e-07], dtype=float32),\n",
       " array([7.182799e-05, 5.265517e-07, 6.927036e-07, 8.858886e-08, 9.999201e-01], dtype=float32),\n",
       " array([9.999968e-01, 1.778030e-07, 1.739120e-07, 1.486304e-07, 7.261874e-07], dtype=float32),\n",
       " array([9.999995e-01, 1.033953e-08, 1.240018e-08, 1.695175e-08, 9.498054e-08], dtype=float32),\n",
       " array([1.247483e-04, 4.464038e-06, 3.246357e-05, 2.360528e-05, 9.997486e-01], dtype=float32),\n",
       " array([9.999434e-01, 5.007166e-07, 7.572839e-07, 2.019537e-07, 4.329191e-05], dtype=float32),\n",
       " array([1.358912e-07, 1.099685e-08, 4.432095e-08, 2.858728e-08, 9.999993e-01], dtype=float32),\n",
       " array([1.698551e-06, 1.730391e-06, 9.999955e-01, 3.155058e-07, 1.085349e-06], dtype=float32),\n",
       " array([8.954576e-09, 3.831546e-07, 9.999996e-01, 8.158476e-09, 3.519133e-08], dtype=float32),\n",
       " array([9.999999e-01, 2.438808e-09, 1.391922e-09, 9.981227e-09, 1.231991e-08], dtype=float32),\n",
       " array([5.616912e-08, 2.163600e-09, 4.469717e-09, 4.064201e-09, 9.999998e-01], dtype=float32),\n",
       " array([7.232666e-07, 9.999994e-01, 3.065739e-08, 3.650376e-08, 4.230514e-07], dtype=float32),\n",
       " array([9.999920e-01, 2.479238e-07, 1.159625e-07, 2.783370e-07, 3.516367e-06], dtype=float32),\n",
       " array([9.999985e-01, 1.188787e-07, 1.674516e-07, 1.472826e-07, 1.391265e-07], dtype=float32),\n",
       " array([1.897974e-08, 2.505307e-07, 9.999996e-01, 3.927584e-08, 3.854888e-08], dtype=float32),\n",
       " array([9.999979e-01, 1.537865e-07, 2.595485e-07, 2.047578e-07, 1.389982e-07], dtype=float32),\n",
       " array([3.235601e-06, 2.003357e-07, 1.013485e-06, 1.617847e-07, 9.999924e-01], dtype=float32),\n",
       " array([7.263915e-06, 1.490855e-06, 1.481914e-06, 9.999876e-01, 1.687303e-06], dtype=float32),\n",
       " array([9.638610e-07, 5.917486e-08, 4.137712e-08, 9.999988e-01, 3.387411e-08], dtype=float32),\n",
       " array([1.845046e-05, 2.787671e-06, 5.034967e-06, 1.738869e-05, 9.999362e-01], dtype=float32),\n",
       " array([8.789422e-09, 8.969450e-08, 9.999999e-01, 3.797236e-09, 6.357710e-08], dtype=float32),\n",
       " array([9.999477e-01, 2.092954e-06, 1.108634e-06, 1.006799e-06, 3.462253e-05], dtype=float32),\n",
       " array([9.997527e-01, 5.207864e-06, 1.346300e-04, 5.514128e-06, 1.894371e-05], dtype=float32),\n",
       " array([4.130489e-07, 2.290988e-08, 8.536306e-09, 9.999995e-01, 1.669276e-08], dtype=float32),\n",
       " array([2.224920e-03, 3.345071e-04, 6.641643e-04, 5.626960e-04, 9.967824e-01], dtype=float32),\n",
       " array([9.996866e-01, 1.625515e-05, 1.013887e-05, 9.185987e-06, 2.305834e-04], dtype=float32),\n",
       " array([5.353512e-05, 7.373478e-06, 1.817491e-05, 4.734681e-06, 9.998968e-01], dtype=float32),\n",
       " array([1.541420e-05, 5.014161e-06, 1.059541e-05, 9.703830e-06, 9.999368e-01], dtype=float32),\n",
       " array([9.999752e-01, 3.493750e-06, 5.974977e-07, 4.449692e-07, 9.385932e-06], dtype=float32),\n",
       " array([9.998431e-01, 1.084335e-06, 4.903449e-06, 9.479264e-07, 8.133413e-05], dtype=float32),\n",
       " array([4.199578e-07, 4.201004e-07, 9.999989e-01, 7.308515e-08, 1.694437e-07], dtype=float32),\n",
       " array([9.999921e-01, 4.119694e-07, 1.355586e-07, 4.973125e-07, 2.468730e-06], dtype=float32),\n",
       " array([1.642181e-07, 9.999998e-01, 1.296685e-08, 3.986887e-08, 2.501587e-07], dtype=float32),\n",
       " array([9.999896e-01, 5.164485e-07, 2.435426e-06, 3.413035e-07, 7.173130e-07], dtype=float32),\n",
       " array([4.534886e-09, 8.519295e-08, 9.999999e-01, 6.192888e-09, 2.877458e-08], dtype=float32),\n",
       " array([2.250845e-08, 1.235741e-07, 9.999999e-01, 5.938243e-09, 4.269619e-08], dtype=float32),\n",
       " array([8.793684e-08, 7.763712e-09, 3.014807e-09, 9.999999e-01, 3.855938e-09], dtype=float32),\n",
       " array([2.105013e-07, 4.744154e-07, 9.999992e-01, 6.014183e-08, 1.731392e-07], dtype=float32),\n",
       " array([5.344046e-07, 9.999995e-01, 2.641834e-08, 2.038160e-08, 1.346913e-07], dtype=float32),\n",
       " array([1.000000e+00, 3.876525e-10, 2.796436e-10, 1.956489e-09, 1.770060e-09], dtype=float32),\n",
       " array([9.999926e-01, 3.655539e-07, 8.163653e-07, 1.330212e-07, 3.188789e-07], dtype=float32),\n",
       " array([9.999731e-01, 2.040297e-06, 4.190091e-06, 1.400236e-06, 5.601481e-06], dtype=float32),\n",
       " array([9.603408e-05, 9.755397e-01, 4.606835e-06, 8.827647e-06, 2.102227e-01], dtype=float32),\n",
       " array([9.629154e-01, 2.010104e-03, 1.209077e-03, 3.033972e-04, 3.508768e-02], dtype=float32),\n",
       " array([9.999952e-01, 2.499894e-07, 2.761257e-07, 2.585865e-07, 1.227731e-06], dtype=float32),\n",
       " array([2.913921e-08, 2.496421e-07, 9.999996e-01, 7.540393e-09, 1.316589e-07], dtype=float32),\n",
       " array([1.538891e-07, 2.909329e-08, 1.472282e-08, 9.999996e-01, 8.973297e-09], dtype=float32),\n",
       " array([8.026831e-06, 1.640856e-07, 9.046212e-07, 6.381753e-08, 9.999861e-01], dtype=float32),\n",
       " array([3.466106e-06, 5.724337e-07, 2.568439e-07, 9.999952e-01, 2.221747e-07], dtype=float32),\n",
       " array([2.664666e-06, 7.456980e-06, 9.999734e-01, 1.829237e-06, 4.187866e-05], dtype=float32),\n",
       " array([9.999952e-01, 5.252632e-08, 2.612939e-08, 4.663228e-07, 9.370418e-07], dtype=float32),\n",
       " array([2.149979e-07, 2.352628e-09, 7.464894e-09, 3.714612e-09, 9.999993e-01], dtype=float32),\n",
       " array([6.552103e-07, 4.976431e-06, 9.999959e-01, 2.796984e-07, 9.707751e-07], dtype=float32),\n",
       " array([1.489842e-08, 5.642226e-10, 3.195160e-10, 1.000000e+00, 4.627679e-10], dtype=float32),\n",
       " array([9.999856e-01, 5.892247e-07, 1.300502e-06, 1.346872e-07, 1.809061e-07], dtype=float32),\n",
       " array([1.079591e-07, 6.720429e-07, 9.999990e-01, 7.131986e-08, 3.468634e-07], dtype=float32),\n",
       " array([7.179167e-08, 1.054103e-08, 1.764940e-08, 8.604012e-09, 9.999996e-01], dtype=float32),\n",
       " array([5.709002e-07, 9.999995e-01, 2.529878e-08, 3.237330e-08, 2.668926e-07], dtype=float32),\n",
       " array([2.459971e-06, 9.999983e-01, 8.409738e-08, 7.331887e-08, 3.375748e-06], dtype=float32),\n",
       " array([1.155487e-07, 1.826124e-07, 9.999994e-01, 3.947584e-08, 2.290543e-07], dtype=float32),\n",
       " array([9.987721e-01, 2.208050e-05, 4.389310e-06, 1.563804e-05, 1.223644e-03], dtype=float32),\n",
       " array([9.999036e-01, 8.383749e-06, 2.990489e-05, 5.364981e-06, 3.261694e-06], dtype=float32),\n",
       " array([1.401332e-08, 1.000000e+00, 7.303059e-10, 1.245683e-09, 9.248839e-09], dtype=float32),\n",
       " array([3.032968e-07, 9.999993e-01, 2.977754e-08, 1.502792e-07, 3.898180e-07], dtype=float32),\n",
       " array([9.999949e-01, 2.692864e-07, 4.617404e-07, 2.438963e-07, 1.179468e-06], dtype=float32),\n",
       " array([8.681208e-09, 1.000000e+00, 4.551261e-10, 1.260376e-09, 6.850406e-09], dtype=float32),\n",
       " array([5.565666e-05, 3.409328e-04, 2.900411e-05, 9.993823e-01, 4.114320e-05], dtype=float32),\n",
       " array([5.845169e-05, 9.999464e-01, 3.242923e-06, 7.097028e-06, 7.579380e-05], dtype=float32),\n",
       " array([9.999954e-01, 3.957657e-07, 5.313505e-07, 2.274394e-07, 1.492594e-07], dtype=float32),\n",
       " array([1.600292e-06, 3.759397e-07, 1.795503e-06, 1.258271e-07, 9.999931e-01], dtype=float32),\n",
       " array([4.543062e-01, 1.033593e-03, 3.018380e-04, 6.260528e-05, 5.895241e-01], dtype=float32),\n",
       " array([3.845764e-06, 9.999924e-01, 9.859714e-07, 1.458041e-06, 1.840757e-06], dtype=float32),\n",
       " array([9.525155e-05, 9.996796e-01, 3.807123e-06, 2.289599e-04, 1.515388e-04], dtype=float32),\n",
       " array([1.014797e-05, 1.128771e-07, 6.302713e-08, 9.999931e-01, 1.584115e-07], dtype=float32),\n",
       " array([4.281200e-06, 1.173416e-05, 9.999846e-01, 2.377431e-06, 5.031683e-06], dtype=float32),\n",
       " array([8.078578e-05, 3.401932e-06, 1.312057e-06, 9.999470e-01, 3.072216e-06], dtype=float32),\n",
       " array([9.997409e-01, 1.742249e-06, 1.033601e-05, 7.647578e-07, 1.557153e-04], dtype=float32),\n",
       " array([1.280951e-06, 7.509418e-06, 9.999830e-01, 3.071726e-06, 8.849208e-06], dtype=float32),\n",
       " array([7.486636e-05, 4.618374e-06, 2.945872e-05, 8.118807e-06, 9.998660e-01], dtype=float32),\n",
       " array([3.399026e-06, 2.243243e-07, 8.529880e-08, 7.915331e-08, 9.999933e-01], dtype=float32),\n",
       " array([9.999907e-01, 2.592764e-07, 4.024849e-07, 5.089307e-08, 3.892866e-08], dtype=float32),\n",
       " array([1.465376e-06, 4.808383e-07, 2.054141e-06, 6.722781e-07, 9.999906e-01], dtype=float32),\n",
       " array([2.081599e-07, 9.999995e-01, 1.100067e-08, 1.316847e-07, 2.036831e-07], dtype=float32),\n",
       " array([3.970495e-07, 4.051355e-08, 1.515803e-07, 2.223539e-07, 9.999977e-01], dtype=float32),\n",
       " array([5.697428e-06, 9.999952e-01, 4.214563e-07, 5.179094e-07, 4.074195e-06], dtype=float32),\n",
       " array([1.151888e-05, 1.518034e-06, 1.552458e-06, 2.323347e-07, 9.999794e-01], dtype=float32),\n",
       " array([9.993110e-01, 1.534996e-04, 1.365784e-05, 6.354994e-05, 3.631877e-04], dtype=float32),\n",
       " array([1.061470e-05, 4.504321e-07, 2.034441e-06, 4.726564e-07, 9.999803e-01], dtype=float32),\n",
       " array([2.410484e-05, 7.545856e-07, 1.887384e-06, 3.782020e-07, 9.999626e-01], dtype=float32),\n",
       " array([9.999150e-01, 4.288720e-06, 3.707398e-06, 4.088550e-06, 4.936137e-05], dtype=float32),\n",
       " array([9.999518e-01, 4.656128e-06, 8.423157e-07, 2.945962e-06, 2.031520e-05], dtype=float32),\n",
       " array([2.726060e-03, 5.589792e-04, 5.590218e-04, 1.626984e-04, 9.963531e-01], dtype=float32),\n",
       " array([4.173962e-06, 1.948597e-05, 9.999784e-01, 3.640472e-06, 6.932045e-06], dtype=float32),\n",
       " array([2.530170e-07, 1.260679e-06, 9.999983e-01, 6.990920e-08, 9.381586e-07], dtype=float32),\n",
       " array([5.924681e-06, 2.361417e-06, 9.999858e-01, 3.387524e-07, 1.655351e-05], dtype=float32),\n",
       " array([1.098516e-04, 4.708520e-06, 4.183375e-06, 3.215021e-06, 9.998555e-01], dtype=float32),\n",
       " array([9.999919e-01, 1.503544e-07, 2.381390e-07, 1.867241e-07, 4.520054e-06], dtype=float32),\n",
       " array([2.475435e-07, 4.042293e-08, 3.335320e-08, 9.999995e-01, 2.017583e-08], dtype=float32),\n",
       " array([9.999987e-01, 6.988534e-08, 3.384118e-07, 2.380138e-08, 9.924187e-08], dtype=float32),\n",
       " array([1.260317e-05, 9.999834e-01, 3.359393e-07, 7.150741e-07, 7.480285e-05], dtype=float32),\n",
       " array([1.213623e-04, 9.999201e-01, 9.113199e-07, 1.532777e-06, 1.263293e-04], dtype=float32),\n",
       " array([2.413193e-05, 9.999896e-01, 5.128803e-07, 3.240204e-07, 7.785366e-06], dtype=float32),\n",
       " array([1.444628e-04, 1.083733e-06, 1.880144e-06, 2.403673e-07, 9.998434e-01], dtype=float32),\n",
       " array([3.471503e-07, 3.040408e-06, 9.999955e-01, 7.532382e-07, 8.720823e-07], dtype=float32),\n",
       " array([9.999999e-01, 1.961028e-09, 8.951634e-10, 1.045059e-08, 9.755835e-09], dtype=float32),\n",
       " array([8.431823e-08, 1.569614e-09, 6.891163e-09, 1.704941e-09, 9.999998e-01], dtype=float32),\n",
       " array([3.281997e-03, 1.360489e-05, 2.563874e-05, 6.262391e-05, 9.962612e-01], dtype=float32),\n",
       " array([9.999974e-01, 9.449301e-08, 3.682663e-08, 1.332977e-07, 7.286452e-07], dtype=float32),\n",
       " array([4.346716e-09, 2.262811e-09, 2.090922e-09, 4.619108e-10, 1.000000e+00], dtype=float32),\n",
       " array([5.565776e-07, 9.999994e-01, 4.620690e-08, 4.164012e-08, 1.732500e-07], dtype=float32),\n",
       " array([1.373760e-05, 1.034694e-06, 3.622622e-06, 2.150949e-07, 9.999709e-01], dtype=float32),\n",
       " array([2.321081e-08, 1.000000e+00, 7.962051e-10, 1.399945e-09, 1.045060e-08], dtype=float32),\n",
       " array([9.999678e-01, 1.945725e-06, 4.519753e-06, 6.847287e-06, 2.347155e-06], dtype=float32),\n",
       " array([9.998877e-01, 3.492614e-06, 2.028729e-06, 6.316164e-05, 1.887445e-06], dtype=float32),\n",
       " array([1.774706e-08, 3.106280e-09, 7.100666e-10, 1.000000e+00, 7.661661e-10], dtype=float32),\n",
       " array([9.999514e-01, 1.950621e-06, 8.895618e-06, 2.206834e-06, 9.070652e-06], dtype=float32),\n",
       " array([9.999927e-01, 8.637260e-07, 5.808536e-07, 1.910760e-07, 1.737450e-06], dtype=float32),\n",
       " array([2.085248e-05, 2.533031e-06, 6.495006e-06, 1.402716e-05, 9.999262e-01], dtype=float32),\n",
       " array([9.989997e-01, 1.462228e-04, 1.224827e-04, 3.321667e-05, 2.584639e-04], dtype=float32),\n",
       " array([9.999957e-01, 2.068769e-07, 2.737538e-07, 6.284454e-07, 3.942104e-07], dtype=float32),\n",
       " array([1.353893e-05, 1.608464e-06, 9.902015e-06, 7.781890e-07, 9.999639e-01], dtype=float32),\n",
       " array([1.201564e-05, 5.676450e-06, 9.999821e-01, 5.943814e-07, 6.124378e-06], dtype=float32),\n",
       " array([9.998137e-01, 2.946679e-06, 3.401277e-06, 1.920685e-06, 1.504296e-04], dtype=float32),\n",
       " array([9.999939e-01, 6.069705e-07, 8.870228e-07, 4.577375e-07, 7.850444e-07], dtype=float32),\n",
       " array([3.918209e-08, 1.000000e+00, 1.167990e-09, 5.906839e-09, 2.536971e-08], dtype=float32),\n",
       " array([4.993182e-09, 6.793574e-08, 9.999999e-01, 1.017366e-08, 4.105151e-08], dtype=float32),\n",
       " array([3.040877e-05, 2.269599e-07, 9.802700e-07, 2.826258e-07, 9.999582e-01], dtype=float32),\n",
       " array([7.154166e-07, 2.232474e-07, 3.054242e-07, 9.999980e-01, 1.071514e-07], dtype=float32),\n",
       " array([3.417334e-08, 2.884413e-07, 9.999995e-01, 2.482356e-08, 1.386116e-07], dtype=float32),\n",
       " array([9.999936e-01, 3.070149e-07, 2.418993e-07, 2.224500e-07, 2.364186e-06], dtype=float32),\n",
       " array([2.309226e-06, 7.705209e-06, 9.999903e-01, 1.153246e-06, 7.217292e-06], dtype=float32),\n",
       " array([6.304300e-07, 1.498568e-08, 3.287289e-08, 8.613240e-09, 9.999986e-01], dtype=float32),\n",
       " array([2.963115e-02, 9.850799e-01, 3.528630e-04, 3.253022e-04, 5.172774e-03], dtype=float32),\n",
       " array([3.029118e-07, 9.999998e-01, 5.874559e-09, 7.208556e-09, 5.348967e-07], dtype=float32),\n",
       " ...]"
      ]
     },
     "execution_count": 189,
     "metadata": {},
     "output_type": "execute_result"
    }
   ],
   "source": [
    "log_preds"
   ]
  },
  {
   "cell_type": "code",
   "execution_count": 190,
   "metadata": {},
   "outputs": [
    {
     "data": {
      "text/plain": [
       "array([1, 1, 2, 3, ..., 2, 5, 3, 1])"
      ]
     },
     "execution_count": 190,
     "metadata": {},
     "output_type": "execute_result"
    }
   ],
   "source": [
    "preds = np.argmax(log_preds, 1)+1\n",
    "preds"
   ]
  },
  {
   "cell_type": "code",
   "execution_count": 193,
   "metadata": {},
   "outputs": [
    {
     "data": {
      "text/plain": [
       "6252"
      ]
     },
     "execution_count": 193,
     "metadata": {},
     "output_type": "execute_result"
    }
   ],
   "source": [
    "len(log_preds)"
   ]
  },
  {
   "cell_type": "code",
   "execution_count": 196,
   "metadata": {},
   "outputs": [],
   "source": [
    "conf = np.amax(log_preds, 1)"
   ]
  },
  {
   "cell_type": "code",
   "execution_count": 197,
   "metadata": {},
   "outputs": [
    {
     "data": {
      "text/plain": [
       "0.45792294"
      ]
     },
     "execution_count": 197,
     "metadata": {},
     "output_type": "execute_result"
    }
   ],
   "source": [
    "min(conf)"
   ]
  },
  {
   "cell_type": "code",
   "execution_count": 198,
   "metadata": {},
   "outputs": [
    {
     "data": {
      "text/html": [
       "<div>\n",
       "<style scoped>\n",
       "    .dataframe tbody tr th:only-of-type {\n",
       "        vertical-align: middle;\n",
       "    }\n",
       "\n",
       "    .dataframe tbody tr th {\n",
       "        vertical-align: top;\n",
       "    }\n",
       "\n",
       "    .dataframe thead th {\n",
       "        text-align: right;\n",
       "    }\n",
       "</style>\n",
       "<table border=\"1\" class=\"dataframe\">\n",
       "  <thead>\n",
       "    <tr style=\"text-align: right;\">\n",
       "      <th></th>\n",
       "      <th>image</th>\n",
       "      <th>category</th>\n",
       "    </tr>\n",
       "  </thead>\n",
       "  <tbody>\n",
       "    <tr>\n",
       "      <th>0</th>\n",
       "      <td>2823080.jpg</td>\n",
       "      <td>1</td>\n",
       "    </tr>\n",
       "    <tr>\n",
       "      <th>1</th>\n",
       "      <td>2870024.jpg</td>\n",
       "      <td>1</td>\n",
       "    </tr>\n",
       "  </tbody>\n",
       "</table>\n",
       "</div>"
      ],
      "text/plain": [
       "         image  category\n",
       "0  2823080.jpg         1\n",
       "1  2870024.jpg         1"
      ]
     },
     "execution_count": 198,
     "metadata": {},
     "output_type": "execute_result"
    }
   ],
   "source": [
    "train_csv = pd.read_csv('data/train.csv');train_csv.head(2)"
   ]
  },
  {
   "cell_type": "code",
   "execution_count": 199,
   "metadata": {},
   "outputs": [],
   "source": [
    "submission = pd.DataFrame({'image': train_csv['image'], 'confidence': conf, 'pred': preds, 'category': train_csv['category']})"
   ]
  },
  {
   "cell_type": "code",
   "execution_count": 200,
   "metadata": {},
   "outputs": [
    {
     "data": {
      "text/html": [
       "<div>\n",
       "<style scoped>\n",
       "    .dataframe tbody tr th:only-of-type {\n",
       "        vertical-align: middle;\n",
       "    }\n",
       "\n",
       "    .dataframe tbody tr th {\n",
       "        vertical-align: top;\n",
       "    }\n",
       "\n",
       "    .dataframe thead th {\n",
       "        text-align: right;\n",
       "    }\n",
       "</style>\n",
       "<table border=\"1\" class=\"dataframe\">\n",
       "  <thead>\n",
       "    <tr style=\"text-align: right;\">\n",
       "      <th></th>\n",
       "      <th>image</th>\n",
       "      <th>confidence</th>\n",
       "      <th>pred</th>\n",
       "      <th>category</th>\n",
       "    </tr>\n",
       "  </thead>\n",
       "  <tbody>\n",
       "    <tr>\n",
       "      <th>0</th>\n",
       "      <td>2823080.jpg</td>\n",
       "      <td>0.999997</td>\n",
       "      <td>1</td>\n",
       "      <td>1</td>\n",
       "    </tr>\n",
       "    <tr>\n",
       "      <th>1</th>\n",
       "      <td>2870024.jpg</td>\n",
       "      <td>0.997904</td>\n",
       "      <td>1</td>\n",
       "      <td>1</td>\n",
       "    </tr>\n",
       "    <tr>\n",
       "      <th>2</th>\n",
       "      <td>2662125.jpg</td>\n",
       "      <td>0.987297</td>\n",
       "      <td>2</td>\n",
       "      <td>2</td>\n",
       "    </tr>\n",
       "    <tr>\n",
       "      <th>3</th>\n",
       "      <td>2900420.jpg</td>\n",
       "      <td>0.999971</td>\n",
       "      <td>3</td>\n",
       "      <td>3</td>\n",
       "    </tr>\n",
       "    <tr>\n",
       "      <th>4</th>\n",
       "      <td>2804883.jpg</td>\n",
       "      <td>0.999997</td>\n",
       "      <td>2</td>\n",
       "      <td>2</td>\n",
       "    </tr>\n",
       "  </tbody>\n",
       "</table>\n",
       "</div>"
      ],
      "text/plain": [
       "         image  confidence  pred  category\n",
       "0  2823080.jpg    0.999997     1         1\n",
       "1  2870024.jpg    0.997904     1         1\n",
       "2  2662125.jpg    0.987297     2         2\n",
       "3  2900420.jpg    0.999971     3         3\n",
       "4  2804883.jpg    0.999997     2         2"
      ]
     },
     "execution_count": 200,
     "metadata": {},
     "output_type": "execute_result"
    }
   ],
   "source": [
    "submission.head()"
   ]
  },
  {
   "cell_type": "code",
   "execution_count": 222,
   "metadata": {},
   "outputs": [
    {
     "data": {
      "text/html": [
       "<div>\n",
       "<style scoped>\n",
       "    .dataframe tbody tr th:only-of-type {\n",
       "        vertical-align: middle;\n",
       "    }\n",
       "\n",
       "    .dataframe tbody tr th {\n",
       "        vertical-align: top;\n",
       "    }\n",
       "\n",
       "    .dataframe thead th {\n",
       "        text-align: right;\n",
       "    }\n",
       "</style>\n",
       "<table border=\"1\" class=\"dataframe\">\n",
       "  <thead>\n",
       "    <tr style=\"text-align: right;\">\n",
       "      <th></th>\n",
       "      <th>image</th>\n",
       "      <th>confidence</th>\n",
       "      <th>pred</th>\n",
       "      <th>category</th>\n",
       "    </tr>\n",
       "  </thead>\n",
       "  <tbody>\n",
       "    <tr>\n",
       "      <th>334</th>\n",
       "      <td>2160815.jpg</td>\n",
       "      <td>0.457923</td>\n",
       "      <td>5</td>\n",
       "      <td>2</td>\n",
       "    </tr>\n",
       "    <tr>\n",
       "      <th>4326</th>\n",
       "      <td>2831345.jpg</td>\n",
       "      <td>0.472846</td>\n",
       "      <td>5</td>\n",
       "      <td>1</td>\n",
       "    </tr>\n",
       "    <tr>\n",
       "      <th>2154</th>\n",
       "      <td>2898495.jpg</td>\n",
       "      <td>0.523682</td>\n",
       "      <td>1</td>\n",
       "      <td>1</td>\n",
       "    </tr>\n",
       "    <tr>\n",
       "      <th>341</th>\n",
       "      <td>2876211.jpg</td>\n",
       "      <td>0.544852</td>\n",
       "      <td>5</td>\n",
       "      <td>1</td>\n",
       "    </tr>\n",
       "    <tr>\n",
       "      <th>2183</th>\n",
       "      <td>2872263.jpg</td>\n",
       "      <td>0.546522</td>\n",
       "      <td>4</td>\n",
       "      <td>2</td>\n",
       "    </tr>\n",
       "    <tr>\n",
       "      <th>936</th>\n",
       "      <td>2816481.jpg</td>\n",
       "      <td>0.589524</td>\n",
       "      <td>5</td>\n",
       "      <td>2</td>\n",
       "    </tr>\n",
       "    <tr>\n",
       "      <th>1107</th>\n",
       "      <td>1072012.jpg</td>\n",
       "      <td>0.632732</td>\n",
       "      <td>4</td>\n",
       "      <td>4</td>\n",
       "    </tr>\n",
       "    <tr>\n",
       "      <th>1094</th>\n",
       "      <td>2666067.jpg</td>\n",
       "      <td>0.635233</td>\n",
       "      <td>2</td>\n",
       "      <td>2</td>\n",
       "    </tr>\n",
       "    <tr>\n",
       "      <th>2464</th>\n",
       "      <td>2790267.jpg</td>\n",
       "      <td>0.646244</td>\n",
       "      <td>1</td>\n",
       "      <td>1</td>\n",
       "    </tr>\n",
       "    <tr>\n",
       "      <th>4836</th>\n",
       "      <td>2863890.jpg</td>\n",
       "      <td>0.660905</td>\n",
       "      <td>2</td>\n",
       "      <td>2</td>\n",
       "    </tr>\n",
       "    <tr>\n",
       "      <th>2611</th>\n",
       "      <td>2904652.jpg</td>\n",
       "      <td>0.667519</td>\n",
       "      <td>1</td>\n",
       "      <td>1</td>\n",
       "    </tr>\n",
       "    <tr>\n",
       "      <th>7</th>\n",
       "      <td>2843780.jpg</td>\n",
       "      <td>0.673441</td>\n",
       "      <td>1</td>\n",
       "      <td>5</td>\n",
       "    </tr>\n",
       "    <tr>\n",
       "      <th>278</th>\n",
       "      <td>2884323.jpg</td>\n",
       "      <td>0.685814</td>\n",
       "      <td>1</td>\n",
       "      <td>5</td>\n",
       "    </tr>\n",
       "    <tr>\n",
       "      <th>3153</th>\n",
       "      <td>2821044.jpg</td>\n",
       "      <td>0.692629</td>\n",
       "      <td>5</td>\n",
       "      <td>5</td>\n",
       "    </tr>\n",
       "    <tr>\n",
       "      <th>37</th>\n",
       "      <td>2904591.jpg</td>\n",
       "      <td>0.716875</td>\n",
       "      <td>5</td>\n",
       "      <td>5</td>\n",
       "    </tr>\n",
       "    <tr>\n",
       "      <th>4596</th>\n",
       "      <td>1119685.jpg</td>\n",
       "      <td>0.797685</td>\n",
       "      <td>2</td>\n",
       "      <td>2</td>\n",
       "    </tr>\n",
       "    <tr>\n",
       "      <th>2706</th>\n",
       "      <td>2792375.jpg</td>\n",
       "      <td>0.800315</td>\n",
       "      <td>5</td>\n",
       "      <td>1</td>\n",
       "    </tr>\n",
       "    <tr>\n",
       "      <th>2541</th>\n",
       "      <td>2671010.jpg</td>\n",
       "      <td>0.846649</td>\n",
       "      <td>2</td>\n",
       "      <td>2</td>\n",
       "    </tr>\n",
       "    <tr>\n",
       "      <th>5134</th>\n",
       "      <td>2101907.jpg</td>\n",
       "      <td>0.855087</td>\n",
       "      <td>2</td>\n",
       "      <td>2</td>\n",
       "    </tr>\n",
       "    <tr>\n",
       "      <th>3228</th>\n",
       "      <td>2806736.jpg</td>\n",
       "      <td>0.875987</td>\n",
       "      <td>5</td>\n",
       "      <td>5</td>\n",
       "    </tr>\n",
       "  </tbody>\n",
       "</table>\n",
       "</div>"
      ],
      "text/plain": [
       "            image  confidence  pred  category\n",
       "334   2160815.jpg    0.457923     5         2\n",
       "4326  2831345.jpg    0.472846     5         1\n",
       "2154  2898495.jpg    0.523682     1         1\n",
       "341   2876211.jpg    0.544852     5         1\n",
       "2183  2872263.jpg    0.546522     4         2\n",
       "936   2816481.jpg    0.589524     5         2\n",
       "1107  1072012.jpg    0.632732     4         4\n",
       "1094  2666067.jpg    0.635233     2         2\n",
       "2464  2790267.jpg    0.646244     1         1\n",
       "4836  2863890.jpg    0.660905     2         2\n",
       "2611  2904652.jpg    0.667519     1         1\n",
       "7     2843780.jpg    0.673441     1         5\n",
       "278   2884323.jpg    0.685814     1         5\n",
       "3153  2821044.jpg    0.692629     5         5\n",
       "37    2904591.jpg    0.716875     5         5\n",
       "4596  1119685.jpg    0.797685     2         2\n",
       "2706  2792375.jpg    0.800315     5         1\n",
       "2541  2671010.jpg    0.846649     2         2\n",
       "5134  2101907.jpg    0.855087     2         2\n",
       "3228  2806736.jpg    0.875987     5         5"
      ]
     },
     "execution_count": 222,
     "metadata": {},
     "output_type": "execute_result"
    }
   ],
   "source": [
    "df_sorted = submission.sort_values(by=['confidence'])\n",
    "df_sorted.head(20)"
   ]
  },
  {
   "cell_type": "code",
   "execution_count": 227,
   "metadata": {},
   "outputs": [
    {
     "data": {
      "text/plain": [
       "<matplotlib.axes._subplots.AxesSubplot at 0x7f800de28160>"
      ]
     },
     "execution_count": 227,
     "metadata": {},
     "output_type": "execute_result"
    },
    {
     "data": {
      "image/png": "[encoded data removed]",
      "text/plain": [
       "<Figure size 432x288 with 1 Axes>"
      ]
     },
     "metadata": {
      "needs_background": "light"
     },
     "output_type": "display_data"
    }
   ],
   "source": [
    "import seaborn as sns\n",
    "sns.boxplot(df_sorted.confidence)"
   ]
  },
  {
   "cell_type": "code",
   "execution_count": 202,
   "metadata": {},
   "outputs": [
    {
     "data": {
      "text/html": [
       "<div>\n",
       "<style scoped>\n",
       "    .dataframe tbody tr th:only-of-type {\n",
       "        vertical-align: middle;\n",
       "    }\n",
       "\n",
       "    .dataframe tbody tr th {\n",
       "        vertical-align: top;\n",
       "    }\n",
       "\n",
       "    .dataframe thead th {\n",
       "        text-align: right;\n",
       "    }\n",
       "</style>\n",
       "<table border=\"1\" class=\"dataframe\">\n",
       "  <thead>\n",
       "    <tr style=\"text-align: right;\">\n",
       "      <th></th>\n",
       "      <th>image</th>\n",
       "      <th>confidence</th>\n",
       "      <th>pred</th>\n",
       "      <th>category</th>\n",
       "    </tr>\n",
       "  </thead>\n",
       "  <tbody>\n",
       "    <tr>\n",
       "      <th>1901</th>\n",
       "      <td>2878411.jpg</td>\n",
       "      <td>1.0</td>\n",
       "      <td>2</td>\n",
       "      <td>2</td>\n",
       "    </tr>\n",
       "    <tr>\n",
       "      <th>2761</th>\n",
       "      <td>2720074.jpg</td>\n",
       "      <td>1.0</td>\n",
       "      <td>2</td>\n",
       "      <td>2</td>\n",
       "    </tr>\n",
       "    <tr>\n",
       "      <th>2759</th>\n",
       "      <td>1604225.jpg</td>\n",
       "      <td>1.0</td>\n",
       "      <td>4</td>\n",
       "      <td>4</td>\n",
       "    </tr>\n",
       "    <tr>\n",
       "      <th>1138</th>\n",
       "      <td>2863780.jpg</td>\n",
       "      <td>1.0</td>\n",
       "      <td>2</td>\n",
       "      <td>2</td>\n",
       "    </tr>\n",
       "    <tr>\n",
       "      <th>1877</th>\n",
       "      <td>2501490.jpg</td>\n",
       "      <td>1.0</td>\n",
       "      <td>4</td>\n",
       "      <td>4</td>\n",
       "    </tr>\n",
       "  </tbody>\n",
       "</table>\n",
       "</div>"
      ],
      "text/plain": [
       "            image  confidence  pred  category\n",
       "1901  2878411.jpg         1.0     2         2\n",
       "2761  2720074.jpg         1.0     2         2\n",
       "2759  1604225.jpg         1.0     4         4\n",
       "1138  2863780.jpg         1.0     2         2\n",
       "1877  2501490.jpg         1.0     4         4"
      ]
     },
     "execution_count": 202,
     "metadata": {},
     "output_type": "execute_result"
    }
   ],
   "source": [
    "df_sorted.tail()"
   ]
  },
  {
   "cell_type": "code",
   "execution_count": 233,
   "metadata": {},
   "outputs": [
    {
     "name": "stderr",
     "output_type": "stream",
     "text": [
      "/anaconda/envs/fastai_v1/lib/python3.6/site-packages/ipykernel_launcher.py:1: UserWarning: Boolean Series key will be reindexed to match DataFrame index.\n",
      "  \"\"\"Entry point for launching an IPython kernel.\n"
     ]
    }
   ],
   "source": [
    "df_lowest_conf = df_sorted.loc[(df_sorted['confidence'] < 0.85) | (df_sorted['confidence']>0.9)][df_sorted['category']!=df_sorted['pred']]"
   ]
  },
  {
   "cell_type": "code",
   "execution_count": 234,
   "metadata": {},
   "outputs": [
    {
     "data": {
      "text/html": [
       "<div>\n",
       "<style scoped>\n",
       "    .dataframe tbody tr th:only-of-type {\n",
       "        vertical-align: middle;\n",
       "    }\n",
       "\n",
       "    .dataframe tbody tr th {\n",
       "        vertical-align: top;\n",
       "    }\n",
       "\n",
       "    .dataframe thead th {\n",
       "        text-align: right;\n",
       "    }\n",
       "</style>\n",
       "<table border=\"1\" class=\"dataframe\">\n",
       "  <thead>\n",
       "    <tr style=\"text-align: right;\">\n",
       "      <th></th>\n",
       "      <th>image</th>\n",
       "      <th>confidence</th>\n",
       "      <th>pred</th>\n",
       "      <th>category</th>\n",
       "    </tr>\n",
       "  </thead>\n",
       "  <tbody>\n",
       "    <tr>\n",
       "      <th>334</th>\n",
       "      <td>2160815.jpg</td>\n",
       "      <td>0.457923</td>\n",
       "      <td>5</td>\n",
       "      <td>2</td>\n",
       "    </tr>\n",
       "    <tr>\n",
       "      <th>4326</th>\n",
       "      <td>2831345.jpg</td>\n",
       "      <td>0.472846</td>\n",
       "      <td>5</td>\n",
       "      <td>1</td>\n",
       "    </tr>\n",
       "    <tr>\n",
       "      <th>341</th>\n",
       "      <td>2876211.jpg</td>\n",
       "      <td>0.544852</td>\n",
       "      <td>5</td>\n",
       "      <td>1</td>\n",
       "    </tr>\n",
       "    <tr>\n",
       "      <th>2183</th>\n",
       "      <td>2872263.jpg</td>\n",
       "      <td>0.546522</td>\n",
       "      <td>4</td>\n",
       "      <td>2</td>\n",
       "    </tr>\n",
       "    <tr>\n",
       "      <th>936</th>\n",
       "      <td>2816481.jpg</td>\n",
       "      <td>0.589524</td>\n",
       "      <td>5</td>\n",
       "      <td>2</td>\n",
       "    </tr>\n",
       "    <tr>\n",
       "      <th>7</th>\n",
       "      <td>2843780.jpg</td>\n",
       "      <td>0.673441</td>\n",
       "      <td>1</td>\n",
       "      <td>5</td>\n",
       "    </tr>\n",
       "    <tr>\n",
       "      <th>278</th>\n",
       "      <td>2884323.jpg</td>\n",
       "      <td>0.685814</td>\n",
       "      <td>1</td>\n",
       "      <td>5</td>\n",
       "    </tr>\n",
       "    <tr>\n",
       "      <th>2706</th>\n",
       "      <td>2792375.jpg</td>\n",
       "      <td>0.800315</td>\n",
       "      <td>5</td>\n",
       "      <td>1</td>\n",
       "    </tr>\n",
       "    <tr>\n",
       "      <th>346</th>\n",
       "      <td>2866146.jpg</td>\n",
       "      <td>0.922293</td>\n",
       "      <td>1</td>\n",
       "      <td>5</td>\n",
       "    </tr>\n",
       "  </tbody>\n",
       "</table>\n",
       "</div>"
      ],
      "text/plain": [
       "            image  confidence  pred  category\n",
       "334   2160815.jpg    0.457923     5         2\n",
       "4326  2831345.jpg    0.472846     5         1\n",
       "341   2876211.jpg    0.544852     5         1\n",
       "2183  2872263.jpg    0.546522     4         2\n",
       "936   2816481.jpg    0.589524     5         2\n",
       "7     2843780.jpg    0.673441     1         5\n",
       "278   2884323.jpg    0.685814     1         5\n",
       "2706  2792375.jpg    0.800315     5         1\n",
       "346   2866146.jpg    0.922293     1         5"
      ]
     },
     "execution_count": 234,
     "metadata": {},
     "output_type": "execute_result"
    }
   ],
   "source": [
    "df_lowest_conf"
   ]
  },
  {
   "cell_type": "code",
   "execution_count": 235,
   "metadata": {},
   "outputs": [
    {
     "data": {
      "text/plain": [
       "9"
      ]
     },
     "execution_count": 235,
     "metadata": {},
     "output_type": "execute_result"
    }
   ],
   "source": [
    "len(df_lowest_conf)"
   ]
  },
  {
   "cell_type": "code",
   "execution_count": 237,
   "metadata": {},
   "outputs": [],
   "source": [
    "df_lowest_conf.to_csv('low_confidence.csv',index=False)"
   ]
  },
  {
   "cell_type": "code",
   "execution_count": 238,
   "metadata": {},
   "outputs": [],
   "source": [
    "new_train_df = train_csv[~train_csv['image'].isin(df_lowest_conf['image'])]"
   ]
  },
  {
   "cell_type": "code",
   "execution_count": 241,
   "metadata": {},
   "outputs": [
    {
     "data": {
      "text/plain": [
       "((6243, 2), (6252, 2))"
      ]
     },
     "execution_count": 241,
     "metadata": {},
     "output_type": "execute_result"
    }
   ],
   "source": [
    "new_train_df.shape,train_csv.shape"
   ]
  },
  {
   "cell_type": "code",
   "execution_count": 242,
   "metadata": {},
   "outputs": [],
   "source": [
    "new_train_df.to_csv('train.csv',index=False)"
   ]
  },
  {
   "cell_type": "markdown",
   "metadata": {},
   "source": [
    "## Train after cleaning"
   ]
  },
  {
   "cell_type": "code",
   "execution_count": 8,
   "metadata": {},
   "outputs": [],
   "source": [
    "np.random.seed(42)\n",
    "src = (ImageList.from_csv(PATH, 'train.csv', folder='train_resized')\n",
    "       .split_by_rand_pct(0)\n",
    "       .label_from_df(label_delim=' ')\n",
    "      .add_test_folder('test_resized'))"
   ]
  },
  {
   "cell_type": "code",
   "execution_count": 9,
   "metadata": {},
   "outputs": [],
   "source": [
    "data = (src.transform(tfms, size=src_size)\n",
    "        .databunch(bs=128).normalize(imagenet_stats))    "
   ]
  },
  {
   "cell_type": "code",
   "execution_count": 12,
   "metadata": {},
   "outputs": [],
   "source": [
    "learn=cnn_learner(data,models.vgg19_bn,metrics=metrics_custom).load('vgg19-5-imagenet-full-stage-8-noval')"
   ]
  },
  {
   "cell_type": "code",
   "execution_count": 13,
   "metadata": {},
   "outputs": [],
   "source": [
    "lr=3e-5"
   ]
  },
  {
   "cell_type": "code",
   "execution_count": 14,
   "metadata": {},
   "outputs": [],
   "source": [
    "#del learn_cln, db\n",
    "torch.cuda.empty_cache()"
   ]
  },
  {
   "cell_type": "code",
   "execution_count": 15,
   "metadata": {},
   "outputs": [
    {
     "data": {
      "text/html": [
       "<table border=\"1\" class=\"dataframe\">\n",
       "  <thead>\n",
       "    <tr style=\"text-align: left;\">\n",
       "      <th>epoch</th>\n",
       "      <th>train_loss</th>\n",
       "      <th>valid_loss</th>\n",
       "      <th>fbeta</th>\n",
       "      <th>accuracy_thresh</th>\n",
       "      <th>time</th>\n",
       "    </tr>\n",
       "  </thead>\n",
       "  <tbody>\n",
       "    <tr>\n",
       "      <td>0</td>\n",
       "      <td>0.004986</td>\n",
       "      <td>#na#</td>\n",
       "      <td>00:22</td>\n",
       "    </tr>\n",
       "    <tr>\n",
       "      <td>1</td>\n",
       "      <td>0.007253</td>\n",
       "      <td>#na#</td>\n",
       "      <td>00:18</td>\n",
       "    </tr>\n",
       "    <tr>\n",
       "      <td>2</td>\n",
       "      <td>0.006759</td>\n",
       "      <td>#na#</td>\n",
       "      <td>00:18</td>\n",
       "    </tr>\n",
       "    <tr>\n",
       "      <td>3</td>\n",
       "      <td>0.007133</td>\n",
       "      <td>#na#</td>\n",
       "      <td>00:18</td>\n",
       "    </tr>\n",
       "    <tr>\n",
       "      <td>4</td>\n",
       "      <td>0.006989</td>\n",
       "      <td>#na#</td>\n",
       "      <td>00:18</td>\n",
       "    </tr>\n",
       "  </tbody>\n",
       "</table>"
      ],
      "text/plain": [
       "<IPython.core.display.HTML object>"
      ]
     },
     "metadata": {},
     "output_type": "display_data"
    },
    {
     "ename": "AttributeError",
     "evalue": "'NoneType' object has no attribute 'to_f16'",
     "output_type": "error",
     "traceback": [
      "\u001b[0;31m---------------------------------------------------------------------------\u001b[0m",
      "\u001b[0;31mAttributeError\u001b[0m                            Traceback (most recent call last)",
      "\u001b[0;32m<ipython-input-15-b3eb3ed72a8c>\u001b[0m in \u001b[0;36m<module>\u001b[0;34m\u001b[0m\n\u001b[0;32m----> 1\u001b[0;31m \u001b[0mlearn\u001b[0m\u001b[0;34m.\u001b[0m\u001b[0mfit_one_cycle\u001b[0m\u001b[0;34m(\u001b[0m\u001b[0;36m5\u001b[0m\u001b[0;34m,\u001b[0m\u001b[0mmax_lr\u001b[0m\u001b[0;34m=\u001b[0m\u001b[0mslice\u001b[0m\u001b[0;34m(\u001b[0m\u001b[0mlr\u001b[0m\u001b[0;34m,\u001b[0m\u001b[0;36m1e-4\u001b[0m\u001b[0;34m)\u001b[0m\u001b[0;34m,\u001b[0m\u001b[0mwd\u001b[0m\u001b[0;34m=\u001b[0m\u001b[0;36m1e-3\u001b[0m\u001b[0;34m)\u001b[0m\u001b[0;34m.\u001b[0m\u001b[0mto_f16\u001b[0m\u001b[0;34m(\u001b[0m\u001b[0;34m)\u001b[0m\u001b[0;34m\u001b[0m\u001b[0;34m\u001b[0m\u001b[0m\n\u001b[0m",
      "\u001b[0;31mAttributeError\u001b[0m: 'NoneType' object has no attribute 'to_f16'"
     ]
    }
   ],
   "source": [
    "learn.fit_one_cycle(5,max_lr=slice(lr,1e-4),wd=1e-3).to_f16()"
   ]
  },
  {
   "cell_type": "code",
   "execution_count": 16,
   "metadata": {},
   "outputs": [],
   "source": [
    "learn.save('vgg19-5-imagenet-full-stage-8-noval-cleaned')"
   ]
  },
  {
   "cell_type": "code",
   "execution_count": 17,
   "metadata": {},
   "outputs": [
    {
     "data": {
      "text/html": [],
      "text/plain": [
       "<IPython.core.display.HTML object>"
      ]
     },
     "metadata": {},
     "output_type": "display_data"
    }
   ],
   "source": [
    "test_pred_tta=learn.TTA(ds_type=DatasetType.Test)\n",
    "preds = np.argmax(test_pred_tta[0], 1)\n",
    "a=array(preds)\n",
    "test_img_names = [Path(i).name for i in learn.data.test_ds.x.items]\n",
    "submission = pd.DataFrame({'image': test_img_names, 'category': a+1})\n",
    "submission.to_csv(PATH/'submission_vgg19_multisz-noval-cleaned.csv',index=False)"
   ]
  },
  {
   "cell_type": "code",
   "execution_count": null,
   "metadata": {},
   "outputs": [],
   "source": []
  }
 ],
 "metadata": {
  "kernelspec": {
   "display_name": "fastai v1",
   "language": "python",
   "name": "fastai_v1"
  },
  "language_info": {
   "codemirror_mode": {
    "name": "ipython",
    "version": 3
   },
   "file_extension": ".py",
   "mimetype": "text/x-python",
   "name": "python",
   "nbconvert_exporter": "python",
   "pygments_lexer": "ipython3",
   "version": "3.6.8"
  }
 },
 "nbformat": 4,
 "nbformat_minor": 2
}
